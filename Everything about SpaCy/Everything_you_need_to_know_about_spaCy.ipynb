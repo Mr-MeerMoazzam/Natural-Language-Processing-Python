{
 "cells": [
  {
   "cell_type": "markdown",
   "metadata": {},
   "source": [
    "<p style=\"text-align:center\">\n",
    "    <a href=\"https://www.linkedin.com/company/mt-learners/?viewAsMember=true\" target=\"_blank\">\n",
    "    <img src=\"https://github.com/Mr-MeerMoazzam/Mr-MeerMoazzam/blob/main/Untitled-2.jpg?raw=true\" width=\"200\" alt=\"MT Learners\"  />\n",
    "    </a>\n",
    "</p>"
   ]
  },
  {
   "cell_type": "markdown",
   "metadata": {},
   "source": [
    "# Introduction"
   ]
  },
  {
   "cell_type": "markdown",
   "metadata": {},
   "source": [
    "In this notebook, you will learn all you need to learn about spaCy, NER(Named Entity Recognition), and its implementation with Python. We will talk about the building blocks of spaCy 3 and RULE-BASED SpaCy in detail. After completing this blog, you will have all the theoretical and practical knowledge about spaCy and be able to design your own custom NER in spaCy 3, and you will have an understanding of pipes and pipelines in general, as well as the ones provided by spaCy specifically."
   ]
  },
  {
   "cell_type": "markdown",
   "metadata": {},
   "source": [
    "# Outline"
   ]
  },
  {
   "cell_type": "markdown",
   "metadata": {},
   "source": [
    "Here's a step-by-step outline of the notebook.\n",
    "<ol>\n",
    "    <li>Basic Definitions (NLP, SpaCy, NER, etc)</li>    \n",
    "    <li>Basics of SpaCy </li>\n",
    "    <li>SpaCy's Linguistic Annotation</li>\n",
    "    <li>Word Vectors</li>\n",
    "    <li>Pipelines in SpaCy</li>\n",
    "    <li>Rule-Based NER</li>\n",
    "    <li>RegEx Role in SpaCy</li>\n",
    "    <li>Build Custom NER</li>\n",
    "    <li>Closing Remarks</li>\n",
    "</ol>\n"
   ]
  },
  {
   "cell_type": "markdown",
   "metadata": {},
   "source": [
    "# Basic Definitions"
   ]
  },
  {
   "cell_type": "markdown",
   "metadata": {
    "id": "9iaAF8bVftFJ"
   },
   "source": [
    "## What is NLP?\n"
   ]
  },
  {
   "cell_type": "markdown",
   "metadata": {
    "id": "yqcTErh8f2MF"
   },
   "source": [
    "Computers and machines excel at working with tabular data or spreadsheets. But humans don't typically communicate in the form of tables; instead, they use words and sentences. Human speech and writing contain a great deal of unstructured text. Computer interpretation of such is therefore not very obvious. Natural language processing (NLP) is a Subfield of Artificial Intelligence that is the process of enabling computers to comprehend and extract useful information from unstructured text."
   ]
  },
  {
   "cell_type": "markdown",
   "metadata": {
    "id": "iMnW0BzGsW7g"
   },
   "source": [
    "## What is spaCy?"
   ]
  },
  {
   "cell_type": "markdown",
   "metadata": {
    "id": "hyFg8jGOsabD"
   },
   "source": [
    "SpaCy is a Python package for high-level Natural Language Processing (NLP), which is open-source and free. You should learn more about it if you work with text frequently. What, for example, is it about? What does the context of the phrase mean? What is being done to whom? Are there any brand names or product names mentioned? What texts share a lot of similarities?\n",
    "\n",
    "To create applications that analyze and understand massive amounts of text, you can employ spaCy, which is created expressly for usage in production environments. It can also be used to prepare the text for deep learning, develop information extraction or natural language understanding systems, etc."
   ]
  },
  {
   "cell_type": "markdown",
   "metadata": {},
   "source": [
    "# Named Entity Recognition  (NER)"
   ]
  },
  {
   "cell_type": "markdown",
   "metadata": {},
   "source": [
    "One of the most important entity detection techniques used in NLP is named entity recognition. Using the approach, it is possible to automatically scan complete texts, identify some key textual items, and classify such things into predetermined groups. To put it simply, it is the process of extracting named entities from the text, such as names of people, places, businesses, etc. Entities are the most important parts of a sentence, which can be noun phrases, verb phrases, or both. It is also referred to as entity identification, entity extraction, or entity chunking."
   ]
  },
  {
   "cell_type": "markdown",
   "metadata": {},
   "source": [
    "# Basic Building Blocks of SpaCy"
   ]
  },
  {
   "cell_type": "markdown",
   "metadata": {
    "id": "dzsw2JEyGZbD"
   },
   "source": [
    "## Install spacy and download small model\n",
    "\n",
    "\n"
   ]
  },
  {
   "cell_type": "code",
   "execution_count": null,
   "metadata": {
    "colab": {
     "base_uri": "https://localhost:8080/"
    },
    "id": "xvYE6gp2GLWu",
    "outputId": "36f7b4d0-6f78-4420-d894-34e5de86da11"
   },
   "outputs": [
    {
     "name": "stdout",
     "output_type": "stream",
     "text": [
      "Looking in indexes: https://pypi.org/simple, https://us-python.pkg.dev/colab-wheels/public/simple/\n",
      "Requirement already satisfied: spacy in /usr/local/lib/python3.7/dist-packages (3.4.2)\n",
      "Requirement already satisfied: setuptools in /usr/local/lib/python3.7/dist-packages (from spacy) (57.4.0)\n",
      "Requirement already satisfied: langcodes<4.0.0,>=3.2.0 in /usr/local/lib/python3.7/dist-packages (from spacy) (3.3.0)\n",
      "Requirement already satisfied: spacy-legacy<3.1.0,>=3.0.10 in /usr/local/lib/python3.7/dist-packages (from spacy) (3.0.10)\n",
      "Requirement already satisfied: jinja2 in /usr/local/lib/python3.7/dist-packages (from spacy) (2.11.3)\n",
      "Requirement already satisfied: packaging>=20.0 in /usr/local/lib/python3.7/dist-packages (from spacy) (21.3)\n",
      "Requirement already satisfied: typing-extensions<4.2.0,>=3.7.4 in /usr/local/lib/python3.7/dist-packages (from spacy) (4.1.1)\n",
      "Requirement already satisfied: cymem<2.1.0,>=2.0.2 in /usr/local/lib/python3.7/dist-packages (from spacy) (2.0.7)\n",
      "Requirement already satisfied: typer<0.5.0,>=0.3.0 in /usr/local/lib/python3.7/dist-packages (from spacy) (0.4.2)\n",
      "Requirement already satisfied: spacy-loggers<2.0.0,>=1.0.0 in /usr/local/lib/python3.7/dist-packages (from spacy) (1.0.3)\n",
      "Requirement already satisfied: requests<3.0.0,>=2.13.0 in /usr/local/lib/python3.7/dist-packages (from spacy) (2.23.0)\n",
      "Requirement already satisfied: numpy>=1.15.0 in /usr/local/lib/python3.7/dist-packages (from spacy) (1.21.6)\n",
      "Requirement already satisfied: preshed<3.1.0,>=3.0.2 in /usr/local/lib/python3.7/dist-packages (from spacy) (3.0.8)\n",
      "Requirement already satisfied: murmurhash<1.1.0,>=0.28.0 in /usr/local/lib/python3.7/dist-packages (from spacy) (1.0.9)\n",
      "Requirement already satisfied: wasabi<1.1.0,>=0.9.1 in /usr/local/lib/python3.7/dist-packages (from spacy) (0.10.1)\n",
      "Requirement already satisfied: catalogue<2.1.0,>=2.0.6 in /usr/local/lib/python3.7/dist-packages (from spacy) (2.0.8)\n",
      "Requirement already satisfied: tqdm<5.0.0,>=4.38.0 in /usr/local/lib/python3.7/dist-packages (from spacy) (4.64.1)\n",
      "Requirement already satisfied: srsly<3.0.0,>=2.4.3 in /usr/local/lib/python3.7/dist-packages (from spacy) (2.4.5)\n",
      "Requirement already satisfied: thinc<8.2.0,>=8.1.0 in /usr/local/lib/python3.7/dist-packages (from spacy) (8.1.5)\n",
      "Requirement already satisfied: pathy>=0.3.5 in /usr/local/lib/python3.7/dist-packages (from spacy) (0.6.2)\n",
      "Requirement already satisfied: pydantic!=1.8,!=1.8.1,<1.11.0,>=1.7.4 in /usr/local/lib/python3.7/dist-packages (from spacy) (1.10.2)\n",
      "Requirement already satisfied: zipp>=0.5 in /usr/local/lib/python3.7/dist-packages (from catalogue<2.1.0,>=2.0.6->spacy) (3.10.0)\n",
      "Requirement already satisfied: pyparsing!=3.0.5,>=2.0.2 in /usr/local/lib/python3.7/dist-packages (from packaging>=20.0->spacy) (3.0.9)\n",
      "Requirement already satisfied: smart-open<6.0.0,>=5.2.1 in /usr/local/lib/python3.7/dist-packages (from pathy>=0.3.5->spacy) (5.2.1)\n",
      "Requirement already satisfied: certifi>=2017.4.17 in /usr/local/lib/python3.7/dist-packages (from requests<3.0.0,>=2.13.0->spacy) (2022.9.24)\n",
      "Requirement already satisfied: chardet<4,>=3.0.2 in /usr/local/lib/python3.7/dist-packages (from requests<3.0.0,>=2.13.0->spacy) (3.0.4)\n",
      "Requirement already satisfied: idna<3,>=2.5 in /usr/local/lib/python3.7/dist-packages (from requests<3.0.0,>=2.13.0->spacy) (2.10)\n",
      "Requirement already satisfied: urllib3!=1.25.0,!=1.25.1,<1.26,>=1.21.1 in /usr/local/lib/python3.7/dist-packages (from requests<3.0.0,>=2.13.0->spacy) (1.24.3)\n",
      "Requirement already satisfied: blis<0.8.0,>=0.7.8 in /usr/local/lib/python3.7/dist-packages (from thinc<8.2.0,>=8.1.0->spacy) (0.7.9)\n",
      "Requirement already satisfied: confection<1.0.0,>=0.0.1 in /usr/local/lib/python3.7/dist-packages (from thinc<8.2.0,>=8.1.0->spacy) (0.0.3)\n",
      "Requirement already satisfied: click<9.0.0,>=7.1.1 in /usr/local/lib/python3.7/dist-packages (from typer<0.5.0,>=0.3.0->spacy) (7.1.2)\n",
      "Requirement already satisfied: MarkupSafe>=0.23 in /usr/local/lib/python3.7/dist-packages (from jinja2->spacy) (2.0.1)\n",
      "2022-11-06 05:40:32.285682: E tensorflow/stream_executor/cuda/cuda_driver.cc:271] failed call to cuInit: CUDA_ERROR_NO_DEVICE: no CUDA-capable device is detected\n",
      "Looking in indexes: https://pypi.org/simple, https://us-python.pkg.dev/colab-wheels/public/simple/\n",
      "Collecting en-core-web-sm==3.4.1\n",
      "  Downloading https://github.com/explosion/spacy-models/releases/download/en_core_web_sm-3.4.1/en_core_web_sm-3.4.1-py3-none-any.whl (12.8 MB)\n",
      "\u001b[K     |████████████████████████████████| 12.8 MB 21.5 MB/s \n",
      "\u001b[?25hRequirement already satisfied: spacy<3.5.0,>=3.4.0 in /usr/local/lib/python3.7/dist-packages (from en-core-web-sm==3.4.1) (3.4.2)\n",
      "Requirement already satisfied: wasabi<1.1.0,>=0.9.1 in /usr/local/lib/python3.7/dist-packages (from spacy<3.5.0,>=3.4.0->en-core-web-sm==3.4.1) (0.10.1)\n",
      "Requirement already satisfied: langcodes<4.0.0,>=3.2.0 in /usr/local/lib/python3.7/dist-packages (from spacy<3.5.0,>=3.4.0->en-core-web-sm==3.4.1) (3.3.0)\n",
      "Requirement already satisfied: thinc<8.2.0,>=8.1.0 in /usr/local/lib/python3.7/dist-packages (from spacy<3.5.0,>=3.4.0->en-core-web-sm==3.4.1) (8.1.5)\n",
      "Requirement already satisfied: preshed<3.1.0,>=3.0.2 in /usr/local/lib/python3.7/dist-packages (from spacy<3.5.0,>=3.4.0->en-core-web-sm==3.4.1) (3.0.8)\n",
      "Requirement already satisfied: numpy>=1.15.0 in /usr/local/lib/python3.7/dist-packages (from spacy<3.5.0,>=3.4.0->en-core-web-sm==3.4.1) (1.21.6)\n",
      "Requirement already satisfied: srsly<3.0.0,>=2.4.3 in /usr/local/lib/python3.7/dist-packages (from spacy<3.5.0,>=3.4.0->en-core-web-sm==3.4.1) (2.4.5)\n",
      "Requirement already satisfied: spacy-legacy<3.1.0,>=3.0.10 in /usr/local/lib/python3.7/dist-packages (from spacy<3.5.0,>=3.4.0->en-core-web-sm==3.4.1) (3.0.10)\n",
      "Requirement already satisfied: catalogue<2.1.0,>=2.0.6 in /usr/local/lib/python3.7/dist-packages (from spacy<3.5.0,>=3.4.0->en-core-web-sm==3.4.1) (2.0.8)\n",
      "Requirement already satisfied: typer<0.5.0,>=0.3.0 in /usr/local/lib/python3.7/dist-packages (from spacy<3.5.0,>=3.4.0->en-core-web-sm==3.4.1) (0.4.2)\n",
      "Requirement already satisfied: cymem<2.1.0,>=2.0.2 in /usr/local/lib/python3.7/dist-packages (from spacy<3.5.0,>=3.4.0->en-core-web-sm==3.4.1) (2.0.7)\n",
      "Requirement already satisfied: tqdm<5.0.0,>=4.38.0 in /usr/local/lib/python3.7/dist-packages (from spacy<3.5.0,>=3.4.0->en-core-web-sm==3.4.1) (4.64.1)\n",
      "Requirement already satisfied: packaging>=20.0 in /usr/local/lib/python3.7/dist-packages (from spacy<3.5.0,>=3.4.0->en-core-web-sm==3.4.1) (21.3)\n",
      "Requirement already satisfied: pathy>=0.3.5 in /usr/local/lib/python3.7/dist-packages (from spacy<3.5.0,>=3.4.0->en-core-web-sm==3.4.1) (0.6.2)\n",
      "Requirement already satisfied: setuptools in /usr/local/lib/python3.7/dist-packages (from spacy<3.5.0,>=3.4.0->en-core-web-sm==3.4.1) (57.4.0)\n",
      "Requirement already satisfied: jinja2 in /usr/local/lib/python3.7/dist-packages (from spacy<3.5.0,>=3.4.0->en-core-web-sm==3.4.1) (2.11.3)\n",
      "Requirement already satisfied: murmurhash<1.1.0,>=0.28.0 in /usr/local/lib/python3.7/dist-packages (from spacy<3.5.0,>=3.4.0->en-core-web-sm==3.4.1) (1.0.9)\n",
      "Requirement already satisfied: spacy-loggers<2.0.0,>=1.0.0 in /usr/local/lib/python3.7/dist-packages (from spacy<3.5.0,>=3.4.0->en-core-web-sm==3.4.1) (1.0.3)\n",
      "Requirement already satisfied: pydantic!=1.8,!=1.8.1,<1.11.0,>=1.7.4 in /usr/local/lib/python3.7/dist-packages (from spacy<3.5.0,>=3.4.0->en-core-web-sm==3.4.1) (1.10.2)\n",
      "Requirement already satisfied: requests<3.0.0,>=2.13.0 in /usr/local/lib/python3.7/dist-packages (from spacy<3.5.0,>=3.4.0->en-core-web-sm==3.4.1) (2.23.0)\n",
      "Requirement already satisfied: typing-extensions<4.2.0,>=3.7.4 in /usr/local/lib/python3.7/dist-packages (from spacy<3.5.0,>=3.4.0->en-core-web-sm==3.4.1) (4.1.1)\n",
      "Requirement already satisfied: zipp>=0.5 in /usr/local/lib/python3.7/dist-packages (from catalogue<2.1.0,>=2.0.6->spacy<3.5.0,>=3.4.0->en-core-web-sm==3.4.1) (3.10.0)\n",
      "Requirement already satisfied: pyparsing!=3.0.5,>=2.0.2 in /usr/local/lib/python3.7/dist-packages (from packaging>=20.0->spacy<3.5.0,>=3.4.0->en-core-web-sm==3.4.1) (3.0.9)\n",
      "Requirement already satisfied: smart-open<6.0.0,>=5.2.1 in /usr/local/lib/python3.7/dist-packages (from pathy>=0.3.5->spacy<3.5.0,>=3.4.0->en-core-web-sm==3.4.1) (5.2.1)\n",
      "Requirement already satisfied: urllib3!=1.25.0,!=1.25.1,<1.26,>=1.21.1 in /usr/local/lib/python3.7/dist-packages (from requests<3.0.0,>=2.13.0->spacy<3.5.0,>=3.4.0->en-core-web-sm==3.4.1) (1.24.3)\n",
      "Requirement already satisfied: chardet<4,>=3.0.2 in /usr/local/lib/python3.7/dist-packages (from requests<3.0.0,>=2.13.0->spacy<3.5.0,>=3.4.0->en-core-web-sm==3.4.1) (3.0.4)\n",
      "Requirement already satisfied: idna<3,>=2.5 in /usr/local/lib/python3.7/dist-packages (from requests<3.0.0,>=2.13.0->spacy<3.5.0,>=3.4.0->en-core-web-sm==3.4.1) (2.10)\n",
      "Requirement already satisfied: certifi>=2017.4.17 in /usr/local/lib/python3.7/dist-packages (from requests<3.0.0,>=2.13.0->spacy<3.5.0,>=3.4.0->en-core-web-sm==3.4.1) (2022.9.24)\n",
      "Requirement already satisfied: confection<1.0.0,>=0.0.1 in /usr/local/lib/python3.7/dist-packages (from thinc<8.2.0,>=8.1.0->spacy<3.5.0,>=3.4.0->en-core-web-sm==3.4.1) (0.0.3)\n",
      "Requirement already satisfied: blis<0.8.0,>=0.7.8 in /usr/local/lib/python3.7/dist-packages (from thinc<8.2.0,>=8.1.0->spacy<3.5.0,>=3.4.0->en-core-web-sm==3.4.1) (0.7.9)\n",
      "Requirement already satisfied: click<9.0.0,>=7.1.1 in /usr/local/lib/python3.7/dist-packages (from typer<0.5.0,>=0.3.0->spacy<3.5.0,>=3.4.0->en-core-web-sm==3.4.1) (7.1.2)\n",
      "Requirement already satisfied: MarkupSafe>=0.23 in /usr/local/lib/python3.7/dist-packages (from jinja2->spacy<3.5.0,>=3.4.0->en-core-web-sm==3.4.1) (2.0.1)\n",
      "\u001b[38;5;2m✔ Download and installation successful\u001b[0m\n",
      "You can now load the package via spacy.load('en_core_web_sm')\n"
     ]
    }
   ],
   "source": [
    "!pip install spacy\n",
    "!python -m spacy download en_core_web_sm"
   ]
  },
  {
   "cell_type": "markdown",
   "metadata": {
    "id": "0DUsRDEozaxl"
   },
   "source": [
    "# Spacy's Container"
   ]
  },
  {
   "cell_type": "markdown",
   "metadata": {
    "id": "g_zkDp6izdcz"
   },
   "source": [
    "Containers are spaCy objects that hold a lot of information about a text. Using the spaCy framework, we design several container objects to analyze texts. You should be familiar with the following list of spaCy containers.<br>\n",
    "**1. Doc**<br>\n",
    "A collection of token objects make up Doc, storage space for linguistic annotations. Sentencing and named entities can both be accessed with the use of the Doc class. Annotations can also be exported to NumPy arrays and serialized to compressed binary text.<br> \n",
    "**2. Token**<br>\n",
    "A token, as its name suggests, represents a single element, such as a word, a period, a space, or a symbol.<br>\n",
    "**3. Span**<br>\n",
    "Span is a slice from the earlier-discussed Doc object.<br>\n",
    "**4. Lexeme**<br>\n",
    "You may describe it as a vocabulary word. A Lexeme does not have a string context, in contrast to a word token. It is a word type, hence it lacks a PoS (Part-of-Speech) tag, dependency parse, or lemma."
   ]
  },
  {
   "cell_type": "markdown",
   "metadata": {
    "id": "Fon51d_8CMni"
   },
   "source": [
    "# SpaCy's Linguistic Annotation"
   ]
  },
  {
   "cell_type": "markdown",
   "metadata": {
    "id": "aAXWbHxBGpwh"
   },
   "source": [
    "## Importing spaCy and loading data"
   ]
  },
  {
   "cell_type": "code",
   "execution_count": 32,
   "metadata": {
    "colab": {
     "base_uri": "https://localhost:8080/",
     "height": 210
    },
    "id": "Js78Mm67Da7B",
    "outputId": "b90a9d77-67e7-4c93-dcb5-691dc463c557"
   },
   "outputs": [
    {
     "name": "stdout",
     "output_type": "stream",
     "text": [
      "The United States of America (U.S.A. or USA), commonly known as the United States (U.S. or US) or America, is a transcontinental country primarily located in North America. It consists of 50 states, a federal district, five major unincorporated territories, nine minor outlying islands,[i] and 326 Indian reservations with limited sovereignty. It is the third-largest country by both land and total area.[c] The United States shares land borders with Canada to the north and with Mexico to the south as well as maritime borders with the Bahamas, Cuba, and Russia, among others.[j] It has a population of over 331 million,[d] and is the third most populous country in the world. The national capital is Washington, D.C., and the most populous city and financial center is New York City. The United States is a melting pot of cultures and ethnicities, and its population has been profoundly shaped by centuries of immigration. It has a highly diverse climate and geography and is officially recognized as one of the 17 ecologically megadiverse countries.\n",
      "\n",
      "Paleo-aboriginals migrated from Siberia to the North American mainland at least 12,000 years ago, and advanced cultures began to appear later on. These advanced cultures had almost completely declined by the time European colonists showed up in the 16th century. The United States emerged from the Thirteen British Colonies established along the East Coast, when disputes with their colonial overlords over taxation and political representation led to the American Revolution (1765–1784), which established the nation's independence. In the late 18th century, the U.S. began expanding across North America, gradually obtaining new territories, sometimes through war, frequently displacing Native Americans, and admitting new states. This was strongly related to belief in manifest destiny, and by 1848, the United States spanned the continent from east to west. The controversy surrounding the continued practice of slavery in the Southern states in light of the ongoing abolitionist movement culminated in their secession and unification under the Confederate States of America, which fought the United States (the Union) during the American Civil War (1861–1865). The Union's victory preserved the United States, and slavery was abolished with the ratification of the Thirteenth Amendment.\n",
      "\n",
      "The Spanish–American War and World War I established the U.S. as a world power, and the aftermath of World War II left the United States and the Soviet Union as the world's two superpowers. During the Cold War, both countries engaged in a struggle for ideological dominance, but avoided direct military conflict. They also competed in the Space Race, which culminated in the 1969 American spaceflight that first landed humans on the Moon. Simultaneously, the civil rights movement led to legislation outlawing racial discrimination against African Americans. The Soviet Union's dissolution in 1991 ended the Cold War, leaving the United States as the world's sole superpower. The September 11 attacks in 2001 resulted in the United States launching the war on terror, which included the War in Afghanistan (2001–2021) and the Iraq War (2003–2011).\n",
      "\n",
      "The United States is a federal republic with three separate branches of government, including a bicameral legislature. It is a liberal democracy and market economy; it ranks high in international measures of human rights, quality of life, income and wealth, economic competitiveness, and education; and it has low levels of perceived corruption. It has high levels of incarceration and inequality, retains capital punishment, and lacks universal health care.\n",
      "\n",
      "The United States is a highly developed country, and its economy accounts for approximately a quarter of global GDP and is the world's largest by GDP at market exchange rates. By value, the United States is the world's largest importer and second-largest exporter. Although it accounts for just over 4.2% of the world's total population, the U.S. holds over 30% of the total wealth in the world, the largest share held by any country. The United States is a founding member of the United Nations, World Bank, International Monetary Fund, Organization of American States, NATO, and a permanent member of the United Nations Security Council. The country makes up more than a third of global military spending, and is the foremost military power in the world and a leading political, cultural, and scientific force.\n"
     ]
    }
   ],
   "source": [
    "import spacy\n",
    "nlp=spacy.load(\"en_core_web_sm\")\n",
    "#loading data of U.S. for analysis\n",
    "with open(\"wiki_us.txt\",\"r\") as f:\n",
    "     text=f.read()\n",
    "\n",
    "print(text)"
   ]
  },
  {
   "cell_type": "markdown",
   "metadata": {
    "id": "FExF-FH0Dx6I"
   },
   "source": [
    "## Create Doc container"
   ]
  },
  {
   "cell_type": "code",
   "execution_count": 33,
   "metadata": {
    "id": "slKwiqR2DcjZ"
   },
   "outputs": [],
   "source": [
    "doc = nlp(text)"
   ]
  },
  {
   "cell_type": "code",
   "execution_count": 34,
   "metadata": {
    "colab": {
     "base_uri": "https://localhost:8080/"
    },
    "id": "OY2fxzYADulq",
    "outputId": "fcacb5f0-c5a5-4549-e263-fa7771ff3e5c"
   },
   "outputs": [
    {
     "data": {
      "text/plain": [
       "The United States of America (U.S.A. or USA), commonly known as the United States (U.S. or US) or America, is a transcontinental country primarily located in North America. It consists of 50 states, a federal district, five major unincorporated territories, nine minor outlying islands,[i] and 326 Indian reservations with limited sovereignty. It is the third-largest country by both land and total area.[c] The United States shares land borders with Canada to the north and with Mexico to the south as well as maritime borders with the Bahamas, Cuba, and Russia, among others.[j] It has a population of over 331 million,[d] and is the third most populous country in the world. The national capital is Washington, D.C., and the most populous city and financial center is New York City. The United States is a melting pot of cultures and ethnicities, and its population has been profoundly shaped by centuries of immigration. It has a highly diverse climate and geography and is officially recognized as one of the 17 ecologically megadiverse countries.\n",
       "\n",
       "Paleo-aboriginals migrated from Siberia to the North American mainland at least 12,000 years ago, and advanced cultures began to appear later on. These advanced cultures had almost completely declined by the time European colonists showed up in the 16th century. The United States emerged from the Thirteen British Colonies established along the East Coast, when disputes with their colonial overlords over taxation and political representation led to the American Revolution (1765–1784), which established the nation's independence. In the late 18th century, the U.S. began expanding across North America, gradually obtaining new territories, sometimes through war, frequently displacing Native Americans, and admitting new states. This was strongly related to belief in manifest destiny, and by 1848, the United States spanned the continent from east to west. The controversy surrounding the continued practice of slavery in the Southern states in light of the ongoing abolitionist movement culminated in their secession and unification under the Confederate States of America, which fought the United States (the Union) during the American Civil War (1861–1865). The Union's victory preserved the United States, and slavery was abolished with the ratification of the Thirteenth Amendment.\n",
       "\n",
       "The Spanish–American War and World War I established the U.S. as a world power, and the aftermath of World War II left the United States and the Soviet Union as the world's two superpowers. During the Cold War, both countries engaged in a struggle for ideological dominance, but avoided direct military conflict. They also competed in the Space Race, which culminated in the 1969 American spaceflight that first landed humans on the Moon. Simultaneously, the civil rights movement led to legislation outlawing racial discrimination against African Americans. The Soviet Union's dissolution in 1991 ended the Cold War, leaving the United States as the world's sole superpower. The September 11 attacks in 2001 resulted in the United States launching the war on terror, which included the War in Afghanistan (2001–2021) and the Iraq War (2003–2011).\n",
       "\n",
       "The United States is a federal republic with three separate branches of government, including a bicameral legislature. It is a liberal democracy and market economy; it ranks high in international measures of human rights, quality of life, income and wealth, economic competitiveness, and education; and it has low levels of perceived corruption. It has high levels of incarceration and inequality, retains capital punishment, and lacks universal health care.\n",
       "\n",
       "The United States is a highly developed country, and its economy accounts for approximately a quarter of global GDP and is the world's largest by GDP at market exchange rates. By value, the United States is the world's largest importer and second-largest exporter. Although it accounts for just over 4.2% of the world's total population, the U.S. holds over 30% of the total wealth in the world, the largest share held by any country. The United States is a founding member of the United Nations, World Bank, International Monetary Fund, Organization of American States, NATO, and a permanent member of the United Nations Security Council. The country makes up more than a third of global military spending, and is the foremost military power in the world and a leading political, cultural, and scientific force."
      ]
     },
     "execution_count": 34,
     "metadata": {},
     "output_type": "execute_result"
    }
   ],
   "source": [
    "doc"
   ]
  },
  {
   "cell_type": "markdown",
   "metadata": {},
   "source": [
    "## Difference Between doc and text object"
   ]
  },
  {
   "cell_type": "code",
   "execution_count": 35,
   "metadata": {
    "colab": {
     "base_uri": "https://localhost:8080/"
    },
    "id": "tTZ1C9CEDvKw",
    "outputId": "833391ab-744a-4501-c1ad-9d91059640d3"
   },
   "outputs": [
    {
     "name": "stdout",
     "output_type": "stream",
     "text": [
      "811\n",
      "4468\n"
     ]
    }
   ],
   "source": [
    "print(len(doc))\n",
    "print(len(text))\n"
   ]
  },
  {
   "cell_type": "code",
   "execution_count": 36,
   "metadata": {
    "colab": {
     "base_uri": "https://localhost:8080/"
    },
    "id": "gq8ZE-_ND81G",
    "outputId": "587e5ab2-ffe5-4b48-b23a-4dca7069e768"
   },
   "outputs": [
    {
     "name": "stdout",
     "output_type": "stream",
     "text": [
      "The\n",
      "United\n",
      "States\n",
      "of\n",
      "America\n",
      "(\n",
      "U.S.A.\n",
      "or\n",
      "USA\n",
      ")\n"
     ]
    }
   ],
   "source": [
    "for token in doc[:10]:\n",
    "  print(token)"
   ]
  },
  {
   "cell_type": "code",
   "execution_count": 37,
   "metadata": {
    "colab": {
     "base_uri": "https://localhost:8080/"
    },
    "id": "9a_dWV7iEQGX",
    "outputId": "2b0ffecb-3977-44ed-eeaa-f05b00bd8023"
   },
   "outputs": [
    {
     "name": "stdout",
     "output_type": "stream",
     "text": [
      "The\n",
      "United\n",
      "States\n",
      "of\n",
      "America\n",
      "(U.S.A.\n",
      "or\n",
      "USA),\n",
      "commonly\n",
      "known\n"
     ]
    }
   ],
   "source": [
    "for token in text.split()[:10]:\n",
    "  print(token)"
   ]
  },
  {
   "cell_type": "markdown",
   "metadata": {
    "id": "pZ54k1QNEjXo"
   },
   "source": [
    "<b>Note:</b>\n",
    "Through NLP we easily split word to word but using split is not possible in real world scenarios."
   ]
  },
  {
   "cell_type": "markdown",
   "metadata": {
    "id": "6LvLfgEZFIOu"
   },
   "source": [
    "## Sentence Boundry Detection\n"
   ]
  },
  {
   "cell_type": "markdown",
   "metadata": {
    "id": "3J5YtmXwFejO"
   },
   "source": [
    "Sentence boundary detection, often known as SBD in NLP, is the process of identifying sentences in a text. Again, using rules might make this look rather simple to accomplish. Although one may use split(\".\"), in English we also use the period to indicate abbreviation. Again, I wonder, \"why bother?\" You might create rules to check for periods that are not followed by a lowercase word. All phrases may be entirely split using SBD in a matter of seconds using spaCy.\n",
    "\n",
    "By using the attribute sents, we can use the following syntax to retrieve the sentences in the Doc container:"
   ]
  },
  {
   "cell_type": "code",
   "execution_count": 38,
   "metadata": {
    "colab": {
     "base_uri": "https://localhost:8080/"
    },
    "id": "pUOL44BMGA-l",
    "outputId": "ccc14510-b0f5-4fb9-fc1c-d8ccd15f9fbf"
   },
   "outputs": [
    {
     "name": "stdout",
     "output_type": "stream",
     "text": [
      "The United States of America (U.S.A. or USA), commonly known as the United States (U.S. or US) or America, is a transcontinental country primarily located in North America.\n",
      "Next Sentence\n",
      "It consists of 50 states, a federal district, five major unincorporated territories, nine minor outlying islands,[i] and 326 Indian reservations with limited sovereignty.\n",
      "Next Sentence\n",
      "It is the third-largest country by both land and total area.[c] The United States shares land borders with Canada to the north and with Mexico to the south as well as maritime borders with the Bahamas, Cuba, and Russia, among others.[j]\n",
      "Next Sentence\n",
      "It has a population of over 331 million,[d] and is the third most populous country in the world.\n",
      "Next Sentence\n",
      "The national capital is Washington, D.C., and the most populous city and financial center is New York City.\n",
      "Next Sentence\n",
      "The United States is a melting pot of cultures and ethnicities, and its population has been profoundly shaped by centuries of immigration.\n",
      "Next Sentence\n",
      "It has a highly diverse climate and geography and is officially recognized as one of the 17 ecologically megadiverse countries.\n",
      "\n",
      "\n",
      "Next Sentence\n",
      "Paleo-aboriginals migrated from Siberia to the North American mainland at least 12,000 years ago, and advanced cultures began to appear later on.\n",
      "Next Sentence\n",
      "These advanced cultures had almost completely declined by the time European colonists showed up in the 16th century.\n",
      "Next Sentence\n",
      "The United States emerged from the Thirteen British Colonies established along the East Coast, when disputes with their colonial overlords over taxation and political representation led to the American Revolution (1765–1784), which established the nation's independence.\n",
      "Next Sentence\n",
      "In the late 18th century, the U.S. began expanding across North America, gradually obtaining new territories, sometimes through war, frequently displacing Native Americans, and admitting new states.\n",
      "Next Sentence\n",
      "This was strongly related to belief in manifest destiny, and by 1848, the United States spanned the continent from east to west.\n",
      "Next Sentence\n",
      "The controversy surrounding the continued practice of slavery in the Southern states in light of the ongoing abolitionist movement culminated in their secession and unification under the Confederate States of America, which fought the United States (the Union) during the American Civil War (1861–1865).\n",
      "Next Sentence\n",
      "The Union's victory preserved the United States, and slavery was abolished with the ratification of the Thirteenth Amendment.\n",
      "\n",
      "\n",
      "Next Sentence\n",
      "The Spanish–American War and World War\n",
      "Next Sentence\n",
      "I established the U.S. as a world power, and the aftermath of World War II left the United States and the Soviet Union as the world's two superpowers.\n",
      "Next Sentence\n",
      "During the Cold War, both countries engaged in a struggle for ideological dominance, but avoided direct military conflict.\n",
      "Next Sentence\n",
      "They also competed in the Space Race, which culminated in the 1969 American spaceflight that first landed humans on the Moon.\n",
      "Next Sentence\n",
      "Simultaneously, the civil rights movement led to legislation outlawing racial discrimination against African Americans.\n",
      "Next Sentence\n",
      "The Soviet Union's dissolution in 1991 ended the Cold War, leaving the United States as the world's sole superpower.\n",
      "Next Sentence\n",
      "The September 11 attacks in 2001 resulted in the United States launching the war on terror, which included the War in Afghanistan (2001–2021) and the Iraq War (2003–2011).\n",
      "\n",
      "\n",
      "Next Sentence\n",
      "The United States is a federal republic with three separate branches of government, including a bicameral legislature.\n",
      "Next Sentence\n",
      "It is a liberal democracy and market economy; it ranks high in international measures of human rights, quality of life, income and wealth, economic competitiveness, and education; and it has low levels of perceived corruption.\n",
      "Next Sentence\n",
      "It has high levels of incarceration and inequality, retains capital punishment, and lacks universal health care.\n",
      "\n",
      "\n",
      "Next Sentence\n",
      "The United States is a highly developed country, and its economy accounts for approximately a quarter of global GDP and is the world's largest by GDP at market exchange rates.\n",
      "Next Sentence\n",
      "By value, the United States is the world's largest importer and second-largest exporter.\n",
      "Next Sentence\n",
      "Although it accounts for just over 4.2% of the world's total population, the U.S. holds over 30% of the total wealth in the world, the largest share held by any country.\n",
      "Next Sentence\n",
      "The United States is a founding member of the United Nations, World Bank, International Monetary Fund, Organization of American States, NATO, and a permanent member of the United Nations Security Council.\n",
      "Next Sentence\n",
      "The country makes up more than a third of global military spending, and is the foremost military power in the world and a leading political, cultural, and scientific force.\n",
      "Next Sentence\n"
     ]
    }
   ],
   "source": [
    "for sentence in doc.sents:\n",
    "  print(sentence)\n",
    "  print('Next Sentence')"
   ]
  },
  {
   "cell_type": "code",
   "execution_count": 39,
   "metadata": {
    "id": "iurNDnxTEfkC"
   },
   "outputs": [],
   "source": [
    "sent_list=list(doc.sents)"
   ]
  },
  {
   "cell_type": "code",
   "execution_count": 40,
   "metadata": {
    "colab": {
     "base_uri": "https://localhost:8080/"
    },
    "id": "7mfKgJstE0bL",
    "outputId": "fae6068a-5004-472d-846f-2af8fa098cda"
   },
   "outputs": [
    {
     "data": {
      "text/plain": [
       "The United States of America (U.S.A. or USA), commonly known as the United States (U.S. or US) or America, is a transcontinental country primarily located in North America."
      ]
     },
     "execution_count": 40,
     "metadata": {},
     "output_type": "execute_result"
    }
   ],
   "source": [
    "sent_list[0]"
   ]
  },
  {
   "cell_type": "markdown",
   "metadata": {
    "id": "dNcRWkiVIDSJ"
   },
   "source": [
    "## Token Attributes\n",
    "\n",
    "\n",
    "The token object has a wide variety of properties that are essential for doing NLP in space. We’ll be collaborating with some of them, including:<br>\n",
    "\n",
    "text — Verbatim text content<br>\n",
    "head — The syntactic parent, or “governor”, of this token. <br>\n",
    "left_edge — The leftmost token of this token’s syntactic descendants <br>\n",
    "right_edge — The rightmost token of this token’s syntactic descendants<br>\n",
    "ent_type_ — Named entity type of the token<br>\n",
    "iob_ — IOB code of named entity tag. “B” means the token begins an entity, “I” means it is inside an entity, “O” means it is outside an entity, and “” means no entity tag is set<br>\n",
    "lemma_ — Base form of the token, with no inflectional suffixes<br>\n",
    "morph — Morphological analysis of the token<br>\n",
    "pos_ — part-of-speech from the Universal POS tag set<br>\n",
    "lang_ — Language of the parent document’s vocabulary<br>\n",
    "dep_ — Syntactic dependency relation of the token<br>"
   ]
  },
  {
   "cell_type": "code",
   "execution_count": 41,
   "metadata": {
    "id": "TMGsvgR0II-n"
   },
   "outputs": [],
   "source": [
    "sentence1=list(doc.sents)[0]"
   ]
  },
  {
   "cell_type": "code",
   "execution_count": 42,
   "metadata": {
    "colab": {
     "base_uri": "https://localhost:8080/"
    },
    "id": "MYf2PaolJdmv",
    "outputId": "6006ce50-330d-435e-a8dc-1685f403ef52"
   },
   "outputs": [
    {
     "data": {
      "text/plain": [
       "The United States of America (U.S.A. or USA), commonly known as the United States (U.S. or US) or America, is a transcontinental country primarily located in North America."
      ]
     },
     "execution_count": 42,
     "metadata": {},
     "output_type": "execute_result"
    }
   ],
   "source": [
    "sentence1"
   ]
  },
  {
   "cell_type": "code",
   "execution_count": 43,
   "metadata": {
    "id": "sAxgVeFYIeLO"
   },
   "outputs": [],
   "source": [
    "token12=sentence1[12]"
   ]
  },
  {
   "cell_type": "code",
   "execution_count": 44,
   "metadata": {
    "colab": {
     "base_uri": "https://localhost:8080/"
    },
    "id": "BFLYZhgCInnJ",
    "outputId": "0c8743fb-d44e-43e3-9998-6a7fed034c86"
   },
   "outputs": [
    {
     "name": "stdout",
     "output_type": "stream",
     "text": [
      "Token Text : known\n",
      "The syntactic parent of this token : States\n",
      "The leftmost token of this token’s syntactic descendants : commonly\n",
      "The rightmost token of this token’s syntactic descendants : America\n",
      "Token Named entity type : \n",
      "Token IOB code : O\n",
      "Token Morphological analysis : Aspect=Perf|Tense=Past|VerbForm=Part\n",
      "Token Part of Speech : VERB\n",
      "Token Syntactic dependency relation : acl\n",
      "Token Language : en\n",
      "Token Base form of the token : know\n"
     ]
    }
   ],
   "source": [
    "print(\"Token Text : {}\".format(token12.text))\n",
    "print(\"The syntactic parent of this token : {}\".format(token12.head))\n",
    "print(\"The leftmost token of this token’s syntactic descendants : {}\".format(token12.left_edge))\n",
    "print(\"The rightmost token of this token’s syntactic descendants : {}\".format(token12.right_edge))\n",
    "print(\"Token Named entity type : {}\".format(token12.ent_type_))\n",
    "print(\"Token IOB code : {}\".format(token12.ent_iob_))\n",
    "print(\"Token Morphological analysis : {}\".format(token12.morph))\n",
    "print(\"Token Part of Speech : {}\".format(token12.pos_))\n",
    "print(\"Token Syntactic dependency relation : {}\".format(token12.dep_))\n",
    "print(\"Token Language : {}\".format(token12.lang_))\n",
    "print(\"Token Base form of the token : {}\".format(token12.lemma_))"
   ]
  },
  {
   "cell_type": "markdown",
   "metadata": {
    "id": "8Adk_HlzK5Xh"
   },
   "source": [
    "## Part of Speech Tagging (POS)"
   ]
  },
  {
   "cell_type": "code",
   "execution_count": 14,
   "metadata": {
    "colab": {
     "base_uri": "https://localhost:8080/"
    },
    "id": "g_U4YLRMKubO",
    "outputId": "06544217-3203-49c4-8421-71c83dd66739"
   },
   "outputs": [
    {
     "name": "stdout",
     "output_type": "stream",
     "text": [
      "The DET\n",
      "United PROPN\n",
      "States PROPN\n",
      "of ADP\n",
      "America PROPN\n",
      "( PUNCT\n",
      "U.S.A. PROPN\n",
      "or CCONJ\n",
      "USA PROPN\n",
      ") PUNCT\n",
      ", PUNCT\n",
      "commonly ADV\n",
      "known VERB\n",
      "as ADP\n",
      "the DET\n",
      "United PROPN\n",
      "States PROPN\n",
      "( PUNCT\n",
      "U.S. PROPN\n",
      "or CCONJ\n",
      "US PROPN\n",
      ") PUNCT\n",
      "or CCONJ\n",
      "America PROPN\n",
      ", PUNCT\n",
      "is AUX\n",
      "a DET\n",
      "transcontinental ADJ\n",
      "country NOUN\n",
      "primarily ADV\n",
      "located VERB\n",
      "in ADP\n",
      "North PROPN\n",
      "America PROPN\n",
      ". PUNCT\n"
     ]
    }
   ],
   "source": [
    "for token in sentence1:\n",
    "    print (token.text, token.pos_)"
   ]
  },
  {
   "cell_type": "code",
   "execution_count": 15,
   "metadata": {
    "colab": {
     "base_uri": "https://localhost:8080/",
     "height": 616
    },
    "id": "QCxQo0TSK-kl",
    "outputId": "8b37ee6d-a11b-4f4d-e793-bf6faeb75602"
   },
   "outputs": [
    {
     "data": {
      "text/html": [
       "<span class=\"tex2jax_ignore\"><svg xmlns=\"http://www.w3.org/2000/svg\" xmlns:xlink=\"http://www.w3.org/1999/xlink\" xml:lang=\"en\" id=\"f500e5fe7f244c5b87165dd834c30cbb-0\" class=\"displacy\" width=\"4950\" height=\"574.5\" direction=\"ltr\" style=\"max-width: none; height: 574.5px; color: #000000; background: #ffffff; font-family: Arial; direction: ltr\">\n",
       "<text class=\"displacy-token\" fill=\"currentColor\" text-anchor=\"middle\" y=\"484.5\">\n",
       "    <tspan class=\"displacy-word\" fill=\"currentColor\" x=\"50\">The</tspan>\n",
       "    <tspan class=\"displacy-tag\" dy=\"2em\" fill=\"currentColor\" x=\"50\">DET</tspan>\n",
       "</text>\n",
       "\n",
       "<text class=\"displacy-token\" fill=\"currentColor\" text-anchor=\"middle\" y=\"484.5\">\n",
       "    <tspan class=\"displacy-word\" fill=\"currentColor\" x=\"225\">United</tspan>\n",
       "    <tspan class=\"displacy-tag\" dy=\"2em\" fill=\"currentColor\" x=\"225\">PROPN</tspan>\n",
       "</text>\n",
       "\n",
       "<text class=\"displacy-token\" fill=\"currentColor\" text-anchor=\"middle\" y=\"484.5\">\n",
       "    <tspan class=\"displacy-word\" fill=\"currentColor\" x=\"400\">States</tspan>\n",
       "    <tspan class=\"displacy-tag\" dy=\"2em\" fill=\"currentColor\" x=\"400\">PROPN</tspan>\n",
       "</text>\n",
       "\n",
       "<text class=\"displacy-token\" fill=\"currentColor\" text-anchor=\"middle\" y=\"484.5\">\n",
       "    <tspan class=\"displacy-word\" fill=\"currentColor\" x=\"575\">of</tspan>\n",
       "    <tspan class=\"displacy-tag\" dy=\"2em\" fill=\"currentColor\" x=\"575\">ADP</tspan>\n",
       "</text>\n",
       "\n",
       "<text class=\"displacy-token\" fill=\"currentColor\" text-anchor=\"middle\" y=\"484.5\">\n",
       "    <tspan class=\"displacy-word\" fill=\"currentColor\" x=\"750\">America (</tspan>\n",
       "    <tspan class=\"displacy-tag\" dy=\"2em\" fill=\"currentColor\" x=\"750\">PROPN</tspan>\n",
       "</text>\n",
       "\n",
       "<text class=\"displacy-token\" fill=\"currentColor\" text-anchor=\"middle\" y=\"484.5\">\n",
       "    <tspan class=\"displacy-word\" fill=\"currentColor\" x=\"925\">U.S.A.</tspan>\n",
       "    <tspan class=\"displacy-tag\" dy=\"2em\" fill=\"currentColor\" x=\"925\">PROPN</tspan>\n",
       "</text>\n",
       "\n",
       "<text class=\"displacy-token\" fill=\"currentColor\" text-anchor=\"middle\" y=\"484.5\">\n",
       "    <tspan class=\"displacy-word\" fill=\"currentColor\" x=\"1100\">or</tspan>\n",
       "    <tspan class=\"displacy-tag\" dy=\"2em\" fill=\"currentColor\" x=\"1100\">CCONJ</tspan>\n",
       "</text>\n",
       "\n",
       "<text class=\"displacy-token\" fill=\"currentColor\" text-anchor=\"middle\" y=\"484.5\">\n",
       "    <tspan class=\"displacy-word\" fill=\"currentColor\" x=\"1275\">USA),</tspan>\n",
       "    <tspan class=\"displacy-tag\" dy=\"2em\" fill=\"currentColor\" x=\"1275\">PROPN</tspan>\n",
       "</text>\n",
       "\n",
       "<text class=\"displacy-token\" fill=\"currentColor\" text-anchor=\"middle\" y=\"484.5\">\n",
       "    <tspan class=\"displacy-word\" fill=\"currentColor\" x=\"1450\">commonly</tspan>\n",
       "    <tspan class=\"displacy-tag\" dy=\"2em\" fill=\"currentColor\" x=\"1450\">ADV</tspan>\n",
       "</text>\n",
       "\n",
       "<text class=\"displacy-token\" fill=\"currentColor\" text-anchor=\"middle\" y=\"484.5\">\n",
       "    <tspan class=\"displacy-word\" fill=\"currentColor\" x=\"1625\">known</tspan>\n",
       "    <tspan class=\"displacy-tag\" dy=\"2em\" fill=\"currentColor\" x=\"1625\">VERB</tspan>\n",
       "</text>\n",
       "\n",
       "<text class=\"displacy-token\" fill=\"currentColor\" text-anchor=\"middle\" y=\"484.5\">\n",
       "    <tspan class=\"displacy-word\" fill=\"currentColor\" x=\"1800\">as</tspan>\n",
       "    <tspan class=\"displacy-tag\" dy=\"2em\" fill=\"currentColor\" x=\"1800\">ADP</tspan>\n",
       "</text>\n",
       "\n",
       "<text class=\"displacy-token\" fill=\"currentColor\" text-anchor=\"middle\" y=\"484.5\">\n",
       "    <tspan class=\"displacy-word\" fill=\"currentColor\" x=\"1975\">the</tspan>\n",
       "    <tspan class=\"displacy-tag\" dy=\"2em\" fill=\"currentColor\" x=\"1975\">DET</tspan>\n",
       "</text>\n",
       "\n",
       "<text class=\"displacy-token\" fill=\"currentColor\" text-anchor=\"middle\" y=\"484.5\">\n",
       "    <tspan class=\"displacy-word\" fill=\"currentColor\" x=\"2150\">United</tspan>\n",
       "    <tspan class=\"displacy-tag\" dy=\"2em\" fill=\"currentColor\" x=\"2150\">PROPN</tspan>\n",
       "</text>\n",
       "\n",
       "<text class=\"displacy-token\" fill=\"currentColor\" text-anchor=\"middle\" y=\"484.5\">\n",
       "    <tspan class=\"displacy-word\" fill=\"currentColor\" x=\"2325\">States (</tspan>\n",
       "    <tspan class=\"displacy-tag\" dy=\"2em\" fill=\"currentColor\" x=\"2325\">PROPN</tspan>\n",
       "</text>\n",
       "\n",
       "<text class=\"displacy-token\" fill=\"currentColor\" text-anchor=\"middle\" y=\"484.5\">\n",
       "    <tspan class=\"displacy-word\" fill=\"currentColor\" x=\"2500\">U.S.</tspan>\n",
       "    <tspan class=\"displacy-tag\" dy=\"2em\" fill=\"currentColor\" x=\"2500\">PROPN</tspan>\n",
       "</text>\n",
       "\n",
       "<text class=\"displacy-token\" fill=\"currentColor\" text-anchor=\"middle\" y=\"484.5\">\n",
       "    <tspan class=\"displacy-word\" fill=\"currentColor\" x=\"2675\">or</tspan>\n",
       "    <tspan class=\"displacy-tag\" dy=\"2em\" fill=\"currentColor\" x=\"2675\">CCONJ</tspan>\n",
       "</text>\n",
       "\n",
       "<text class=\"displacy-token\" fill=\"currentColor\" text-anchor=\"middle\" y=\"484.5\">\n",
       "    <tspan class=\"displacy-word\" fill=\"currentColor\" x=\"2850\">US)</tspan>\n",
       "    <tspan class=\"displacy-tag\" dy=\"2em\" fill=\"currentColor\" x=\"2850\">PROPN</tspan>\n",
       "</text>\n",
       "\n",
       "<text class=\"displacy-token\" fill=\"currentColor\" text-anchor=\"middle\" y=\"484.5\">\n",
       "    <tspan class=\"displacy-word\" fill=\"currentColor\" x=\"3025\">or</tspan>\n",
       "    <tspan class=\"displacy-tag\" dy=\"2em\" fill=\"currentColor\" x=\"3025\">CCONJ</tspan>\n",
       "</text>\n",
       "\n",
       "<text class=\"displacy-token\" fill=\"currentColor\" text-anchor=\"middle\" y=\"484.5\">\n",
       "    <tspan class=\"displacy-word\" fill=\"currentColor\" x=\"3200\">America,</tspan>\n",
       "    <tspan class=\"displacy-tag\" dy=\"2em\" fill=\"currentColor\" x=\"3200\">PROPN</tspan>\n",
       "</text>\n",
       "\n",
       "<text class=\"displacy-token\" fill=\"currentColor\" text-anchor=\"middle\" y=\"484.5\">\n",
       "    <tspan class=\"displacy-word\" fill=\"currentColor\" x=\"3375\">is</tspan>\n",
       "    <tspan class=\"displacy-tag\" dy=\"2em\" fill=\"currentColor\" x=\"3375\">AUX</tspan>\n",
       "</text>\n",
       "\n",
       "<text class=\"displacy-token\" fill=\"currentColor\" text-anchor=\"middle\" y=\"484.5\">\n",
       "    <tspan class=\"displacy-word\" fill=\"currentColor\" x=\"3550\">a</tspan>\n",
       "    <tspan class=\"displacy-tag\" dy=\"2em\" fill=\"currentColor\" x=\"3550\">DET</tspan>\n",
       "</text>\n",
       "\n",
       "<text class=\"displacy-token\" fill=\"currentColor\" text-anchor=\"middle\" y=\"484.5\">\n",
       "    <tspan class=\"displacy-word\" fill=\"currentColor\" x=\"3725\">transcontinental</tspan>\n",
       "    <tspan class=\"displacy-tag\" dy=\"2em\" fill=\"currentColor\" x=\"3725\">ADJ</tspan>\n",
       "</text>\n",
       "\n",
       "<text class=\"displacy-token\" fill=\"currentColor\" text-anchor=\"middle\" y=\"484.5\">\n",
       "    <tspan class=\"displacy-word\" fill=\"currentColor\" x=\"3900\">country</tspan>\n",
       "    <tspan class=\"displacy-tag\" dy=\"2em\" fill=\"currentColor\" x=\"3900\">NOUN</tspan>\n",
       "</text>\n",
       "\n",
       "<text class=\"displacy-token\" fill=\"currentColor\" text-anchor=\"middle\" y=\"484.5\">\n",
       "    <tspan class=\"displacy-word\" fill=\"currentColor\" x=\"4075\">primarily</tspan>\n",
       "    <tspan class=\"displacy-tag\" dy=\"2em\" fill=\"currentColor\" x=\"4075\">ADV</tspan>\n",
       "</text>\n",
       "\n",
       "<text class=\"displacy-token\" fill=\"currentColor\" text-anchor=\"middle\" y=\"484.5\">\n",
       "    <tspan class=\"displacy-word\" fill=\"currentColor\" x=\"4250\">located</tspan>\n",
       "    <tspan class=\"displacy-tag\" dy=\"2em\" fill=\"currentColor\" x=\"4250\">VERB</tspan>\n",
       "</text>\n",
       "\n",
       "<text class=\"displacy-token\" fill=\"currentColor\" text-anchor=\"middle\" y=\"484.5\">\n",
       "    <tspan class=\"displacy-word\" fill=\"currentColor\" x=\"4425\">in</tspan>\n",
       "    <tspan class=\"displacy-tag\" dy=\"2em\" fill=\"currentColor\" x=\"4425\">ADP</tspan>\n",
       "</text>\n",
       "\n",
       "<text class=\"displacy-token\" fill=\"currentColor\" text-anchor=\"middle\" y=\"484.5\">\n",
       "    <tspan class=\"displacy-word\" fill=\"currentColor\" x=\"4600\">North</tspan>\n",
       "    <tspan class=\"displacy-tag\" dy=\"2em\" fill=\"currentColor\" x=\"4600\">PROPN</tspan>\n",
       "</text>\n",
       "\n",
       "<text class=\"displacy-token\" fill=\"currentColor\" text-anchor=\"middle\" y=\"484.5\">\n",
       "    <tspan class=\"displacy-word\" fill=\"currentColor\" x=\"4775\">America.</tspan>\n",
       "    <tspan class=\"displacy-tag\" dy=\"2em\" fill=\"currentColor\" x=\"4775\">PROPN</tspan>\n",
       "</text>\n",
       "\n",
       "<g class=\"displacy-arrow\">\n",
       "    <path class=\"displacy-arc\" id=\"arrow-f500e5fe7f244c5b87165dd834c30cbb-0-0\" stroke-width=\"2px\" d=\"M70,439.5 C70,264.5 385.0,264.5 385.0,439.5\" fill=\"none\" stroke=\"currentColor\"/>\n",
       "    <text dy=\"1.25em\" style=\"font-size: 0.8em; letter-spacing: 1px\">\n",
       "        <textPath xlink:href=\"#arrow-f500e5fe7f244c5b87165dd834c30cbb-0-0\" class=\"displacy-label\" startOffset=\"50%\" side=\"left\" fill=\"currentColor\" text-anchor=\"middle\">det</textPath>\n",
       "    </text>\n",
       "    <path class=\"displacy-arrowhead\" d=\"M70,441.5 L62,429.5 78,429.5\" fill=\"currentColor\"/>\n",
       "</g>\n",
       "\n",
       "<g class=\"displacy-arrow\">\n",
       "    <path class=\"displacy-arc\" id=\"arrow-f500e5fe7f244c5b87165dd834c30cbb-0-1\" stroke-width=\"2px\" d=\"M245,439.5 C245,352.0 380.0,352.0 380.0,439.5\" fill=\"none\" stroke=\"currentColor\"/>\n",
       "    <text dy=\"1.25em\" style=\"font-size: 0.8em; letter-spacing: 1px\">\n",
       "        <textPath xlink:href=\"#arrow-f500e5fe7f244c5b87165dd834c30cbb-0-1\" class=\"displacy-label\" startOffset=\"50%\" side=\"left\" fill=\"currentColor\" text-anchor=\"middle\">compound</textPath>\n",
       "    </text>\n",
       "    <path class=\"displacy-arrowhead\" d=\"M245,441.5 L237,429.5 253,429.5\" fill=\"currentColor\"/>\n",
       "</g>\n",
       "\n",
       "<g class=\"displacy-arrow\">\n",
       "    <path class=\"displacy-arc\" id=\"arrow-f500e5fe7f244c5b87165dd834c30cbb-0-2\" stroke-width=\"2px\" d=\"M420,439.5 C420,2.0 3375.0,2.0 3375.0,439.5\" fill=\"none\" stroke=\"currentColor\"/>\n",
       "    <text dy=\"1.25em\" style=\"font-size: 0.8em; letter-spacing: 1px\">\n",
       "        <textPath xlink:href=\"#arrow-f500e5fe7f244c5b87165dd834c30cbb-0-2\" class=\"displacy-label\" startOffset=\"50%\" side=\"left\" fill=\"currentColor\" text-anchor=\"middle\">nsubj</textPath>\n",
       "    </text>\n",
       "    <path class=\"displacy-arrowhead\" d=\"M420,441.5 L412,429.5 428,429.5\" fill=\"currentColor\"/>\n",
       "</g>\n",
       "\n",
       "<g class=\"displacy-arrow\">\n",
       "    <path class=\"displacy-arc\" id=\"arrow-f500e5fe7f244c5b87165dd834c30cbb-0-3\" stroke-width=\"2px\" d=\"M420,439.5 C420,352.0 555.0,352.0 555.0,439.5\" fill=\"none\" stroke=\"currentColor\"/>\n",
       "    <text dy=\"1.25em\" style=\"font-size: 0.8em; letter-spacing: 1px\">\n",
       "        <textPath xlink:href=\"#arrow-f500e5fe7f244c5b87165dd834c30cbb-0-3\" class=\"displacy-label\" startOffset=\"50%\" side=\"left\" fill=\"currentColor\" text-anchor=\"middle\">prep</textPath>\n",
       "    </text>\n",
       "    <path class=\"displacy-arrowhead\" d=\"M555.0,441.5 L563.0,429.5 547.0,429.5\" fill=\"currentColor\"/>\n",
       "</g>\n",
       "\n",
       "<g class=\"displacy-arrow\">\n",
       "    <path class=\"displacy-arc\" id=\"arrow-f500e5fe7f244c5b87165dd834c30cbb-0-4\" stroke-width=\"2px\" d=\"M595,439.5 C595,352.0 730.0,352.0 730.0,439.5\" fill=\"none\" stroke=\"currentColor\"/>\n",
       "    <text dy=\"1.25em\" style=\"font-size: 0.8em; letter-spacing: 1px\">\n",
       "        <textPath xlink:href=\"#arrow-f500e5fe7f244c5b87165dd834c30cbb-0-4\" class=\"displacy-label\" startOffset=\"50%\" side=\"left\" fill=\"currentColor\" text-anchor=\"middle\">pobj</textPath>\n",
       "    </text>\n",
       "    <path class=\"displacy-arrowhead\" d=\"M730.0,441.5 L738.0,429.5 722.0,429.5\" fill=\"currentColor\"/>\n",
       "</g>\n",
       "\n",
       "<g class=\"displacy-arrow\">\n",
       "    <path class=\"displacy-arc\" id=\"arrow-f500e5fe7f244c5b87165dd834c30cbb-0-5\" stroke-width=\"2px\" d=\"M420,439.5 C420,264.5 910.0,264.5 910.0,439.5\" fill=\"none\" stroke=\"currentColor\"/>\n",
       "    <text dy=\"1.25em\" style=\"font-size: 0.8em; letter-spacing: 1px\">\n",
       "        <textPath xlink:href=\"#arrow-f500e5fe7f244c5b87165dd834c30cbb-0-5\" class=\"displacy-label\" startOffset=\"50%\" side=\"left\" fill=\"currentColor\" text-anchor=\"middle\">appos</textPath>\n",
       "    </text>\n",
       "    <path class=\"displacy-arrowhead\" d=\"M910.0,441.5 L918.0,429.5 902.0,429.5\" fill=\"currentColor\"/>\n",
       "</g>\n",
       "\n",
       "<g class=\"displacy-arrow\">\n",
       "    <path class=\"displacy-arc\" id=\"arrow-f500e5fe7f244c5b87165dd834c30cbb-0-6\" stroke-width=\"2px\" d=\"M945,439.5 C945,352.0 1080.0,352.0 1080.0,439.5\" fill=\"none\" stroke=\"currentColor\"/>\n",
       "    <text dy=\"1.25em\" style=\"font-size: 0.8em; letter-spacing: 1px\">\n",
       "        <textPath xlink:href=\"#arrow-f500e5fe7f244c5b87165dd834c30cbb-0-6\" class=\"displacy-label\" startOffset=\"50%\" side=\"left\" fill=\"currentColor\" text-anchor=\"middle\">cc</textPath>\n",
       "    </text>\n",
       "    <path class=\"displacy-arrowhead\" d=\"M1080.0,441.5 L1088.0,429.5 1072.0,429.5\" fill=\"currentColor\"/>\n",
       "</g>\n",
       "\n",
       "<g class=\"displacy-arrow\">\n",
       "    <path class=\"displacy-arc\" id=\"arrow-f500e5fe7f244c5b87165dd834c30cbb-0-7\" stroke-width=\"2px\" d=\"M945,439.5 C945,264.5 1260.0,264.5 1260.0,439.5\" fill=\"none\" stroke=\"currentColor\"/>\n",
       "    <text dy=\"1.25em\" style=\"font-size: 0.8em; letter-spacing: 1px\">\n",
       "        <textPath xlink:href=\"#arrow-f500e5fe7f244c5b87165dd834c30cbb-0-7\" class=\"displacy-label\" startOffset=\"50%\" side=\"left\" fill=\"currentColor\" text-anchor=\"middle\">conj</textPath>\n",
       "    </text>\n",
       "    <path class=\"displacy-arrowhead\" d=\"M1260.0,441.5 L1268.0,429.5 1252.0,429.5\" fill=\"currentColor\"/>\n",
       "</g>\n",
       "\n",
       "<g class=\"displacy-arrow\">\n",
       "    <path class=\"displacy-arc\" id=\"arrow-f500e5fe7f244c5b87165dd834c30cbb-0-8\" stroke-width=\"2px\" d=\"M1470,439.5 C1470,352.0 1605.0,352.0 1605.0,439.5\" fill=\"none\" stroke=\"currentColor\"/>\n",
       "    <text dy=\"1.25em\" style=\"font-size: 0.8em; letter-spacing: 1px\">\n",
       "        <textPath xlink:href=\"#arrow-f500e5fe7f244c5b87165dd834c30cbb-0-8\" class=\"displacy-label\" startOffset=\"50%\" side=\"left\" fill=\"currentColor\" text-anchor=\"middle\">advmod</textPath>\n",
       "    </text>\n",
       "    <path class=\"displacy-arrowhead\" d=\"M1470,441.5 L1462,429.5 1478,429.5\" fill=\"currentColor\"/>\n",
       "</g>\n",
       "\n",
       "<g class=\"displacy-arrow\">\n",
       "    <path class=\"displacy-arc\" id=\"arrow-f500e5fe7f244c5b87165dd834c30cbb-0-9\" stroke-width=\"2px\" d=\"M420,439.5 C420,177.0 1615.0,177.0 1615.0,439.5\" fill=\"none\" stroke=\"currentColor\"/>\n",
       "    <text dy=\"1.25em\" style=\"font-size: 0.8em; letter-spacing: 1px\">\n",
       "        <textPath xlink:href=\"#arrow-f500e5fe7f244c5b87165dd834c30cbb-0-9\" class=\"displacy-label\" startOffset=\"50%\" side=\"left\" fill=\"currentColor\" text-anchor=\"middle\">acl</textPath>\n",
       "    </text>\n",
       "    <path class=\"displacy-arrowhead\" d=\"M1615.0,441.5 L1623.0,429.5 1607.0,429.5\" fill=\"currentColor\"/>\n",
       "</g>\n",
       "\n",
       "<g class=\"displacy-arrow\">\n",
       "    <path class=\"displacy-arc\" id=\"arrow-f500e5fe7f244c5b87165dd834c30cbb-0-10\" stroke-width=\"2px\" d=\"M1645,439.5 C1645,352.0 1780.0,352.0 1780.0,439.5\" fill=\"none\" stroke=\"currentColor\"/>\n",
       "    <text dy=\"1.25em\" style=\"font-size: 0.8em; letter-spacing: 1px\">\n",
       "        <textPath xlink:href=\"#arrow-f500e5fe7f244c5b87165dd834c30cbb-0-10\" class=\"displacy-label\" startOffset=\"50%\" side=\"left\" fill=\"currentColor\" text-anchor=\"middle\">prep</textPath>\n",
       "    </text>\n",
       "    <path class=\"displacy-arrowhead\" d=\"M1780.0,441.5 L1788.0,429.5 1772.0,429.5\" fill=\"currentColor\"/>\n",
       "</g>\n",
       "\n",
       "<g class=\"displacy-arrow\">\n",
       "    <path class=\"displacy-arc\" id=\"arrow-f500e5fe7f244c5b87165dd834c30cbb-0-11\" stroke-width=\"2px\" d=\"M1995,439.5 C1995,264.5 2310.0,264.5 2310.0,439.5\" fill=\"none\" stroke=\"currentColor\"/>\n",
       "    <text dy=\"1.25em\" style=\"font-size: 0.8em; letter-spacing: 1px\">\n",
       "        <textPath xlink:href=\"#arrow-f500e5fe7f244c5b87165dd834c30cbb-0-11\" class=\"displacy-label\" startOffset=\"50%\" side=\"left\" fill=\"currentColor\" text-anchor=\"middle\">det</textPath>\n",
       "    </text>\n",
       "    <path class=\"displacy-arrowhead\" d=\"M1995,441.5 L1987,429.5 2003,429.5\" fill=\"currentColor\"/>\n",
       "</g>\n",
       "\n",
       "<g class=\"displacy-arrow\">\n",
       "    <path class=\"displacy-arc\" id=\"arrow-f500e5fe7f244c5b87165dd834c30cbb-0-12\" stroke-width=\"2px\" d=\"M2170,439.5 C2170,352.0 2305.0,352.0 2305.0,439.5\" fill=\"none\" stroke=\"currentColor\"/>\n",
       "    <text dy=\"1.25em\" style=\"font-size: 0.8em; letter-spacing: 1px\">\n",
       "        <textPath xlink:href=\"#arrow-f500e5fe7f244c5b87165dd834c30cbb-0-12\" class=\"displacy-label\" startOffset=\"50%\" side=\"left\" fill=\"currentColor\" text-anchor=\"middle\">compound</textPath>\n",
       "    </text>\n",
       "    <path class=\"displacy-arrowhead\" d=\"M2170,441.5 L2162,429.5 2178,429.5\" fill=\"currentColor\"/>\n",
       "</g>\n",
       "\n",
       "<g class=\"displacy-arrow\">\n",
       "    <path class=\"displacy-arc\" id=\"arrow-f500e5fe7f244c5b87165dd834c30cbb-0-13\" stroke-width=\"2px\" d=\"M1820,439.5 C1820,177.0 2315.0,177.0 2315.0,439.5\" fill=\"none\" stroke=\"currentColor\"/>\n",
       "    <text dy=\"1.25em\" style=\"font-size: 0.8em; letter-spacing: 1px\">\n",
       "        <textPath xlink:href=\"#arrow-f500e5fe7f244c5b87165dd834c30cbb-0-13\" class=\"displacy-label\" startOffset=\"50%\" side=\"left\" fill=\"currentColor\" text-anchor=\"middle\">pobj</textPath>\n",
       "    </text>\n",
       "    <path class=\"displacy-arrowhead\" d=\"M2315.0,441.5 L2323.0,429.5 2307.0,429.5\" fill=\"currentColor\"/>\n",
       "</g>\n",
       "\n",
       "<g class=\"displacy-arrow\">\n",
       "    <path class=\"displacy-arc\" id=\"arrow-f500e5fe7f244c5b87165dd834c30cbb-0-14\" stroke-width=\"2px\" d=\"M2345,439.5 C2345,352.0 2480.0,352.0 2480.0,439.5\" fill=\"none\" stroke=\"currentColor\"/>\n",
       "    <text dy=\"1.25em\" style=\"font-size: 0.8em; letter-spacing: 1px\">\n",
       "        <textPath xlink:href=\"#arrow-f500e5fe7f244c5b87165dd834c30cbb-0-14\" class=\"displacy-label\" startOffset=\"50%\" side=\"left\" fill=\"currentColor\" text-anchor=\"middle\">appos</textPath>\n",
       "    </text>\n",
       "    <path class=\"displacy-arrowhead\" d=\"M2480.0,441.5 L2488.0,429.5 2472.0,429.5\" fill=\"currentColor\"/>\n",
       "</g>\n",
       "\n",
       "<g class=\"displacy-arrow\">\n",
       "    <path class=\"displacy-arc\" id=\"arrow-f500e5fe7f244c5b87165dd834c30cbb-0-15\" stroke-width=\"2px\" d=\"M2520,439.5 C2520,352.0 2655.0,352.0 2655.0,439.5\" fill=\"none\" stroke=\"currentColor\"/>\n",
       "    <text dy=\"1.25em\" style=\"font-size: 0.8em; letter-spacing: 1px\">\n",
       "        <textPath xlink:href=\"#arrow-f500e5fe7f244c5b87165dd834c30cbb-0-15\" class=\"displacy-label\" startOffset=\"50%\" side=\"left\" fill=\"currentColor\" text-anchor=\"middle\">cc</textPath>\n",
       "    </text>\n",
       "    <path class=\"displacy-arrowhead\" d=\"M2655.0,441.5 L2663.0,429.5 2647.0,429.5\" fill=\"currentColor\"/>\n",
       "</g>\n",
       "\n",
       "<g class=\"displacy-arrow\">\n",
       "    <path class=\"displacy-arc\" id=\"arrow-f500e5fe7f244c5b87165dd834c30cbb-0-16\" stroke-width=\"2px\" d=\"M2520,439.5 C2520,264.5 2835.0,264.5 2835.0,439.5\" fill=\"none\" stroke=\"currentColor\"/>\n",
       "    <text dy=\"1.25em\" style=\"font-size: 0.8em; letter-spacing: 1px\">\n",
       "        <textPath xlink:href=\"#arrow-f500e5fe7f244c5b87165dd834c30cbb-0-16\" class=\"displacy-label\" startOffset=\"50%\" side=\"left\" fill=\"currentColor\" text-anchor=\"middle\">conj</textPath>\n",
       "    </text>\n",
       "    <path class=\"displacy-arrowhead\" d=\"M2835.0,441.5 L2843.0,429.5 2827.0,429.5\" fill=\"currentColor\"/>\n",
       "</g>\n",
       "\n",
       "<g class=\"displacy-arrow\">\n",
       "    <path class=\"displacy-arc\" id=\"arrow-f500e5fe7f244c5b87165dd834c30cbb-0-17\" stroke-width=\"2px\" d=\"M2345,439.5 C2345,177.0 3015.0,177.0 3015.0,439.5\" fill=\"none\" stroke=\"currentColor\"/>\n",
       "    <text dy=\"1.25em\" style=\"font-size: 0.8em; letter-spacing: 1px\">\n",
       "        <textPath xlink:href=\"#arrow-f500e5fe7f244c5b87165dd834c30cbb-0-17\" class=\"displacy-label\" startOffset=\"50%\" side=\"left\" fill=\"currentColor\" text-anchor=\"middle\">cc</textPath>\n",
       "    </text>\n",
       "    <path class=\"displacy-arrowhead\" d=\"M3015.0,441.5 L3023.0,429.5 3007.0,429.5\" fill=\"currentColor\"/>\n",
       "</g>\n",
       "\n",
       "<g class=\"displacy-arrow\">\n",
       "    <path class=\"displacy-arc\" id=\"arrow-f500e5fe7f244c5b87165dd834c30cbb-0-18\" stroke-width=\"2px\" d=\"M2345,439.5 C2345,89.5 3195.0,89.5 3195.0,439.5\" fill=\"none\" stroke=\"currentColor\"/>\n",
       "    <text dy=\"1.25em\" style=\"font-size: 0.8em; letter-spacing: 1px\">\n",
       "        <textPath xlink:href=\"#arrow-f500e5fe7f244c5b87165dd834c30cbb-0-18\" class=\"displacy-label\" startOffset=\"50%\" side=\"left\" fill=\"currentColor\" text-anchor=\"middle\">conj</textPath>\n",
       "    </text>\n",
       "    <path class=\"displacy-arrowhead\" d=\"M3195.0,441.5 L3203.0,429.5 3187.0,429.5\" fill=\"currentColor\"/>\n",
       "</g>\n",
       "\n",
       "<g class=\"displacy-arrow\">\n",
       "    <path class=\"displacy-arc\" id=\"arrow-f500e5fe7f244c5b87165dd834c30cbb-0-19\" stroke-width=\"2px\" d=\"M3570,439.5 C3570,264.5 3885.0,264.5 3885.0,439.5\" fill=\"none\" stroke=\"currentColor\"/>\n",
       "    <text dy=\"1.25em\" style=\"font-size: 0.8em; letter-spacing: 1px\">\n",
       "        <textPath xlink:href=\"#arrow-f500e5fe7f244c5b87165dd834c30cbb-0-19\" class=\"displacy-label\" startOffset=\"50%\" side=\"left\" fill=\"currentColor\" text-anchor=\"middle\">det</textPath>\n",
       "    </text>\n",
       "    <path class=\"displacy-arrowhead\" d=\"M3570,441.5 L3562,429.5 3578,429.5\" fill=\"currentColor\"/>\n",
       "</g>\n",
       "\n",
       "<g class=\"displacy-arrow\">\n",
       "    <path class=\"displacy-arc\" id=\"arrow-f500e5fe7f244c5b87165dd834c30cbb-0-20\" stroke-width=\"2px\" d=\"M3745,439.5 C3745,352.0 3880.0,352.0 3880.0,439.5\" fill=\"none\" stroke=\"currentColor\"/>\n",
       "    <text dy=\"1.25em\" style=\"font-size: 0.8em; letter-spacing: 1px\">\n",
       "        <textPath xlink:href=\"#arrow-f500e5fe7f244c5b87165dd834c30cbb-0-20\" class=\"displacy-label\" startOffset=\"50%\" side=\"left\" fill=\"currentColor\" text-anchor=\"middle\">amod</textPath>\n",
       "    </text>\n",
       "    <path class=\"displacy-arrowhead\" d=\"M3745,441.5 L3737,429.5 3753,429.5\" fill=\"currentColor\"/>\n",
       "</g>\n",
       "\n",
       "<g class=\"displacy-arrow\">\n",
       "    <path class=\"displacy-arc\" id=\"arrow-f500e5fe7f244c5b87165dd834c30cbb-0-21\" stroke-width=\"2px\" d=\"M3395,439.5 C3395,177.0 3890.0,177.0 3890.0,439.5\" fill=\"none\" stroke=\"currentColor\"/>\n",
       "    <text dy=\"1.25em\" style=\"font-size: 0.8em; letter-spacing: 1px\">\n",
       "        <textPath xlink:href=\"#arrow-f500e5fe7f244c5b87165dd834c30cbb-0-21\" class=\"displacy-label\" startOffset=\"50%\" side=\"left\" fill=\"currentColor\" text-anchor=\"middle\">attr</textPath>\n",
       "    </text>\n",
       "    <path class=\"displacy-arrowhead\" d=\"M3890.0,441.5 L3898.0,429.5 3882.0,429.5\" fill=\"currentColor\"/>\n",
       "</g>\n",
       "\n",
       "<g class=\"displacy-arrow\">\n",
       "    <path class=\"displacy-arc\" id=\"arrow-f500e5fe7f244c5b87165dd834c30cbb-0-22\" stroke-width=\"2px\" d=\"M4095,439.5 C4095,352.0 4230.0,352.0 4230.0,439.5\" fill=\"none\" stroke=\"currentColor\"/>\n",
       "    <text dy=\"1.25em\" style=\"font-size: 0.8em; letter-spacing: 1px\">\n",
       "        <textPath xlink:href=\"#arrow-f500e5fe7f244c5b87165dd834c30cbb-0-22\" class=\"displacy-label\" startOffset=\"50%\" side=\"left\" fill=\"currentColor\" text-anchor=\"middle\">advmod</textPath>\n",
       "    </text>\n",
       "    <path class=\"displacy-arrowhead\" d=\"M4095,441.5 L4087,429.5 4103,429.5\" fill=\"currentColor\"/>\n",
       "</g>\n",
       "\n",
       "<g class=\"displacy-arrow\">\n",
       "    <path class=\"displacy-arc\" id=\"arrow-f500e5fe7f244c5b87165dd834c30cbb-0-23\" stroke-width=\"2px\" d=\"M3920,439.5 C3920,264.5 4235.0,264.5 4235.0,439.5\" fill=\"none\" stroke=\"currentColor\"/>\n",
       "    <text dy=\"1.25em\" style=\"font-size: 0.8em; letter-spacing: 1px\">\n",
       "        <textPath xlink:href=\"#arrow-f500e5fe7f244c5b87165dd834c30cbb-0-23\" class=\"displacy-label\" startOffset=\"50%\" side=\"left\" fill=\"currentColor\" text-anchor=\"middle\">acl</textPath>\n",
       "    </text>\n",
       "    <path class=\"displacy-arrowhead\" d=\"M4235.0,441.5 L4243.0,429.5 4227.0,429.5\" fill=\"currentColor\"/>\n",
       "</g>\n",
       "\n",
       "<g class=\"displacy-arrow\">\n",
       "    <path class=\"displacy-arc\" id=\"arrow-f500e5fe7f244c5b87165dd834c30cbb-0-24\" stroke-width=\"2px\" d=\"M4270,439.5 C4270,352.0 4405.0,352.0 4405.0,439.5\" fill=\"none\" stroke=\"currentColor\"/>\n",
       "    <text dy=\"1.25em\" style=\"font-size: 0.8em; letter-spacing: 1px\">\n",
       "        <textPath xlink:href=\"#arrow-f500e5fe7f244c5b87165dd834c30cbb-0-24\" class=\"displacy-label\" startOffset=\"50%\" side=\"left\" fill=\"currentColor\" text-anchor=\"middle\">prep</textPath>\n",
       "    </text>\n",
       "    <path class=\"displacy-arrowhead\" d=\"M4405.0,441.5 L4413.0,429.5 4397.0,429.5\" fill=\"currentColor\"/>\n",
       "</g>\n",
       "\n",
       "<g class=\"displacy-arrow\">\n",
       "    <path class=\"displacy-arc\" id=\"arrow-f500e5fe7f244c5b87165dd834c30cbb-0-25\" stroke-width=\"2px\" d=\"M4620,439.5 C4620,352.0 4755.0,352.0 4755.0,439.5\" fill=\"none\" stroke=\"currentColor\"/>\n",
       "    <text dy=\"1.25em\" style=\"font-size: 0.8em; letter-spacing: 1px\">\n",
       "        <textPath xlink:href=\"#arrow-f500e5fe7f244c5b87165dd834c30cbb-0-25\" class=\"displacy-label\" startOffset=\"50%\" side=\"left\" fill=\"currentColor\" text-anchor=\"middle\">compound</textPath>\n",
       "    </text>\n",
       "    <path class=\"displacy-arrowhead\" d=\"M4620,441.5 L4612,429.5 4628,429.5\" fill=\"currentColor\"/>\n",
       "</g>\n",
       "\n",
       "<g class=\"displacy-arrow\">\n",
       "    <path class=\"displacy-arc\" id=\"arrow-f500e5fe7f244c5b87165dd834c30cbb-0-26\" stroke-width=\"2px\" d=\"M4445,439.5 C4445,264.5 4760.0,264.5 4760.0,439.5\" fill=\"none\" stroke=\"currentColor\"/>\n",
       "    <text dy=\"1.25em\" style=\"font-size: 0.8em; letter-spacing: 1px\">\n",
       "        <textPath xlink:href=\"#arrow-f500e5fe7f244c5b87165dd834c30cbb-0-26\" class=\"displacy-label\" startOffset=\"50%\" side=\"left\" fill=\"currentColor\" text-anchor=\"middle\">pobj</textPath>\n",
       "    </text>\n",
       "    <path class=\"displacy-arrowhead\" d=\"M4760.0,441.5 L4768.0,429.5 4752.0,429.5\" fill=\"currentColor\"/>\n",
       "</g>\n",
       "</svg></span>"
      ],
      "text/plain": [
       "<IPython.core.display.HTML object>"
      ]
     },
     "metadata": {},
     "output_type": "display_data"
    }
   ],
   "source": [
    "from spacy import displacy\n",
    "displacy.render(sentence1, style=\"dep\", jupyter = True)"
   ]
  },
  {
   "cell_type": "code",
   "execution_count": 16,
   "metadata": {
    "id": "QT68MsXALNR9"
   },
   "outputs": [],
   "source": [
    "sentence= \"I am enjoying weather\"\n",
    "doc1=nlp(sentence)\n"
   ]
  },
  {
   "cell_type": "code",
   "execution_count": 17,
   "metadata": {
    "colab": {
     "base_uri": "https://localhost:8080/"
    },
    "id": "zfnlA2gGM7H_",
    "outputId": "6b95f68c-39d6-4500-d73e-c7341f3a33a9"
   },
   "outputs": [
    {
     "name": "stdout",
     "output_type": "stream",
     "text": [
      "I PRON nsubj\n",
      "am AUX aux\n",
      "enjoying VERB ROOT\n",
      "weather NOUN dobj\n"
     ]
    }
   ],
   "source": [
    "for token in doc1:\n",
    "    print (token.text, token.pos_, token.dep_)"
   ]
  },
  {
   "cell_type": "code",
   "execution_count": 18,
   "metadata": {
    "colab": {
     "base_uri": "https://localhost:8080/",
     "height": 334
    },
    "id": "5-Brmv7LNCSl",
    "outputId": "a3bbbfba-96cc-47ae-e866-4c5379ffb5db"
   },
   "outputs": [
    {
     "data": {
      "text/html": [
       "<span class=\"tex2jax_ignore\"><svg xmlns=\"http://www.w3.org/2000/svg\" xmlns:xlink=\"http://www.w3.org/1999/xlink\" xml:lang=\"en\" id=\"a81ff5e149654db38583aedfb5419719-0\" class=\"displacy\" width=\"750\" height=\"312.0\" direction=\"ltr\" style=\"max-width: none; height: 312.0px; color: #000000; background: #ffffff; font-family: Arial; direction: ltr\">\n",
       "<text class=\"displacy-token\" fill=\"currentColor\" text-anchor=\"middle\" y=\"222.0\">\n",
       "    <tspan class=\"displacy-word\" fill=\"currentColor\" x=\"50\">I</tspan>\n",
       "    <tspan class=\"displacy-tag\" dy=\"2em\" fill=\"currentColor\" x=\"50\">PRON</tspan>\n",
       "</text>\n",
       "\n",
       "<text class=\"displacy-token\" fill=\"currentColor\" text-anchor=\"middle\" y=\"222.0\">\n",
       "    <tspan class=\"displacy-word\" fill=\"currentColor\" x=\"225\">am</tspan>\n",
       "    <tspan class=\"displacy-tag\" dy=\"2em\" fill=\"currentColor\" x=\"225\">AUX</tspan>\n",
       "</text>\n",
       "\n",
       "<text class=\"displacy-token\" fill=\"currentColor\" text-anchor=\"middle\" y=\"222.0\">\n",
       "    <tspan class=\"displacy-word\" fill=\"currentColor\" x=\"400\">enjoying</tspan>\n",
       "    <tspan class=\"displacy-tag\" dy=\"2em\" fill=\"currentColor\" x=\"400\">VERB</tspan>\n",
       "</text>\n",
       "\n",
       "<text class=\"displacy-token\" fill=\"currentColor\" text-anchor=\"middle\" y=\"222.0\">\n",
       "    <tspan class=\"displacy-word\" fill=\"currentColor\" x=\"575\">weather</tspan>\n",
       "    <tspan class=\"displacy-tag\" dy=\"2em\" fill=\"currentColor\" x=\"575\">NOUN</tspan>\n",
       "</text>\n",
       "\n",
       "<g class=\"displacy-arrow\">\n",
       "    <path class=\"displacy-arc\" id=\"arrow-a81ff5e149654db38583aedfb5419719-0-0\" stroke-width=\"2px\" d=\"M70,177.0 C70,2.0 400.0,2.0 400.0,177.0\" fill=\"none\" stroke=\"currentColor\"/>\n",
       "    <text dy=\"1.25em\" style=\"font-size: 0.8em; letter-spacing: 1px\">\n",
       "        <textPath xlink:href=\"#arrow-a81ff5e149654db38583aedfb5419719-0-0\" class=\"displacy-label\" startOffset=\"50%\" side=\"left\" fill=\"currentColor\" text-anchor=\"middle\">nsubj</textPath>\n",
       "    </text>\n",
       "    <path class=\"displacy-arrowhead\" d=\"M70,179.0 L62,167.0 78,167.0\" fill=\"currentColor\"/>\n",
       "</g>\n",
       "\n",
       "<g class=\"displacy-arrow\">\n",
       "    <path class=\"displacy-arc\" id=\"arrow-a81ff5e149654db38583aedfb5419719-0-1\" stroke-width=\"2px\" d=\"M245,177.0 C245,89.5 395.0,89.5 395.0,177.0\" fill=\"none\" stroke=\"currentColor\"/>\n",
       "    <text dy=\"1.25em\" style=\"font-size: 0.8em; letter-spacing: 1px\">\n",
       "        <textPath xlink:href=\"#arrow-a81ff5e149654db38583aedfb5419719-0-1\" class=\"displacy-label\" startOffset=\"50%\" side=\"left\" fill=\"currentColor\" text-anchor=\"middle\">aux</textPath>\n",
       "    </text>\n",
       "    <path class=\"displacy-arrowhead\" d=\"M245,179.0 L237,167.0 253,167.0\" fill=\"currentColor\"/>\n",
       "</g>\n",
       "\n",
       "<g class=\"displacy-arrow\">\n",
       "    <path class=\"displacy-arc\" id=\"arrow-a81ff5e149654db38583aedfb5419719-0-2\" stroke-width=\"2px\" d=\"M420,177.0 C420,89.5 570.0,89.5 570.0,177.0\" fill=\"none\" stroke=\"currentColor\"/>\n",
       "    <text dy=\"1.25em\" style=\"font-size: 0.8em; letter-spacing: 1px\">\n",
       "        <textPath xlink:href=\"#arrow-a81ff5e149654db38583aedfb5419719-0-2\" class=\"displacy-label\" startOffset=\"50%\" side=\"left\" fill=\"currentColor\" text-anchor=\"middle\">dobj</textPath>\n",
       "    </text>\n",
       "    <path class=\"displacy-arrowhead\" d=\"M570.0,179.0 L578.0,167.0 562.0,167.0\" fill=\"currentColor\"/>\n",
       "</g>\n",
       "</svg></span>"
      ],
      "text/plain": [
       "<IPython.core.display.HTML object>"
      ]
     },
     "metadata": {},
     "output_type": "display_data"
    }
   ],
   "source": [
    "from spacy import displacy\n",
    "displacy.render(doc1, style=\"dep\", jupyter = True)"
   ]
  },
  {
   "cell_type": "markdown",
   "metadata": {
    "id": "XZHS7odTNb-Z"
   },
   "source": [
    "## Named Entity Recognition"
   ]
  },
  {
   "cell_type": "code",
   "execution_count": 19,
   "metadata": {
    "colab": {
     "base_uri": "https://localhost:8080/"
    },
    "id": "-EV3G2vzNNkg",
    "outputId": "4f736044-ab59-4649-dfca-d29fd2214e90"
   },
   "outputs": [
    {
     "name": "stdout",
     "output_type": "stream",
     "text": [
      "The United States of America GPE\n",
      "U.S.A. GPE\n",
      "USA GPE\n",
      "the United States GPE\n",
      "U.S. GPE\n",
      "US GPE\n",
      "America GPE\n",
      "North America LOC\n",
      "50 CARDINAL\n",
      "five CARDINAL\n",
      "nine CARDINAL\n",
      "326 CARDINAL\n",
      "Indian NORP\n",
      "third ORDINAL\n",
      "The United States GPE\n",
      "Canada GPE\n",
      "Mexico GPE\n",
      "Bahamas GPE\n",
      "Cuba GPE\n",
      "Russia GPE\n",
      "over 331 CARDINAL\n",
      "third ORDINAL\n",
      "Washington GPE\n",
      "D.C. GPE\n",
      "New York City GPE\n",
      "The United States GPE\n",
      "centuries DATE\n",
      "one CARDINAL\n",
      "17 CARDINAL\n",
      "Siberia LOC\n",
      "North American NORP\n",
      "at least 12,000 years ago DATE\n",
      "European NORP\n",
      "the 16th century DATE\n",
      "The United States GPE\n",
      "the Thirteen British Colonies ORG\n",
      "the East Coast LOC\n",
      "the American Revolution ORG\n",
      "the late 18th century DATE\n",
      "U.S. GPE\n",
      "North America LOC\n",
      "Native Americans NORP\n",
      "1848 DATE\n",
      "the United States GPE\n",
      "east LOC\n",
      "Southern NORP\n",
      "the Confederate States of America GPE\n",
      "the United States GPE\n",
      "the American Civil War ORG\n",
      "Union ORG\n",
      "the United States GPE\n",
      "the Thirteenth Amendment LAW\n",
      "Spanish NORP\n",
      "World War EVENT\n",
      "U.S. GPE\n",
      "World War II EVENT\n",
      "the United States GPE\n",
      "the Soviet Union GPE\n",
      "two CARDINAL\n",
      "the Cold War EVENT\n",
      "the Space Race FAC\n",
      "1969 DATE\n",
      "American NORP\n",
      "first ORDINAL\n",
      "Moon PERSON\n",
      "African Americans NORP\n",
      "The Soviet Union's GPE\n",
      "1991 DATE\n",
      "the Cold War EVENT\n",
      "the United States GPE\n",
      "September 11 DATE\n",
      "2001 DATE\n",
      "the United States GPE\n",
      "the War EVENT\n",
      "Afghanistan GPE\n",
      "2001–2021 CARDINAL\n",
      "the Iraq War EVENT\n",
      "2003–2011 CARDINAL\n",
      "The United States GPE\n",
      "three CARDINAL\n",
      "The United States GPE\n",
      "approximately a quarter DATE\n",
      "the United States GPE\n",
      "second ORDINAL\n",
      "just over 4.2% PERCENT\n",
      "U.S. GPE\n",
      "over 30% PERCENT\n",
      "The United States GPE\n",
      "the United Nations ORG\n",
      "World Bank ORG\n",
      "International Monetary Fund ORG\n",
      "Organization of American States ORG\n",
      "NATO ORG\n",
      "the United Nations Security Council ORG\n",
      "more than a third CARDINAL\n"
     ]
    }
   ],
   "source": [
    "for ent in doc.ents:\n",
    "    print (ent.text, ent.label_)"
   ]
  },
  {
   "cell_type": "code",
   "execution_count": 20,
   "metadata": {
    "colab": {
     "base_uri": "https://localhost:8080/",
     "height": 1000
    },
    "id": "HhUkdmvTNjrw",
    "outputId": "fcd301c4-b181-42eb-ab7c-784f3dbc3bac"
   },
   "outputs": [
    {
     "data": {
      "text/html": [
       "<span class=\"tex2jax_ignore\"><div class=\"entities\" style=\"line-height: 2.5; direction: ltr\">\n",
       "<mark class=\"entity\" style=\"background: #feca74; padding: 0.45em 0.6em; margin: 0 0.25em; line-height: 1; border-radius: 0.35em;\">\n",
       "    The United States of America\n",
       "    <span style=\"font-size: 0.8em; font-weight: bold; line-height: 1; border-radius: 0.35em; vertical-align: middle; margin-left: 0.5rem\">GPE</span>\n",
       "</mark>\n",
       " (\n",
       "<mark class=\"entity\" style=\"background: #feca74; padding: 0.45em 0.6em; margin: 0 0.25em; line-height: 1; border-radius: 0.35em;\">\n",
       "    U.S.A.\n",
       "    <span style=\"font-size: 0.8em; font-weight: bold; line-height: 1; border-radius: 0.35em; vertical-align: middle; margin-left: 0.5rem\">GPE</span>\n",
       "</mark>\n",
       " or \n",
       "<mark class=\"entity\" style=\"background: #feca74; padding: 0.45em 0.6em; margin: 0 0.25em; line-height: 1; border-radius: 0.35em;\">\n",
       "    USA\n",
       "    <span style=\"font-size: 0.8em; font-weight: bold; line-height: 1; border-radius: 0.35em; vertical-align: middle; margin-left: 0.5rem\">GPE</span>\n",
       "</mark>\n",
       "), commonly known as \n",
       "<mark class=\"entity\" style=\"background: #feca74; padding: 0.45em 0.6em; margin: 0 0.25em; line-height: 1; border-radius: 0.35em;\">\n",
       "    the United States\n",
       "    <span style=\"font-size: 0.8em; font-weight: bold; line-height: 1; border-radius: 0.35em; vertical-align: middle; margin-left: 0.5rem\">GPE</span>\n",
       "</mark>\n",
       " (\n",
       "<mark class=\"entity\" style=\"background: #feca74; padding: 0.45em 0.6em; margin: 0 0.25em; line-height: 1; border-radius: 0.35em;\">\n",
       "    U.S.\n",
       "    <span style=\"font-size: 0.8em; font-weight: bold; line-height: 1; border-radius: 0.35em; vertical-align: middle; margin-left: 0.5rem\">GPE</span>\n",
       "</mark>\n",
       " or \n",
       "<mark class=\"entity\" style=\"background: #feca74; padding: 0.45em 0.6em; margin: 0 0.25em; line-height: 1; border-radius: 0.35em;\">\n",
       "    US\n",
       "    <span style=\"font-size: 0.8em; font-weight: bold; line-height: 1; border-radius: 0.35em; vertical-align: middle; margin-left: 0.5rem\">GPE</span>\n",
       "</mark>\n",
       ") or \n",
       "<mark class=\"entity\" style=\"background: #feca74; padding: 0.45em 0.6em; margin: 0 0.25em; line-height: 1; border-radius: 0.35em;\">\n",
       "    America\n",
       "    <span style=\"font-size: 0.8em; font-weight: bold; line-height: 1; border-radius: 0.35em; vertical-align: middle; margin-left: 0.5rem\">GPE</span>\n",
       "</mark>\n",
       ", is a transcontinental country primarily located in \n",
       "<mark class=\"entity\" style=\"background: #ff9561; padding: 0.45em 0.6em; margin: 0 0.25em; line-height: 1; border-radius: 0.35em;\">\n",
       "    North America\n",
       "    <span style=\"font-size: 0.8em; font-weight: bold; line-height: 1; border-radius: 0.35em; vertical-align: middle; margin-left: 0.5rem\">LOC</span>\n",
       "</mark>\n",
       ". It consists of \n",
       "<mark class=\"entity\" style=\"background: #e4e7d2; padding: 0.45em 0.6em; margin: 0 0.25em; line-height: 1; border-radius: 0.35em;\">\n",
       "    50\n",
       "    <span style=\"font-size: 0.8em; font-weight: bold; line-height: 1; border-radius: 0.35em; vertical-align: middle; margin-left: 0.5rem\">CARDINAL</span>\n",
       "</mark>\n",
       " states, a federal district, \n",
       "<mark class=\"entity\" style=\"background: #e4e7d2; padding: 0.45em 0.6em; margin: 0 0.25em; line-height: 1; border-radius: 0.35em;\">\n",
       "    five\n",
       "    <span style=\"font-size: 0.8em; font-weight: bold; line-height: 1; border-radius: 0.35em; vertical-align: middle; margin-left: 0.5rem\">CARDINAL</span>\n",
       "</mark>\n",
       " major unincorporated territories, \n",
       "<mark class=\"entity\" style=\"background: #e4e7d2; padding: 0.45em 0.6em; margin: 0 0.25em; line-height: 1; border-radius: 0.35em;\">\n",
       "    nine\n",
       "    <span style=\"font-size: 0.8em; font-weight: bold; line-height: 1; border-radius: 0.35em; vertical-align: middle; margin-left: 0.5rem\">CARDINAL</span>\n",
       "</mark>\n",
       " minor outlying islands,[i] and \n",
       "<mark class=\"entity\" style=\"background: #e4e7d2; padding: 0.45em 0.6em; margin: 0 0.25em; line-height: 1; border-radius: 0.35em;\">\n",
       "    326\n",
       "    <span style=\"font-size: 0.8em; font-weight: bold; line-height: 1; border-radius: 0.35em; vertical-align: middle; margin-left: 0.5rem\">CARDINAL</span>\n",
       "</mark>\n",
       " \n",
       "<mark class=\"entity\" style=\"background: #c887fb; padding: 0.45em 0.6em; margin: 0 0.25em; line-height: 1; border-radius: 0.35em;\">\n",
       "    Indian\n",
       "    <span style=\"font-size: 0.8em; font-weight: bold; line-height: 1; border-radius: 0.35em; vertical-align: middle; margin-left: 0.5rem\">NORP</span>\n",
       "</mark>\n",
       " reservations with limited sovereignty. It is the \n",
       "<mark class=\"entity\" style=\"background: #e4e7d2; padding: 0.45em 0.6em; margin: 0 0.25em; line-height: 1; border-radius: 0.35em;\">\n",
       "    third\n",
       "    <span style=\"font-size: 0.8em; font-weight: bold; line-height: 1; border-radius: 0.35em; vertical-align: middle; margin-left: 0.5rem\">ORDINAL</span>\n",
       "</mark>\n",
       "-largest country by both land and total area.[c] \n",
       "<mark class=\"entity\" style=\"background: #feca74; padding: 0.45em 0.6em; margin: 0 0.25em; line-height: 1; border-radius: 0.35em;\">\n",
       "    The United States\n",
       "    <span style=\"font-size: 0.8em; font-weight: bold; line-height: 1; border-radius: 0.35em; vertical-align: middle; margin-left: 0.5rem\">GPE</span>\n",
       "</mark>\n",
       " shares land borders with \n",
       "<mark class=\"entity\" style=\"background: #feca74; padding: 0.45em 0.6em; margin: 0 0.25em; line-height: 1; border-radius: 0.35em;\">\n",
       "    Canada\n",
       "    <span style=\"font-size: 0.8em; font-weight: bold; line-height: 1; border-radius: 0.35em; vertical-align: middle; margin-left: 0.5rem\">GPE</span>\n",
       "</mark>\n",
       " to the north and with \n",
       "<mark class=\"entity\" style=\"background: #feca74; padding: 0.45em 0.6em; margin: 0 0.25em; line-height: 1; border-radius: 0.35em;\">\n",
       "    Mexico\n",
       "    <span style=\"font-size: 0.8em; font-weight: bold; line-height: 1; border-radius: 0.35em; vertical-align: middle; margin-left: 0.5rem\">GPE</span>\n",
       "</mark>\n",
       " to the south as well as maritime borders with the \n",
       "<mark class=\"entity\" style=\"background: #feca74; padding: 0.45em 0.6em; margin: 0 0.25em; line-height: 1; border-radius: 0.35em;\">\n",
       "    Bahamas\n",
       "    <span style=\"font-size: 0.8em; font-weight: bold; line-height: 1; border-radius: 0.35em; vertical-align: middle; margin-left: 0.5rem\">GPE</span>\n",
       "</mark>\n",
       ", \n",
       "<mark class=\"entity\" style=\"background: #feca74; padding: 0.45em 0.6em; margin: 0 0.25em; line-height: 1; border-radius: 0.35em;\">\n",
       "    Cuba\n",
       "    <span style=\"font-size: 0.8em; font-weight: bold; line-height: 1; border-radius: 0.35em; vertical-align: middle; margin-left: 0.5rem\">GPE</span>\n",
       "</mark>\n",
       ", and \n",
       "<mark class=\"entity\" style=\"background: #feca74; padding: 0.45em 0.6em; margin: 0 0.25em; line-height: 1; border-radius: 0.35em;\">\n",
       "    Russia\n",
       "    <span style=\"font-size: 0.8em; font-weight: bold; line-height: 1; border-radius: 0.35em; vertical-align: middle; margin-left: 0.5rem\">GPE</span>\n",
       "</mark>\n",
       ", among others.[j] It has a population of \n",
       "<mark class=\"entity\" style=\"background: #e4e7d2; padding: 0.45em 0.6em; margin: 0 0.25em; line-height: 1; border-radius: 0.35em;\">\n",
       "    over 331\n",
       "    <span style=\"font-size: 0.8em; font-weight: bold; line-height: 1; border-radius: 0.35em; vertical-align: middle; margin-left: 0.5rem\">CARDINAL</span>\n",
       "</mark>\n",
       " million,[d] and is the \n",
       "<mark class=\"entity\" style=\"background: #e4e7d2; padding: 0.45em 0.6em; margin: 0 0.25em; line-height: 1; border-radius: 0.35em;\">\n",
       "    third\n",
       "    <span style=\"font-size: 0.8em; font-weight: bold; line-height: 1; border-radius: 0.35em; vertical-align: middle; margin-left: 0.5rem\">ORDINAL</span>\n",
       "</mark>\n",
       " most populous country in the world. The national capital is \n",
       "<mark class=\"entity\" style=\"background: #feca74; padding: 0.45em 0.6em; margin: 0 0.25em; line-height: 1; border-radius: 0.35em;\">\n",
       "    Washington\n",
       "    <span style=\"font-size: 0.8em; font-weight: bold; line-height: 1; border-radius: 0.35em; vertical-align: middle; margin-left: 0.5rem\">GPE</span>\n",
       "</mark>\n",
       ", \n",
       "<mark class=\"entity\" style=\"background: #feca74; padding: 0.45em 0.6em; margin: 0 0.25em; line-height: 1; border-radius: 0.35em;\">\n",
       "    D.C.\n",
       "    <span style=\"font-size: 0.8em; font-weight: bold; line-height: 1; border-radius: 0.35em; vertical-align: middle; margin-left: 0.5rem\">GPE</span>\n",
       "</mark>\n",
       ", and the most populous city and financial center is \n",
       "<mark class=\"entity\" style=\"background: #feca74; padding: 0.45em 0.6em; margin: 0 0.25em; line-height: 1; border-radius: 0.35em;\">\n",
       "    New York City\n",
       "    <span style=\"font-size: 0.8em; font-weight: bold; line-height: 1; border-radius: 0.35em; vertical-align: middle; margin-left: 0.5rem\">GPE</span>\n",
       "</mark>\n",
       ". \n",
       "<mark class=\"entity\" style=\"background: #feca74; padding: 0.45em 0.6em; margin: 0 0.25em; line-height: 1; border-radius: 0.35em;\">\n",
       "    The United States\n",
       "    <span style=\"font-size: 0.8em; font-weight: bold; line-height: 1; border-radius: 0.35em; vertical-align: middle; margin-left: 0.5rem\">GPE</span>\n",
       "</mark>\n",
       " is a melting pot of cultures and ethnicities, and its population has been profoundly shaped by \n",
       "<mark class=\"entity\" style=\"background: #bfe1d9; padding: 0.45em 0.6em; margin: 0 0.25em; line-height: 1; border-radius: 0.35em;\">\n",
       "    centuries\n",
       "    <span style=\"font-size: 0.8em; font-weight: bold; line-height: 1; border-radius: 0.35em; vertical-align: middle; margin-left: 0.5rem\">DATE</span>\n",
       "</mark>\n",
       " of immigration. It has a highly diverse climate and geography and is officially recognized as \n",
       "<mark class=\"entity\" style=\"background: #e4e7d2; padding: 0.45em 0.6em; margin: 0 0.25em; line-height: 1; border-radius: 0.35em;\">\n",
       "    one\n",
       "    <span style=\"font-size: 0.8em; font-weight: bold; line-height: 1; border-radius: 0.35em; vertical-align: middle; margin-left: 0.5rem\">CARDINAL</span>\n",
       "</mark>\n",
       " of the \n",
       "<mark class=\"entity\" style=\"background: #e4e7d2; padding: 0.45em 0.6em; margin: 0 0.25em; line-height: 1; border-radius: 0.35em;\">\n",
       "    17\n",
       "    <span style=\"font-size: 0.8em; font-weight: bold; line-height: 1; border-radius: 0.35em; vertical-align: middle; margin-left: 0.5rem\">CARDINAL</span>\n",
       "</mark>\n",
       " ecologically megadiverse countries.</br></br>Paleo-aboriginals migrated from \n",
       "<mark class=\"entity\" style=\"background: #ff9561; padding: 0.45em 0.6em; margin: 0 0.25em; line-height: 1; border-radius: 0.35em;\">\n",
       "    Siberia\n",
       "    <span style=\"font-size: 0.8em; font-weight: bold; line-height: 1; border-radius: 0.35em; vertical-align: middle; margin-left: 0.5rem\">LOC</span>\n",
       "</mark>\n",
       " to the \n",
       "<mark class=\"entity\" style=\"background: #c887fb; padding: 0.45em 0.6em; margin: 0 0.25em; line-height: 1; border-radius: 0.35em;\">\n",
       "    North American\n",
       "    <span style=\"font-size: 0.8em; font-weight: bold; line-height: 1; border-radius: 0.35em; vertical-align: middle; margin-left: 0.5rem\">NORP</span>\n",
       "</mark>\n",
       " mainland \n",
       "<mark class=\"entity\" style=\"background: #bfe1d9; padding: 0.45em 0.6em; margin: 0 0.25em; line-height: 1; border-radius: 0.35em;\">\n",
       "    at least 12,000 years ago\n",
       "    <span style=\"font-size: 0.8em; font-weight: bold; line-height: 1; border-radius: 0.35em; vertical-align: middle; margin-left: 0.5rem\">DATE</span>\n",
       "</mark>\n",
       ", and advanced cultures began to appear later on. These advanced cultures had almost completely declined by the time \n",
       "<mark class=\"entity\" style=\"background: #c887fb; padding: 0.45em 0.6em; margin: 0 0.25em; line-height: 1; border-radius: 0.35em;\">\n",
       "    European\n",
       "    <span style=\"font-size: 0.8em; font-weight: bold; line-height: 1; border-radius: 0.35em; vertical-align: middle; margin-left: 0.5rem\">NORP</span>\n",
       "</mark>\n",
       " colonists showed up in \n",
       "<mark class=\"entity\" style=\"background: #bfe1d9; padding: 0.45em 0.6em; margin: 0 0.25em; line-height: 1; border-radius: 0.35em;\">\n",
       "    the 16th century\n",
       "    <span style=\"font-size: 0.8em; font-weight: bold; line-height: 1; border-radius: 0.35em; vertical-align: middle; margin-left: 0.5rem\">DATE</span>\n",
       "</mark>\n",
       ". \n",
       "<mark class=\"entity\" style=\"background: #feca74; padding: 0.45em 0.6em; margin: 0 0.25em; line-height: 1; border-radius: 0.35em;\">\n",
       "    The United States\n",
       "    <span style=\"font-size: 0.8em; font-weight: bold; line-height: 1; border-radius: 0.35em; vertical-align: middle; margin-left: 0.5rem\">GPE</span>\n",
       "</mark>\n",
       " emerged from \n",
       "<mark class=\"entity\" style=\"background: #7aecec; padding: 0.45em 0.6em; margin: 0 0.25em; line-height: 1; border-radius: 0.35em;\">\n",
       "    the Thirteen British Colonies\n",
       "    <span style=\"font-size: 0.8em; font-weight: bold; line-height: 1; border-radius: 0.35em; vertical-align: middle; margin-left: 0.5rem\">ORG</span>\n",
       "</mark>\n",
       " established along \n",
       "<mark class=\"entity\" style=\"background: #ff9561; padding: 0.45em 0.6em; margin: 0 0.25em; line-height: 1; border-radius: 0.35em;\">\n",
       "    the East Coast\n",
       "    <span style=\"font-size: 0.8em; font-weight: bold; line-height: 1; border-radius: 0.35em; vertical-align: middle; margin-left: 0.5rem\">LOC</span>\n",
       "</mark>\n",
       ", when disputes with their colonial overlords over taxation and political representation led to \n",
       "<mark class=\"entity\" style=\"background: #7aecec; padding: 0.45em 0.6em; margin: 0 0.25em; line-height: 1; border-radius: 0.35em;\">\n",
       "    the American Revolution\n",
       "    <span style=\"font-size: 0.8em; font-weight: bold; line-height: 1; border-radius: 0.35em; vertical-align: middle; margin-left: 0.5rem\">ORG</span>\n",
       "</mark>\n",
       " (1765–1784), which established the nation's independence. In \n",
       "<mark class=\"entity\" style=\"background: #bfe1d9; padding: 0.45em 0.6em; margin: 0 0.25em; line-height: 1; border-radius: 0.35em;\">\n",
       "    the late 18th century\n",
       "    <span style=\"font-size: 0.8em; font-weight: bold; line-height: 1; border-radius: 0.35em; vertical-align: middle; margin-left: 0.5rem\">DATE</span>\n",
       "</mark>\n",
       ", the \n",
       "<mark class=\"entity\" style=\"background: #feca74; padding: 0.45em 0.6em; margin: 0 0.25em; line-height: 1; border-radius: 0.35em;\">\n",
       "    U.S.\n",
       "    <span style=\"font-size: 0.8em; font-weight: bold; line-height: 1; border-radius: 0.35em; vertical-align: middle; margin-left: 0.5rem\">GPE</span>\n",
       "</mark>\n",
       " began expanding across \n",
       "<mark class=\"entity\" style=\"background: #ff9561; padding: 0.45em 0.6em; margin: 0 0.25em; line-height: 1; border-radius: 0.35em;\">\n",
       "    North America\n",
       "    <span style=\"font-size: 0.8em; font-weight: bold; line-height: 1; border-radius: 0.35em; vertical-align: middle; margin-left: 0.5rem\">LOC</span>\n",
       "</mark>\n",
       ", gradually obtaining new territories, sometimes through war, frequently displacing \n",
       "<mark class=\"entity\" style=\"background: #c887fb; padding: 0.45em 0.6em; margin: 0 0.25em; line-height: 1; border-radius: 0.35em;\">\n",
       "    Native Americans\n",
       "    <span style=\"font-size: 0.8em; font-weight: bold; line-height: 1; border-radius: 0.35em; vertical-align: middle; margin-left: 0.5rem\">NORP</span>\n",
       "</mark>\n",
       ", and admitting new states. This was strongly related to belief in manifest destiny, and by \n",
       "<mark class=\"entity\" style=\"background: #bfe1d9; padding: 0.45em 0.6em; margin: 0 0.25em; line-height: 1; border-radius: 0.35em;\">\n",
       "    1848\n",
       "    <span style=\"font-size: 0.8em; font-weight: bold; line-height: 1; border-radius: 0.35em; vertical-align: middle; margin-left: 0.5rem\">DATE</span>\n",
       "</mark>\n",
       ", \n",
       "<mark class=\"entity\" style=\"background: #feca74; padding: 0.45em 0.6em; margin: 0 0.25em; line-height: 1; border-radius: 0.35em;\">\n",
       "    the United States\n",
       "    <span style=\"font-size: 0.8em; font-weight: bold; line-height: 1; border-radius: 0.35em; vertical-align: middle; margin-left: 0.5rem\">GPE</span>\n",
       "</mark>\n",
       " spanned the continent from \n",
       "<mark class=\"entity\" style=\"background: #ff9561; padding: 0.45em 0.6em; margin: 0 0.25em; line-height: 1; border-radius: 0.35em;\">\n",
       "    east\n",
       "    <span style=\"font-size: 0.8em; font-weight: bold; line-height: 1; border-radius: 0.35em; vertical-align: middle; margin-left: 0.5rem\">LOC</span>\n",
       "</mark>\n",
       " to west. The controversy surrounding the continued practice of slavery in the \n",
       "<mark class=\"entity\" style=\"background: #c887fb; padding: 0.45em 0.6em; margin: 0 0.25em; line-height: 1; border-radius: 0.35em;\">\n",
       "    Southern\n",
       "    <span style=\"font-size: 0.8em; font-weight: bold; line-height: 1; border-radius: 0.35em; vertical-align: middle; margin-left: 0.5rem\">NORP</span>\n",
       "</mark>\n",
       " states in light of the ongoing abolitionist movement culminated in their secession and unification under \n",
       "<mark class=\"entity\" style=\"background: #feca74; padding: 0.45em 0.6em; margin: 0 0.25em; line-height: 1; border-radius: 0.35em;\">\n",
       "    the Confederate States of America\n",
       "    <span style=\"font-size: 0.8em; font-weight: bold; line-height: 1; border-radius: 0.35em; vertical-align: middle; margin-left: 0.5rem\">GPE</span>\n",
       "</mark>\n",
       ", which fought \n",
       "<mark class=\"entity\" style=\"background: #feca74; padding: 0.45em 0.6em; margin: 0 0.25em; line-height: 1; border-radius: 0.35em;\">\n",
       "    the United States\n",
       "    <span style=\"font-size: 0.8em; font-weight: bold; line-height: 1; border-radius: 0.35em; vertical-align: middle; margin-left: 0.5rem\">GPE</span>\n",
       "</mark>\n",
       " (the Union) during \n",
       "<mark class=\"entity\" style=\"background: #7aecec; padding: 0.45em 0.6em; margin: 0 0.25em; line-height: 1; border-radius: 0.35em;\">\n",
       "    the American Civil War\n",
       "    <span style=\"font-size: 0.8em; font-weight: bold; line-height: 1; border-radius: 0.35em; vertical-align: middle; margin-left: 0.5rem\">ORG</span>\n",
       "</mark>\n",
       " (1861–1865). The \n",
       "<mark class=\"entity\" style=\"background: #7aecec; padding: 0.45em 0.6em; margin: 0 0.25em; line-height: 1; border-radius: 0.35em;\">\n",
       "    Union\n",
       "    <span style=\"font-size: 0.8em; font-weight: bold; line-height: 1; border-radius: 0.35em; vertical-align: middle; margin-left: 0.5rem\">ORG</span>\n",
       "</mark>\n",
       "'s victory preserved \n",
       "<mark class=\"entity\" style=\"background: #feca74; padding: 0.45em 0.6em; margin: 0 0.25em; line-height: 1; border-radius: 0.35em;\">\n",
       "    the United States\n",
       "    <span style=\"font-size: 0.8em; font-weight: bold; line-height: 1; border-radius: 0.35em; vertical-align: middle; margin-left: 0.5rem\">GPE</span>\n",
       "</mark>\n",
       ", and slavery was abolished with the ratification of \n",
       "<mark class=\"entity\" style=\"background: #ff8197; padding: 0.45em 0.6em; margin: 0 0.25em; line-height: 1; border-radius: 0.35em;\">\n",
       "    the Thirteenth Amendment\n",
       "    <span style=\"font-size: 0.8em; font-weight: bold; line-height: 1; border-radius: 0.35em; vertical-align: middle; margin-left: 0.5rem\">LAW</span>\n",
       "</mark>\n",
       ".</br></br>The \n",
       "<mark class=\"entity\" style=\"background: #c887fb; padding: 0.45em 0.6em; margin: 0 0.25em; line-height: 1; border-radius: 0.35em;\">\n",
       "    Spanish\n",
       "    <span style=\"font-size: 0.8em; font-weight: bold; line-height: 1; border-radius: 0.35em; vertical-align: middle; margin-left: 0.5rem\">NORP</span>\n",
       "</mark>\n",
       "–American War and \n",
       "<mark class=\"entity\" style=\"background: #ffeb80; padding: 0.45em 0.6em; margin: 0 0.25em; line-height: 1; border-radius: 0.35em;\">\n",
       "    World War\n",
       "    <span style=\"font-size: 0.8em; font-weight: bold; line-height: 1; border-radius: 0.35em; vertical-align: middle; margin-left: 0.5rem\">EVENT</span>\n",
       "</mark>\n",
       " I established the \n",
       "<mark class=\"entity\" style=\"background: #feca74; padding: 0.45em 0.6em; margin: 0 0.25em; line-height: 1; border-radius: 0.35em;\">\n",
       "    U.S.\n",
       "    <span style=\"font-size: 0.8em; font-weight: bold; line-height: 1; border-radius: 0.35em; vertical-align: middle; margin-left: 0.5rem\">GPE</span>\n",
       "</mark>\n",
       " as a world power, and the aftermath of \n",
       "<mark class=\"entity\" style=\"background: #ffeb80; padding: 0.45em 0.6em; margin: 0 0.25em; line-height: 1; border-radius: 0.35em;\">\n",
       "    World War II\n",
       "    <span style=\"font-size: 0.8em; font-weight: bold; line-height: 1; border-radius: 0.35em; vertical-align: middle; margin-left: 0.5rem\">EVENT</span>\n",
       "</mark>\n",
       " left \n",
       "<mark class=\"entity\" style=\"background: #feca74; padding: 0.45em 0.6em; margin: 0 0.25em; line-height: 1; border-radius: 0.35em;\">\n",
       "    the United States\n",
       "    <span style=\"font-size: 0.8em; font-weight: bold; line-height: 1; border-radius: 0.35em; vertical-align: middle; margin-left: 0.5rem\">GPE</span>\n",
       "</mark>\n",
       " and \n",
       "<mark class=\"entity\" style=\"background: #feca74; padding: 0.45em 0.6em; margin: 0 0.25em; line-height: 1; border-radius: 0.35em;\">\n",
       "    the Soviet Union\n",
       "    <span style=\"font-size: 0.8em; font-weight: bold; line-height: 1; border-radius: 0.35em; vertical-align: middle; margin-left: 0.5rem\">GPE</span>\n",
       "</mark>\n",
       " as the world's \n",
       "<mark class=\"entity\" style=\"background: #e4e7d2; padding: 0.45em 0.6em; margin: 0 0.25em; line-height: 1; border-radius: 0.35em;\">\n",
       "    two\n",
       "    <span style=\"font-size: 0.8em; font-weight: bold; line-height: 1; border-radius: 0.35em; vertical-align: middle; margin-left: 0.5rem\">CARDINAL</span>\n",
       "</mark>\n",
       " superpowers. During \n",
       "<mark class=\"entity\" style=\"background: #ffeb80; padding: 0.45em 0.6em; margin: 0 0.25em; line-height: 1; border-radius: 0.35em;\">\n",
       "    the Cold War\n",
       "    <span style=\"font-size: 0.8em; font-weight: bold; line-height: 1; border-radius: 0.35em; vertical-align: middle; margin-left: 0.5rem\">EVENT</span>\n",
       "</mark>\n",
       ", both countries engaged in a struggle for ideological dominance, but avoided direct military conflict. They also competed in \n",
       "<mark class=\"entity\" style=\"background: #9cc9cc; padding: 0.45em 0.6em; margin: 0 0.25em; line-height: 1; border-radius: 0.35em;\">\n",
       "    the Space Race\n",
       "    <span style=\"font-size: 0.8em; font-weight: bold; line-height: 1; border-radius: 0.35em; vertical-align: middle; margin-left: 0.5rem\">FAC</span>\n",
       "</mark>\n",
       ", which culminated in the \n",
       "<mark class=\"entity\" style=\"background: #bfe1d9; padding: 0.45em 0.6em; margin: 0 0.25em; line-height: 1; border-radius: 0.35em;\">\n",
       "    1969\n",
       "    <span style=\"font-size: 0.8em; font-weight: bold; line-height: 1; border-radius: 0.35em; vertical-align: middle; margin-left: 0.5rem\">DATE</span>\n",
       "</mark>\n",
       " \n",
       "<mark class=\"entity\" style=\"background: #c887fb; padding: 0.45em 0.6em; margin: 0 0.25em; line-height: 1; border-radius: 0.35em;\">\n",
       "    American\n",
       "    <span style=\"font-size: 0.8em; font-weight: bold; line-height: 1; border-radius: 0.35em; vertical-align: middle; margin-left: 0.5rem\">NORP</span>\n",
       "</mark>\n",
       " spaceflight that \n",
       "<mark class=\"entity\" style=\"background: #e4e7d2; padding: 0.45em 0.6em; margin: 0 0.25em; line-height: 1; border-radius: 0.35em;\">\n",
       "    first\n",
       "    <span style=\"font-size: 0.8em; font-weight: bold; line-height: 1; border-radius: 0.35em; vertical-align: middle; margin-left: 0.5rem\">ORDINAL</span>\n",
       "</mark>\n",
       " landed humans on the \n",
       "<mark class=\"entity\" style=\"background: #aa9cfc; padding: 0.45em 0.6em; margin: 0 0.25em; line-height: 1; border-radius: 0.35em;\">\n",
       "    Moon\n",
       "    <span style=\"font-size: 0.8em; font-weight: bold; line-height: 1; border-radius: 0.35em; vertical-align: middle; margin-left: 0.5rem\">PERSON</span>\n",
       "</mark>\n",
       ". Simultaneously, the civil rights movement led to legislation outlawing racial discrimination against \n",
       "<mark class=\"entity\" style=\"background: #c887fb; padding: 0.45em 0.6em; margin: 0 0.25em; line-height: 1; border-radius: 0.35em;\">\n",
       "    African Americans\n",
       "    <span style=\"font-size: 0.8em; font-weight: bold; line-height: 1; border-radius: 0.35em; vertical-align: middle; margin-left: 0.5rem\">NORP</span>\n",
       "</mark>\n",
       ". \n",
       "<mark class=\"entity\" style=\"background: #feca74; padding: 0.45em 0.6em; margin: 0 0.25em; line-height: 1; border-radius: 0.35em;\">\n",
       "    The Soviet Union's\n",
       "    <span style=\"font-size: 0.8em; font-weight: bold; line-height: 1; border-radius: 0.35em; vertical-align: middle; margin-left: 0.5rem\">GPE</span>\n",
       "</mark>\n",
       " dissolution in \n",
       "<mark class=\"entity\" style=\"background: #bfe1d9; padding: 0.45em 0.6em; margin: 0 0.25em; line-height: 1; border-radius: 0.35em;\">\n",
       "    1991\n",
       "    <span style=\"font-size: 0.8em; font-weight: bold; line-height: 1; border-radius: 0.35em; vertical-align: middle; margin-left: 0.5rem\">DATE</span>\n",
       "</mark>\n",
       " ended \n",
       "<mark class=\"entity\" style=\"background: #ffeb80; padding: 0.45em 0.6em; margin: 0 0.25em; line-height: 1; border-radius: 0.35em;\">\n",
       "    the Cold War\n",
       "    <span style=\"font-size: 0.8em; font-weight: bold; line-height: 1; border-radius: 0.35em; vertical-align: middle; margin-left: 0.5rem\">EVENT</span>\n",
       "</mark>\n",
       ", leaving \n",
       "<mark class=\"entity\" style=\"background: #feca74; padding: 0.45em 0.6em; margin: 0 0.25em; line-height: 1; border-radius: 0.35em;\">\n",
       "    the United States\n",
       "    <span style=\"font-size: 0.8em; font-weight: bold; line-height: 1; border-radius: 0.35em; vertical-align: middle; margin-left: 0.5rem\">GPE</span>\n",
       "</mark>\n",
       " as the world's sole superpower. The \n",
       "<mark class=\"entity\" style=\"background: #bfe1d9; padding: 0.45em 0.6em; margin: 0 0.25em; line-height: 1; border-radius: 0.35em;\">\n",
       "    September 11\n",
       "    <span style=\"font-size: 0.8em; font-weight: bold; line-height: 1; border-radius: 0.35em; vertical-align: middle; margin-left: 0.5rem\">DATE</span>\n",
       "</mark>\n",
       " attacks in \n",
       "<mark class=\"entity\" style=\"background: #bfe1d9; padding: 0.45em 0.6em; margin: 0 0.25em; line-height: 1; border-radius: 0.35em;\">\n",
       "    2001\n",
       "    <span style=\"font-size: 0.8em; font-weight: bold; line-height: 1; border-radius: 0.35em; vertical-align: middle; margin-left: 0.5rem\">DATE</span>\n",
       "</mark>\n",
       " resulted in \n",
       "<mark class=\"entity\" style=\"background: #feca74; padding: 0.45em 0.6em; margin: 0 0.25em; line-height: 1; border-radius: 0.35em;\">\n",
       "    the United States\n",
       "    <span style=\"font-size: 0.8em; font-weight: bold; line-height: 1; border-radius: 0.35em; vertical-align: middle; margin-left: 0.5rem\">GPE</span>\n",
       "</mark>\n",
       " launching the war on terror, which included \n",
       "<mark class=\"entity\" style=\"background: #ffeb80; padding: 0.45em 0.6em; margin: 0 0.25em; line-height: 1; border-radius: 0.35em;\">\n",
       "    the War\n",
       "    <span style=\"font-size: 0.8em; font-weight: bold; line-height: 1; border-radius: 0.35em; vertical-align: middle; margin-left: 0.5rem\">EVENT</span>\n",
       "</mark>\n",
       " in \n",
       "<mark class=\"entity\" style=\"background: #feca74; padding: 0.45em 0.6em; margin: 0 0.25em; line-height: 1; border-radius: 0.35em;\">\n",
       "    Afghanistan\n",
       "    <span style=\"font-size: 0.8em; font-weight: bold; line-height: 1; border-radius: 0.35em; vertical-align: middle; margin-left: 0.5rem\">GPE</span>\n",
       "</mark>\n",
       " (\n",
       "<mark class=\"entity\" style=\"background: #e4e7d2; padding: 0.45em 0.6em; margin: 0 0.25em; line-height: 1; border-radius: 0.35em;\">\n",
       "    2001–2021\n",
       "    <span style=\"font-size: 0.8em; font-weight: bold; line-height: 1; border-radius: 0.35em; vertical-align: middle; margin-left: 0.5rem\">CARDINAL</span>\n",
       "</mark>\n",
       ") and \n",
       "<mark class=\"entity\" style=\"background: #ffeb80; padding: 0.45em 0.6em; margin: 0 0.25em; line-height: 1; border-radius: 0.35em;\">\n",
       "    the Iraq War\n",
       "    <span style=\"font-size: 0.8em; font-weight: bold; line-height: 1; border-radius: 0.35em; vertical-align: middle; margin-left: 0.5rem\">EVENT</span>\n",
       "</mark>\n",
       " (\n",
       "<mark class=\"entity\" style=\"background: #e4e7d2; padding: 0.45em 0.6em; margin: 0 0.25em; line-height: 1; border-radius: 0.35em;\">\n",
       "    2003–2011\n",
       "    <span style=\"font-size: 0.8em; font-weight: bold; line-height: 1; border-radius: 0.35em; vertical-align: middle; margin-left: 0.5rem\">CARDINAL</span>\n",
       "</mark>\n",
       ").</br></br>\n",
       "<mark class=\"entity\" style=\"background: #feca74; padding: 0.45em 0.6em; margin: 0 0.25em; line-height: 1; border-radius: 0.35em;\">\n",
       "    The United States\n",
       "    <span style=\"font-size: 0.8em; font-weight: bold; line-height: 1; border-radius: 0.35em; vertical-align: middle; margin-left: 0.5rem\">GPE</span>\n",
       "</mark>\n",
       " is a federal republic with \n",
       "<mark class=\"entity\" style=\"background: #e4e7d2; padding: 0.45em 0.6em; margin: 0 0.25em; line-height: 1; border-radius: 0.35em;\">\n",
       "    three\n",
       "    <span style=\"font-size: 0.8em; font-weight: bold; line-height: 1; border-radius: 0.35em; vertical-align: middle; margin-left: 0.5rem\">CARDINAL</span>\n",
       "</mark>\n",
       " separate branches of government, including a bicameral legislature. It is a liberal democracy and market economy; it ranks high in international measures of human rights, quality of life, income and wealth, economic competitiveness, and education; and it has low levels of perceived corruption. It has high levels of incarceration and inequality, retains capital punishment, and lacks universal health care.</br></br>\n",
       "<mark class=\"entity\" style=\"background: #feca74; padding: 0.45em 0.6em; margin: 0 0.25em; line-height: 1; border-radius: 0.35em;\">\n",
       "    The United States\n",
       "    <span style=\"font-size: 0.8em; font-weight: bold; line-height: 1; border-radius: 0.35em; vertical-align: middle; margin-left: 0.5rem\">GPE</span>\n",
       "</mark>\n",
       " is a highly developed country, and its economy accounts for \n",
       "<mark class=\"entity\" style=\"background: #bfe1d9; padding: 0.45em 0.6em; margin: 0 0.25em; line-height: 1; border-radius: 0.35em;\">\n",
       "    approximately a quarter\n",
       "    <span style=\"font-size: 0.8em; font-weight: bold; line-height: 1; border-radius: 0.35em; vertical-align: middle; margin-left: 0.5rem\">DATE</span>\n",
       "</mark>\n",
       " of global GDP and is the world's largest by GDP at market exchange rates. By value, \n",
       "<mark class=\"entity\" style=\"background: #feca74; padding: 0.45em 0.6em; margin: 0 0.25em; line-height: 1; border-radius: 0.35em;\">\n",
       "    the United States\n",
       "    <span style=\"font-size: 0.8em; font-weight: bold; line-height: 1; border-radius: 0.35em; vertical-align: middle; margin-left: 0.5rem\">GPE</span>\n",
       "</mark>\n",
       " is the world's largest importer and \n",
       "<mark class=\"entity\" style=\"background: #e4e7d2; padding: 0.45em 0.6em; margin: 0 0.25em; line-height: 1; border-radius: 0.35em;\">\n",
       "    second\n",
       "    <span style=\"font-size: 0.8em; font-weight: bold; line-height: 1; border-radius: 0.35em; vertical-align: middle; margin-left: 0.5rem\">ORDINAL</span>\n",
       "</mark>\n",
       "-largest exporter. Although it accounts for \n",
       "<mark class=\"entity\" style=\"background: #e4e7d2; padding: 0.45em 0.6em; margin: 0 0.25em; line-height: 1; border-radius: 0.35em;\">\n",
       "    just over 4.2%\n",
       "    <span style=\"font-size: 0.8em; font-weight: bold; line-height: 1; border-radius: 0.35em; vertical-align: middle; margin-left: 0.5rem\">PERCENT</span>\n",
       "</mark>\n",
       " of the world's total population, the \n",
       "<mark class=\"entity\" style=\"background: #feca74; padding: 0.45em 0.6em; margin: 0 0.25em; line-height: 1; border-radius: 0.35em;\">\n",
       "    U.S.\n",
       "    <span style=\"font-size: 0.8em; font-weight: bold; line-height: 1; border-radius: 0.35em; vertical-align: middle; margin-left: 0.5rem\">GPE</span>\n",
       "</mark>\n",
       " holds \n",
       "<mark class=\"entity\" style=\"background: #e4e7d2; padding: 0.45em 0.6em; margin: 0 0.25em; line-height: 1; border-radius: 0.35em;\">\n",
       "    over 30%\n",
       "    <span style=\"font-size: 0.8em; font-weight: bold; line-height: 1; border-radius: 0.35em; vertical-align: middle; margin-left: 0.5rem\">PERCENT</span>\n",
       "</mark>\n",
       " of the total wealth in the world, the largest share held by any country. \n",
       "<mark class=\"entity\" style=\"background: #feca74; padding: 0.45em 0.6em; margin: 0 0.25em; line-height: 1; border-radius: 0.35em;\">\n",
       "    The United States\n",
       "    <span style=\"font-size: 0.8em; font-weight: bold; line-height: 1; border-radius: 0.35em; vertical-align: middle; margin-left: 0.5rem\">GPE</span>\n",
       "</mark>\n",
       " is a founding member of \n",
       "<mark class=\"entity\" style=\"background: #7aecec; padding: 0.45em 0.6em; margin: 0 0.25em; line-height: 1; border-radius: 0.35em;\">\n",
       "    the United Nations\n",
       "    <span style=\"font-size: 0.8em; font-weight: bold; line-height: 1; border-radius: 0.35em; vertical-align: middle; margin-left: 0.5rem\">ORG</span>\n",
       "</mark>\n",
       ", \n",
       "<mark class=\"entity\" style=\"background: #7aecec; padding: 0.45em 0.6em; margin: 0 0.25em; line-height: 1; border-radius: 0.35em;\">\n",
       "    World Bank\n",
       "    <span style=\"font-size: 0.8em; font-weight: bold; line-height: 1; border-radius: 0.35em; vertical-align: middle; margin-left: 0.5rem\">ORG</span>\n",
       "</mark>\n",
       ", \n",
       "<mark class=\"entity\" style=\"background: #7aecec; padding: 0.45em 0.6em; margin: 0 0.25em; line-height: 1; border-radius: 0.35em;\">\n",
       "    International Monetary Fund\n",
       "    <span style=\"font-size: 0.8em; font-weight: bold; line-height: 1; border-radius: 0.35em; vertical-align: middle; margin-left: 0.5rem\">ORG</span>\n",
       "</mark>\n",
       ", \n",
       "<mark class=\"entity\" style=\"background: #7aecec; padding: 0.45em 0.6em; margin: 0 0.25em; line-height: 1; border-radius: 0.35em;\">\n",
       "    Organization of American States\n",
       "    <span style=\"font-size: 0.8em; font-weight: bold; line-height: 1; border-radius: 0.35em; vertical-align: middle; margin-left: 0.5rem\">ORG</span>\n",
       "</mark>\n",
       ", \n",
       "<mark class=\"entity\" style=\"background: #7aecec; padding: 0.45em 0.6em; margin: 0 0.25em; line-height: 1; border-radius: 0.35em;\">\n",
       "    NATO\n",
       "    <span style=\"font-size: 0.8em; font-weight: bold; line-height: 1; border-radius: 0.35em; vertical-align: middle; margin-left: 0.5rem\">ORG</span>\n",
       "</mark>\n",
       ", and a permanent member of \n",
       "<mark class=\"entity\" style=\"background: #7aecec; padding: 0.45em 0.6em; margin: 0 0.25em; line-height: 1; border-radius: 0.35em;\">\n",
       "    the United Nations Security Council\n",
       "    <span style=\"font-size: 0.8em; font-weight: bold; line-height: 1; border-radius: 0.35em; vertical-align: middle; margin-left: 0.5rem\">ORG</span>\n",
       "</mark>\n",
       ". The country makes up \n",
       "<mark class=\"entity\" style=\"background: #e4e7d2; padding: 0.45em 0.6em; margin: 0 0.25em; line-height: 1; border-radius: 0.35em;\">\n",
       "    more than a third\n",
       "    <span style=\"font-size: 0.8em; font-weight: bold; line-height: 1; border-radius: 0.35em; vertical-align: middle; margin-left: 0.5rem\">CARDINAL</span>\n",
       "</mark>\n",
       " of global military spending, and is the foremost military power in the world and a leading political, cultural, and scientific force.</div></span>"
      ],
      "text/plain": [
       "<IPython.core.display.HTML object>"
      ]
     },
     "metadata": {},
     "output_type": "display_data"
    }
   ],
   "source": [
    "spacy.displacy.render(doc,style='ent',jupyter=True)"
   ]
  },
  {
   "cell_type": "markdown",
   "metadata": {
    "id": "P-eWvw3wdLiY"
   },
   "source": [
    "<b>Next, we are going to discuss word embeddings for word vectors that's why we need to download the next largest English model that is en_core_web_sm because the small model doesn't have these saved</b>"
   ]
  },
  {
   "cell_type": "code",
   "execution_count": 21,
   "metadata": {
    "colab": {
     "base_uri": "https://localhost:8080/"
    },
    "id": "vhh0F8ieDCQK",
    "outputId": "78fee1ef-ae7a-4432-f022-c1d7931378aa"
   },
   "outputs": [
    {
     "name": "stdout",
     "output_type": "stream",
     "text": [
      "Collecting en-core-web-md==3.4.1\n",
      "  Downloading https://github.com/explosion/spacy-models/releases/download/en_core_web_md-3.4.1/en_core_web_md-3.4.1-py3-none-any.whl (42.8 MB)\n",
      "\u001b[K     |████████████████████████████████| 42.8 MB 4.1 MB/s eta 0:00:012     |█████████████                   | 17.4 MB 24.8 MB/s eta 0:00:02     |████████████████▋               | 22.2 MB 1.9 MB/s eta 0:00:11     |████████████████████████▉       | 33.2 MB 1.9 MB/s eta 0:00:05\n",
      "\u001b[?25hRequirement already satisfied: spacy<3.5.0,>=3.4.0 in /home/xylexa/anaconda3/lib/python3.9/site-packages (from en-core-web-md==3.4.1) (3.4.0)\n",
      "Requirement already satisfied: typer<0.5.0,>=0.3.0 in /home/xylexa/anaconda3/lib/python3.9/site-packages (from spacy<3.5.0,>=3.4.0->en-core-web-md==3.4.1) (0.4.2)\n",
      "Requirement already satisfied: spacy-loggers<2.0.0,>=1.0.0 in /home/xylexa/anaconda3/lib/python3.9/site-packages (from spacy<3.5.0,>=3.4.0->en-core-web-md==3.4.1) (1.0.3)\n",
      "Requirement already satisfied: murmurhash<1.1.0,>=0.28.0 in /home/xylexa/anaconda3/lib/python3.9/site-packages (from spacy<3.5.0,>=3.4.0->en-core-web-md==3.4.1) (1.0.8)\n",
      "Requirement already satisfied: langcodes<4.0.0,>=3.2.0 in /home/xylexa/anaconda3/lib/python3.9/site-packages (from spacy<3.5.0,>=3.4.0->en-core-web-md==3.4.1) (3.3.0)\n",
      "Requirement already satisfied: pydantic!=1.8,!=1.8.1,<1.10.0,>=1.7.4 in /home/xylexa/anaconda3/lib/python3.9/site-packages (from spacy<3.5.0,>=3.4.0->en-core-web-md==3.4.1) (1.9.2)\n",
      "Requirement already satisfied: jinja2 in /home/xylexa/anaconda3/lib/python3.9/site-packages (from spacy<3.5.0,>=3.4.0->en-core-web-md==3.4.1) (2.11.3)\n",
      "Requirement already satisfied: setuptools in /home/xylexa/anaconda3/lib/python3.9/site-packages (from spacy<3.5.0,>=3.4.0->en-core-web-md==3.4.1) (61.2.0)\n",
      "Requirement already satisfied: cymem<2.1.0,>=2.0.2 in /home/xylexa/anaconda3/lib/python3.9/site-packages (from spacy<3.5.0,>=3.4.0->en-core-web-md==3.4.1) (2.0.6)\n",
      "Requirement already satisfied: thinc<8.2.0,>=8.1.0 in /home/xylexa/anaconda3/lib/python3.9/site-packages (from spacy<3.5.0,>=3.4.0->en-core-web-md==3.4.1) (8.1.1)\n",
      "Requirement already satisfied: requests<3.0.0,>=2.13.0 in /home/xylexa/anaconda3/lib/python3.9/site-packages (from spacy<3.5.0,>=3.4.0->en-core-web-md==3.4.1) (2.27.1)\n",
      "Requirement already satisfied: spacy-legacy<3.1.0,>=3.0.9 in /home/xylexa/anaconda3/lib/python3.9/site-packages (from spacy<3.5.0,>=3.4.0->en-core-web-md==3.4.1) (3.0.10)\n",
      "Requirement already satisfied: tqdm<5.0.0,>=4.38.0 in /home/xylexa/anaconda3/lib/python3.9/site-packages (from spacy<3.5.0,>=3.4.0->en-core-web-md==3.4.1) (4.64.0)\n",
      "Requirement already satisfied: pathy>=0.3.5 in /home/xylexa/anaconda3/lib/python3.9/site-packages (from spacy<3.5.0,>=3.4.0->en-core-web-md==3.4.1) (0.6.2)\n",
      "Requirement already satisfied: numpy>=1.15.0 in /home/xylexa/anaconda3/lib/python3.9/site-packages (from spacy<3.5.0,>=3.4.0->en-core-web-md==3.4.1) (1.21.5)\n",
      "Requirement already satisfied: preshed<3.1.0,>=3.0.2 in /home/xylexa/anaconda3/lib/python3.9/site-packages (from spacy<3.5.0,>=3.4.0->en-core-web-md==3.4.1) (3.0.7)\n",
      "Requirement already satisfied: wasabi<1.1.0,>=0.9.1 in /home/xylexa/anaconda3/lib/python3.9/site-packages (from spacy<3.5.0,>=3.4.0->en-core-web-md==3.4.1) (0.10.1)\n",
      "Requirement already satisfied: srsly<3.0.0,>=2.4.3 in /home/xylexa/anaconda3/lib/python3.9/site-packages (from spacy<3.5.0,>=3.4.0->en-core-web-md==3.4.1) (2.4.4)\n",
      "Requirement already satisfied: packaging>=20.0 in /home/xylexa/anaconda3/lib/python3.9/site-packages (from spacy<3.5.0,>=3.4.0->en-core-web-md==3.4.1) (21.3)\n",
      "Requirement already satisfied: catalogue<2.1.0,>=2.0.6 in /home/xylexa/anaconda3/lib/python3.9/site-packages (from spacy<3.5.0,>=3.4.0->en-core-web-md==3.4.1) (2.0.8)\n",
      "Requirement already satisfied: pyparsing!=3.0.5,>=2.0.2 in /home/xylexa/anaconda3/lib/python3.9/site-packages (from packaging>=20.0->spacy<3.5.0,>=3.4.0->en-core-web-md==3.4.1) (3.0.4)\n",
      "Requirement already satisfied: smart-open<6.0.0,>=5.2.1 in /home/xylexa/anaconda3/lib/python3.9/site-packages (from pathy>=0.3.5->spacy<3.5.0,>=3.4.0->en-core-web-md==3.4.1) (5.2.1)\n",
      "Requirement already satisfied: typing-extensions>=3.7.4.3 in /home/xylexa/anaconda3/lib/python3.9/site-packages (from pydantic!=1.8,!=1.8.1,<1.10.0,>=1.7.4->spacy<3.5.0,>=3.4.0->en-core-web-md==3.4.1) (4.1.1)\n",
      "Requirement already satisfied: urllib3<1.27,>=1.21.1 in /home/xylexa/anaconda3/lib/python3.9/site-packages (from requests<3.0.0,>=2.13.0->spacy<3.5.0,>=3.4.0->en-core-web-md==3.4.1) (1.26.9)\n",
      "Requirement already satisfied: certifi>=2017.4.17 in /home/xylexa/anaconda3/lib/python3.9/site-packages (from requests<3.0.0,>=2.13.0->spacy<3.5.0,>=3.4.0->en-core-web-md==3.4.1) (2021.10.8)\n",
      "Requirement already satisfied: idna<4,>=2.5 in /home/xylexa/anaconda3/lib/python3.9/site-packages (from requests<3.0.0,>=2.13.0->spacy<3.5.0,>=3.4.0->en-core-web-md==3.4.1) (3.3)\n",
      "Requirement already satisfied: charset-normalizer~=2.0.0 in /home/xylexa/anaconda3/lib/python3.9/site-packages (from requests<3.0.0,>=2.13.0->spacy<3.5.0,>=3.4.0->en-core-web-md==3.4.1) (2.0.4)\n",
      "Requirement already satisfied: confection<1.0.0,>=0.0.1 in /home/xylexa/anaconda3/lib/python3.9/site-packages (from thinc<8.2.0,>=8.1.0->spacy<3.5.0,>=3.4.0->en-core-web-md==3.4.1) (0.0.1)\n",
      "Requirement already satisfied: blis<0.10.0,>=0.7.8 in /home/xylexa/anaconda3/lib/python3.9/site-packages (from thinc<8.2.0,>=8.1.0->spacy<3.5.0,>=3.4.0->en-core-web-md==3.4.1) (0.9.1)\n",
      "Requirement already satisfied: click<9.0.0,>=7.1.1 in /home/xylexa/anaconda3/lib/python3.9/site-packages (from typer<0.5.0,>=0.3.0->spacy<3.5.0,>=3.4.0->en-core-web-md==3.4.1) (8.0.4)\n",
      "Requirement already satisfied: MarkupSafe>=0.23 in /home/xylexa/anaconda3/lib/python3.9/site-packages (from jinja2->spacy<3.5.0,>=3.4.0->en-core-web-md==3.4.1) (2.0.1)\n",
      "\u001b[38;5;2m✔ Download and installation successful\u001b[0m\n",
      "You can now load the package via spacy.load('en_core_web_md')\n"
     ]
    }
   ],
   "source": [
    "!python -m spacy download en_core_web_md"
   ]
  },
  {
   "cell_type": "code",
   "execution_count": 22,
   "metadata": {
    "id": "u2kcAqSpNFL2"
   },
   "outputs": [],
   "source": [
    "nlp = spacy.load(\"en_core_web_md\")\n",
    "with open (\"wiki_us.txt\", \"r\") as f:\n",
    "    text = f.read()\n",
    "doc = nlp(text)\n",
    "sentence1 = list(doc.sents)[0]"
   ]
  },
  {
   "cell_type": "markdown",
   "metadata": {
    "id": "W4h53yXOcteO"
   },
   "source": [
    "# Word Vectors\n",
    "Words are represented mathematically in multidimensional space by word vectors, also known as word embeddings. In order for a computer system to comprehend a word, it must be given a word vector. Text is difficult for computers to comprehend well. But they are capable of processing numbers swiftly and accurately. This makes word to number conversion crucial.\n",
    "\n",
    "In the beginning, all the words in a corpus are converted into a single, unique number in order to create word vectors in a pipeline. Then, a dictionary with the following format is used to hold these words: \"The,\" \"a,\" \"2,\" etc. This is referred to as a bag of words. However, using this method of numerical representation only enables a computer to recognise particular phrases by their numerical representation. The ability for a machine to comprehend meaning is not provided by this.\n",
    "\n",
    "Let's take a scenario:\n",
    "\n",
    "I love to eat bananas\n",
    "I like to eat bananas\n",
    "\n",
    "A numerical array (list) of these sentences would seem as follows:\n",
    "\n",
    "[3, 5, 6, 8, 9]\n",
    "\n",
    "[3, 2, 6, 8, 9]\n",
    "\n",
    "As we can see, both phrases are essentially equivalent to humans. The only difference is how much Tom enjoys eating chocolate. These two statements appear to have very similar numbers, yet it is impossible to determine for sure what they mean semantically. What degree of similarity exists between the numbers 5 and 2? The number 6 can be used to symbolise both \"hates\" and \"likes.\" Word vectors can be useful in this situation.\n",
    "\n",
    "By representing them in the higher-dimensional space mentioned above, word vectors transform this one-dimensional collection of words into ones with a multidimensional meaning. This is accomplished using machine learning, which is easily accomplished using Python modules such as Gensim."
   ]
  },
  {
   "cell_type": "markdown",
   "metadata": {
    "id": "vCJpwM34Cb6p"
   },
   "source": [
    "# How Do Word Vectors Appear?"
   ]
  },
  {
   "cell_type": "markdown",
   "metadata": {
    "id": "H_PfqWoiFw0Q"
   },
   "source": [
    "There is a predetermined set of dimensions for word vectors. Machine learning has been used to refine these dimensions. Models consider the frequency of words in a corpus as well as the presence of other terms in similar situations. This enables the computer to calculate the numerical similarity of words' syntactical structures. The relationships must then be mathematically represented. This is accomplished using a vector or a matrix of matrices. Models compress a matrix to a float to more succinctly depict these. The number of dimensions corresponds to the number of floats in the matrix.\n",
    "\n",
    "Let's examine the first word in our sentence. Let's take a closer look at its vector."
   ]
  },
  {
   "cell_type": "code",
   "execution_count": 23,
   "metadata": {
    "colab": {
     "base_uri": "https://localhost:8080/"
    },
    "id": "T8oPN_XKjcYU",
    "outputId": "ae4d4a24-7c9e-4d70-8319-dbf02d8da362"
   },
   "outputs": [
    {
     "name": "stdout",
     "output_type": "stream",
     "text": [
      "[-7.2681e+00 -8.5717e-01  5.8105e+00  1.9771e+00  8.8147e+00 -5.8579e+00\n",
      "  3.7143e+00  3.5850e+00  4.7987e+00 -4.4251e+00  1.7461e+00 -3.7296e+00\n",
      " -5.1407e+00 -1.0792e+00 -2.5555e+00  3.0755e+00  5.0141e+00  5.8525e+00\n",
      "  7.3378e+00 -2.7689e+00 -5.1641e+00 -1.9879e+00  2.9782e+00  2.1024e+00\n",
      "  4.4306e+00  8.4355e-01 -6.8742e+00 -4.2949e+00 -1.7294e-01  3.6074e+00\n",
      "  8.4379e-01  3.3419e-01 -4.8147e+00  3.5683e-02 -1.3721e+01 -4.6528e+00\n",
      " -1.4021e+00  4.8342e-01  1.2549e+00 -4.0644e+00  3.3278e+00 -2.1590e-01\n",
      " -5.1786e+00  3.5360e+00 -3.1575e+00 -3.5273e+00 -3.6753e+00  1.5863e+00\n",
      " -8.1594e+00 -3.4657e+00  1.5262e+00  4.8135e+00 -3.8428e+00 -3.9082e+00\n",
      "  6.7549e-01 -3.5787e-01 -1.7806e+00  3.5284e+00 -5.1114e-02 -9.7150e-01\n",
      " -9.0553e-01 -1.5570e+00  1.2038e+00  4.7708e+00  9.8561e-01 -2.3186e+00\n",
      " -7.4899e+00 -9.5389e+00  8.5572e+00  2.7420e+00 -3.6270e+00  2.7456e+00\n",
      " -6.9574e+00 -1.7190e+00 -2.9145e+00  1.1838e+00  3.7864e+00  2.0413e+00\n",
      " -3.5808e+00  1.4319e+00  2.0528e-01 -7.0640e-01 -5.3556e+00 -2.5911e+00\n",
      "  4.4922e+00  1.6574e+00  3.9794e+00 -4.3560e+00 -2.7266e+00  1.9581e+00\n",
      " -3.4842e+00 -3.9674e+00  3.2690e+00  6.6683e-01  3.9837e+00 -6.5997e+00\n",
      "  4.1630e+00  8.0338e+00  3.8102e-01  8.2656e+00  9.7061e-01 -5.0807e+00\n",
      "  4.9522e+00  7.5018e+00  3.8305e+00 -3.3233e+00  4.9126e+00  2.4189e-01\n",
      "  3.8218e+00 -3.9717e+00  2.4691e+00  1.3721e+01 -8.9664e+00  1.0610e+01\n",
      "  6.9425e-01 -1.1082e+01 -5.6883e+00  2.3287e+00  1.6451e+00  3.6006e+00\n",
      "  1.2588e-01 -6.1956e+00  1.1455e+01  5.6682e+00 -5.0251e-01 -9.8515e-01\n",
      "  8.8902e-02 -4.0213e+00  3.6134e+00 -9.0936e+00 -1.4555e+01 -2.5591e+00\n",
      "  4.0959e+00 -3.5929e-01  1.0219e+00  3.9402e+00  8.0495e-01 -3.6023e+00\n",
      "  2.6394e+00 -1.5258e-01 -2.6182e+00 -2.6268e-01 -2.1610e+00  2.3950e+00\n",
      "  6.8842e+00  3.6034e+00  1.8058e+00  2.4528e+00  4.4088e+00 -1.0598e+00\n",
      "  6.4964e+00  5.9196e+00 -1.0261e+00 -1.7013e+00 -4.4151e+00  4.3043e+00\n",
      " -1.7138e+00 -4.6690e+00 -5.5212e-01  5.3995e+00  1.8311e+00 -3.5820e-01\n",
      " -3.6578e-01 -2.8578e+00 -6.4639e+00 -3.2155e+00  6.7083e-01 -1.2800e+00\n",
      "  1.2782e+00  7.8274e-01  1.9839e-01 -1.4163e+00  2.1184e+00  1.5021e+00\n",
      " -1.8212e+00  1.6629e+00  4.0354e+00 -4.4648e+00 -3.4897e+00 -2.5765e+00\n",
      " -3.6317e+00 -4.1619e-02  4.8660e-01  2.0712e+00 -1.9166e+00 -3.4045e+00\n",
      " -7.6609e+00 -2.1940e+00 -2.3919e-03  8.4900e-01  1.3921e+00 -5.7830e+00\n",
      "  4.4739e+00  1.0642e+00  5.7864e+00  3.4643e+00 -5.9169e+00 -2.6925e+00\n",
      " -1.1271e-01 -6.0462e+00  3.9285e+00 -3.0423e+00 -6.9939e-02  2.2826e-01\n",
      "  8.0214e+00  2.2098e+00 -1.1049e+01  7.6001e-02 -1.5970e+00  2.0524e-01\n",
      "  2.8063e+00  3.5245e+00 -3.9300e+00 -9.7995e-01  4.0248e+00  1.8447e+00\n",
      " -2.0452e+00  1.1419e+00 -4.4600e-01 -9.5551e-01 -1.0224e+00  5.9224e+00\n",
      " -6.1688e+00 -8.3840e-01 -7.9102e+00 -8.9575e-02 -2.7741e-01  4.2703e+00\n",
      "  4.0212e+00 -1.1166e-01  2.5119e+00 -5.9635e+00 -1.2320e+00  2.8199e-01\n",
      " -4.1062e+00 -6.2923e-01 -5.2420e-01  2.5213e+00 -3.5094e+00  6.4333e+00\n",
      "  7.9466e+00 -3.3883e+00  5.2535e+00  9.4524e-02 -3.3336e+00  5.9621e+00\n",
      " -1.0794e+00 -6.0850e+00 -3.6071e+00 -3.8496e-01  7.6137e+00 -9.1081e+00\n",
      " -6.0037e+00 -2.4735e+00 -6.5050e-01 -6.3021e+00  8.5783e+00  1.7250e-01\n",
      "  4.3631e+00 -9.3439e+00  2.0984e-01  7.6900e-01  1.0763e+01  4.4598e-01\n",
      " -3.6584e+00 -3.0992e+00 -3.8868e+00  4.3337e+00 -5.8037e+00 -1.1337e+00\n",
      " -6.1562e+00  3.1820e-01 -1.0612e+00 -1.4809e+00  6.0373e+00  4.6015e-01\n",
      " -1.5530e+00 -1.0562e+00  5.8618e-01  3.4431e+00  4.5542e+00 -3.1881e+00\n",
      " -1.5832e+00  3.0859e+00  1.3061e+00 -8.0091e+00  7.7996e+00 -5.0644e+00\n",
      "  8.8719e+00  7.2337e-01 -1.2350e+00  1.6209e+00  7.8994e+00  1.0741e+01\n",
      "  8.1158e-01  9.0156e+00 -1.5913e+00 -5.3166e+00  3.5032e-01 -2.8850e+00]\n"
     ]
    }
   ],
   "source": [
    "print(sentence1[0].vector)"
   ]
  },
  {
   "cell_type": "markdown",
   "metadata": {
    "id": "A3bvbLEhMar3"
   },
   "source": [
    "We can perform similarity matches rapidly and accurately once a word vector model has been trained. Let's look at a few vectors from our medium-sized model. Let's look for the terms that are most similar to the word friends."
   ]
  },
  {
   "cell_type": "code",
   "execution_count": 24,
   "metadata": {
    "colab": {
     "base_uri": "https://localhost:8080/"
    },
    "id": "A61-DGlNLkLn",
    "outputId": "30b53c75-8799-4b98-e026-5e5398ec9e33"
   },
   "outputs": [
    {
     "name": "stdout",
     "output_type": "stream",
     "text": [
      "['friendzone', 'Boyfriends', 'Vriendt', 'kinships', 'skinship', 'Ungers', 'kamas', 'girlfriend-', 'Kuzuri', 'DeBeers']\n"
     ]
    }
   ],
   "source": [
    "import numpy as np\n",
    "\n",
    "word = \"friends\"\n",
    "\n",
    "most_similar = nlp.vocab.vectors.most_similar(np.asarray([nlp.vocab.vectors[nlp.vocab.strings[word]]]), n=10)\n",
    "words = [nlp.vocab.strings[w] for w in most_similar[0][0]]\n",
    "print(words)"
   ]
  },
  {
   "cell_type": "markdown",
   "metadata": {
    "id": "wAeuYB4ePLTf"
   },
   "source": [
    "# Doc Similarity\n",
    "This is also possible in spaCy at the document level. The similarity between two documents can be calculated using word vectors. Let's examine the illustration from spaCy's documentation."
   ]
  },
  {
   "cell_type": "code",
   "execution_count": 25,
   "metadata": {
    "colab": {
     "base_uri": "https://localhost:8080/"
    },
    "id": "XA5vM9KKNHha",
    "outputId": "30f71be6-c573-47b7-f65d-0414b87ffb2d"
   },
   "outputs": [
    {
     "name": "stdout",
     "output_type": "stream",
     "text": [
      "I like salty fries and hamburgers. <-> Fast food tastes very good. 0.6916494076349142\n"
     ]
    }
   ],
   "source": [
    "doc1 = nlp(\"I like salty fries and hamburgers.\")\n",
    "doc2 = nlp(\"Fast food tastes very good.\")\n",
    "\n",
    "# Similarity of two documents\n",
    "print(doc1, \"<->\", doc2, doc1.similarity(doc2))"
   ]
  },
  {
   "cell_type": "markdown",
   "metadata": {
    "id": "MUUoLNiGQQRg"
   },
   "source": [
    "## Word Similarity\n",
    "In spaCy, we can also calculate similarity between two words."
   ]
  },
  {
   "cell_type": "code",
   "execution_count": 26,
   "metadata": {
    "colab": {
     "base_uri": "https://localhost:8080/"
    },
    "id": "U2S5m-77PTq8",
    "outputId": "b5fb57ee-78fa-41a4-e87d-9e3ddb750c2d"
   },
   "outputs": [
    {
     "name": "stdout",
     "output_type": "stream",
     "text": [
      "bananas <-> coding 0.03394070640206337\n"
     ]
    }
   ],
   "source": [
    "# Similarity of tokens and spans\n",
    "doc=nlp(\"I love to eat bananas and I love coding\")\n",
    "fruit = doc[4:5]\n",
    "coding = doc[8]\n",
    "print(fruit, \"<->\", coding, fruit.similarity(coding))"
   ]
  },
  {
   "cell_type": "markdown",
   "metadata": {
    "id": "2mV0I5Y7RSDm"
   },
   "source": [
    "<br>There is 0.03 similarity score between banana and coding. That actually makes sense.</br>"
   ]
  },
  {
   "cell_type": "markdown",
   "metadata": {
    "id": "1w-VkvPfR4MZ"
   },
   "source": [
    "# Pipelines in spaCy\n",
    "\n",
    "When you use nlp on a text, spaCy tokenizes it first to create a Doc object. The Doc is subsequently processed in a number of phases; this is also known as the processing pipeline. A tagger, a lemmatizer, a parser, and an entity recognizer are frequently included in the pipeline utilised by trained pipelines. The processed Doc is returned by each pipeline component, which is then passed on to the next component.\n",
    "\n",
    "The capabilities of a processing pipeline are always determined by the components, their models, and the manner in which they were educated. For instance, a pipeline for named entity recognition must have a trained named entity recognizer component that has access to a statistical model and weights that allow it to forecast entity labels."
   ]
  },
  {
   "cell_type": "markdown",
   "metadata": {
    "id": "I1Ub6bEzVrCr"
   },
   "source": [
    "# Attribute Rulers\n",
    "For tokens identified by Matcher patterns, you can set token attributes using the attribute ruler. The attribute ruler is frequently used to manage token attribute exceptions and to map values between attributes, for example, mapping fine-grained POS tags to coarse-grained POS tags.\n",
    "\n",
    "-> Dependency Parser\n",
    "\n",
    "-> EntityLinker\n",
    "\n",
    "-> EntityRecognizer\n",
    "\n",
    "-> EntityRuler\n",
    "\n",
    "-> Lemmatizer\n",
    "\n",
    "-> Morpholog\n",
    "\n",
    "-> SentenceRecognizer\n",
    "\n",
    "-> Sentencizer\n",
    "\n",
    "-> SpanCategorizer\n",
    "\n",
    "-> Tagger\n",
    "\n",
    "-> TextCategorizer\n",
    "\n",
    "-> Tok2Vec\n",
    "\n",
    "-> Tokenizer\n",
    "\n",
    "-> TrainablePipe\n",
    "\n",
    "-> Transformer"
   ]
  },
  {
   "cell_type": "markdown",
   "metadata": {
    "id": "PSGezJs8Vy40"
   },
   "source": [
    "# Matchers\n",
    "The Matcher allows you to look for words and phrases by applying rules that describe their token properties. Token annotations (such as text or part-of-speech tags) and lexical attributes such as Token.is punct can be referred to by rules. You can retrieve the matched tokens in context by applying the matcher on a Doc. <br>\n",
    "-> DependencyMatcher\n",
    "\n",
    "-> Matcher\n",
    "\n",
    "-> PhraseMatcher"
   ]
  },
  {
   "cell_type": "markdown",
   "metadata": {
    "id": "3_YZhr1ZX95l"
   },
   "source": [
    "# Add Pipes: A Guide\n",
    "Typically, you'll utilise a pre-made spaCy model. However, in some circumstances, a standard model will not meet your requirements or will perform a given task extremely slowly. Sentence tokenization is an example of this. Think about if you had a document that contained about a million sentences. Your model would take a very long time to parse and distinguish those 1 million sentences, even if you utilised the small English model. Making a blank English model in this case and simply adding the Sentencizer to it is the best course of action.\n",
    "The reason is that each pipe in a pipeline will be enabled (unless specified), which implies that each pipe from the Dependency Parser to named entity recognition will be applied to your data. This is an extremely inefficient use of computational resources and time. This task could take the small model hours to complete. This time can be cut down to a matter of minutes by just building a blank model and adding a Sentencizer to it.\n",
    "\n",
    "\n",
    "\n",
    "Let's start by making a blank model."
   ]
  },
  {
   "cell_type": "code",
   "execution_count": null,
   "metadata": {
    "id": "1sUt72XAQ3q7"
   },
   "outputs": [],
   "source": [
    "nlp1 = spacy.blank(\"en\")\n"
   ]
  },
  {
   "cell_type": "markdown",
   "metadata": {
    "id": "ZMU29l2Baamq"
   },
   "source": [
    "If you look at this, you'll see that we used spacy.blank() instead of spacy.load(). A language's two letter combination, in this case en for English, is all that is required to generate a blank model. Let's now add a new pipe to it using the add pipe() function. Simply a sentencizer will be added."
   ]
  },
  {
   "cell_type": "code",
   "execution_count": null,
   "metadata": {
    "colab": {
     "base_uri": "https://localhost:8080/"
    },
    "id": "O8iQpDwqZwzL",
    "outputId": "357f3a23-9f1a-4653-97ac-2aff915243b5"
   },
   "outputs": [
    {
     "data": {
      "text/plain": [
       "<spacy.pipeline.sentencizer.Sentencizer at 0x7f91b103b0a0>"
      ]
     },
     "execution_count": 231,
     "metadata": {},
     "output_type": "execute_result"
    }
   ],
   "source": [
    "nlp1.add_pipe(\"sentencizer\")"
   ]
  },
  {
   "cell_type": "code",
   "execution_count": null,
   "metadata": {
    "colab": {
     "base_uri": "https://localhost:8080/"
    },
    "id": "srqXRIhAakBT",
    "outputId": "363d8d36-e9c3-4cc0-a0c2-ad48a45f70a1"
   },
   "outputs": [
    {
     "name": "stdout",
     "output_type": "stream",
     "text": [
      "27\n",
      "CPU times: user 33.4 ms, sys: 1.03 ms, total: 34.4 ms\n",
      "Wall time: 83.1 ms\n"
     ]
    }
   ],
   "source": [
    "%%time\n",
    "doc = nlp1(text)\n",
    "print (len(list(doc.sents)))"
   ]
  },
  {
   "cell_type": "code",
   "execution_count": null,
   "metadata": {
    "colab": {
     "base_uri": "https://localhost:8080/"
    },
    "id": "QPioooo5bOBL",
    "outputId": "843bf663-a257-426a-9174-8e75bf1f1b70"
   },
   "outputs": [
    {
     "name": "stdout",
     "output_type": "stream",
     "text": [
      "27\n",
      "CPU times: user 952 ms, sys: 37.3 ms, total: 989 ms\n",
      "Wall time: 992 ms\n"
     ]
    }
   ],
   "source": [
    "%%time\n",
    "nlp = spacy.load(\"en_core_web_sm\")\n",
    "doc = nlp(text)\n",
    "print (len(list(doc.sents)))"
   ]
  },
  {
   "cell_type": "markdown",
   "metadata": {
    "id": "S2qlgyPNbXsY"
   },
   "source": [
    "Note that there is just 27 sentences in the ww2 _data file and the difference is obvious. When there is a file that contains millions of sentences then the above scenario will be more evident. Often, you need to find sentences rapidly, rather than precisely. It makes sense to be aware of techniques like the one above in such circumstances."
   ]
  },
  {
   "cell_type": "markdown",
   "metadata": {
    "id": "Iq6AtxxedYNY"
   },
   "source": [
    "## Pipeline Inspection\n",
    "A pipeline can be examined in spaCy in a number of different ways. analyze_pipe() function can be used to accomplish this in a script:"
   ]
  },
  {
   "cell_type": "code",
   "execution_count": null,
   "metadata": {
    "colab": {
     "base_uri": "https://localhost:8080/"
    },
    "id": "wCB5JrsxbSwb",
    "outputId": "746a2199-95f7-4ad1-8194-a115f10d2ef8"
   },
   "outputs": [
    {
     "data": {
      "text/plain": [
       "{'summary': {'sentencizer': {'assigns': ['token.is_sent_start', 'doc.sents'],\n",
       "   'requires': [],\n",
       "   'scores': ['sents_f', 'sents_p', 'sents_r'],\n",
       "   'retokenizes': False}},\n",
       " 'problems': {'sentencizer': []},\n",
       " 'attrs': {'token.is_sent_start': {'assigns': ['sentencizer'], 'requires': []},\n",
       "  'doc.sents': {'assigns': ['sentencizer'], 'requires': []}}}"
      ]
     },
     "execution_count": 235,
     "metadata": {},
     "output_type": "execute_result"
    }
   ],
   "source": [
    "nlp1.analyze_pipes()"
   ]
  },
  {
   "cell_type": "markdown",
   "metadata": {
    "id": "2kFg6JGUfCBi"
   },
   "source": [
    "Take note of the dictionary structure. This reveals not only what is inside the pipeline, but also its arrangement. After \"summary,\" every key is a pipe. The value is a dictionary. This dictionary tells us a few distinct things. The word \"assigns\" is stated in each of these value dictionaries, and it refers to the value that a given pipe assigns to a token and document as they move through the pipeline. In some circumstances, the dictionary will have a key of \"scores.\" This describes how the machine learning model was assessed."
   ]
  },
  {
   "cell_type": "markdown",
   "metadata": {
    "id": "zKDABR8zwWf5"
   },
   "source": [
    "# Rule-Based Spacy"
   ]
  },
  {
   "cell_type": "markdown",
   "metadata": {
    "id": "M4YMBZkvzRq3"
   },
   "source": [
    "## What is actually SpaCy's EntityRuler?"
   ]
  },
  {
   "cell_type": "markdown",
   "metadata": {
    "id": "lq1VFCAf0kWb"
   },
   "source": [
    "A variety of techniques are available for implementing rules-based NER in the Python module spaCy. Its EntityRuler is one of these techniques.\n",
    "\n",
    "An individual can generate a set of patterns with associated labels using the EntityRuler, a spaCy factory. In spaCy, a factory is a collection of classes and operations that are pre-loaded and used to carry out certain tasks. In the case of the EntityRuler, the factory at hand enables the user to create an EntityRuler, give it a set of instructions, and then utilise these instructions to find and label entities.\n",
    "\n",
    "The EntityRuler can then be added to the spaCy pipeline as a new pipe when the user has created it and given it some instructions.\n",
    "\n",
    "One of the parts of a pipeline is a pipe. The goal of a pipeline is to accept input data, apply some kind of operations on that data, and then output the results as new data or extracted metadata. A pipe is one of the pipeline's constituent parts. In the instance of spaCy, there are several pipes that fulfil various functions. The tokenizer divides the text into individual tokens, the parser parses the text, and the NER recognises and labels entities. The Doc object is where all of this information is kept.\n",
    "\n",
    "Pipelines are sequential, therefore it's vital to keep that in mind. This indicates that earlier components in a pipeline influence what later components receive. Sometimes the order is crucial, which means that subsequent pipes depend on previous pipes. Sometimes, though, the order is not crucial; later pipes can operate without the earlier ones. As you construct customised spaCy models, it's crucial to keep this in mind (or any pipeline for that matter).\n",
    "\n",
    "Now we'll take a closer look at the EntityRuler as a component of a spaCy model's pipeline. Off-the-shelf spaCy models include a NER model but not an EntityRuler.An EntityRuler must first be built as a new pipe, instructed, and then added to the model in order to be included in a spaCy model. After that is finished, the user can save the updated model with the EntityRuler to disc.\n",
    "\n",
    "**Note:** The detailed documentation of EntityRuler can be found at https://spacy.io/api/entityruler"
   ]
  },
  {
   "cell_type": "code",
   "execution_count": null,
   "metadata": {
    "colab": {
     "base_uri": "https://localhost:8080/"
    },
    "id": "BvbNmbW4dy9q",
    "outputId": "bb978aa6-0bec-453b-99e8-0a85ef20d9fe"
   },
   "outputs": [
    {
     "name": "stdout",
     "output_type": "stream",
     "text": [
      "Sialkot PERSON\n",
      "Punjab GPE\n",
      "Pakistan GPE\n",
      "Sialkot District FAC\n",
      "Pakistan GPE\n"
     ]
    }
   ],
   "source": [
    "#Import the requisite library\n",
    "import spacy\n",
    "\n",
    "#Load the spaCy Small Model\n",
    "nlp = spacy.load(\"en_core_web_sm\")\n",
    "\n",
    "#Sample text\n",
    "text = \"\"\"Sialkot is a city located in Punjab, Pakistan. It is the capital of Sialkot District and the 13th most populous city in Pakistan. \"\"\"\n",
    "\n",
    "#Create the Doc object\n",
    "doc = nlp(text)\n",
    "\n",
    "#extract entities\n",
    "for ent in doc.ents:\n",
    "    print (ent.text, ent.label_)"
   ]
  },
  {
   "cell_type": "markdown",
   "metadata": {
    "id": "jDebntot-4A5"
   },
   "source": [
    "Some results may differ depending on the model version you're using. These are the results with small model of spaCy.<br>\n",
    "Off-the-shelf models frequently fail in the domains in which we want to use them because they have not been trained on texts particular to those domains. However, we can fix this by either using spaCy's EntityRuler or by developing a new model. As we will see in the next, we can easily achieve both with spaCy's EntityRuler.<br>\n",
    "**As you can see in the sample text, Sialkot is a geopolitical but labeled as person entity. For now, let’s first remedy the issue by giving the model instructions for correctly identifying Sialkot. For simplicity, we will use spaCy’s GPE label.**\n"
   ]
  },
  {
   "cell_type": "markdown",
   "metadata": {
    "id": "Q-A5H3wi9nJ5"
   },
   "source": [
    "**Note that off-the shelf spaCy model NER labeled the 17 types of entities as follow:** <br>\n",
    "PERSON:      People, including fictional.<br>\n",
    "NORP:        Nationalities or religious or political groups.<br>\n",
    "FAC:         Buildings, airports, highways, bridges, etc.<br>\n",
    "ORG:         Companies, agencies, institutions, etc.<br>\n",
    "GPE:         Countries, cities, states.<br>\n",
    "LOC:         Non-GPE locations, mountain ranges, bodies of water.<br>\n",
    "PRODUCT:     Objects, vehicles, foods, etc. (Not services.)<br>\n",
    "EVENT:       Named hurricanes, battles, wars, sports events, etc.<br>\n",
    "WORK_OF_ART: Titles of books, songs, etc.<br>\n",
    "LAW:         Named documents made into laws.<br>\n",
    "LANGUAGE:    Any named language.<br>\n",
    "DATE:        Absolute or relative dates or periods.<br>\n",
    "TIME:        Times smaller than a day.<br>\n",
    "PERCENT:     Percentage, including ”%“.<br>\n",
    "MONEY:       Monetary values, including unit.<br>\n",
    "QUANTITY:    Measurements, as of weight or distance.<br>\n",
    "ORDINAL:     “first”, “second”, etc.<br>\n",
    "CARDINAL:    Numerals that do not fall under another type<br>"
   ]
  },
  {
   "cell_type": "code",
   "execution_count": null,
   "metadata": {
    "colab": {
     "base_uri": "https://localhost:8080/"
    },
    "id": "_0JBGRxu5FeL",
    "outputId": "b243757a-8176-45e6-9830-d4f31fbffcda"
   },
   "outputs": [
    {
     "name": "stdout",
     "output_type": "stream",
     "text": [
      "Sialkot PERSON\n",
      "Punjab GPE\n",
      "Pakistan GPE\n",
      "Sialkot District FAC\n",
      "Pakistan GPE\n"
     ]
    }
   ],
   "source": [
    "#Import the requisite library\n",
    "import spacy\n",
    "\n",
    "#Load the spaCy Small Model\n",
    "nlp = spacy.load(\"en_core_web_sm\")\n",
    "\n",
    "#Sample text\n",
    "text = \"\"\"Sialkot is a city located in Punjab, Pakistan. It is the capital of Sialkot District and the 13th most populous city in Pakistan. \"\"\"\n",
    "\n",
    "#Create the EntityRuler\n",
    "ruler = nlp.add_pipe(\"entity_ruler\")\n",
    "\n",
    "#List of Entities and Patterns\n",
    "patterns = [\n",
    "                {\"label\": \"GPE\", \"pattern\": \"Sialkot\"}\n",
    "            ]\n",
    "\n",
    "ruler.add_patterns(patterns)\n",
    "\n",
    "#Create the Doc object\n",
    "doc = nlp(text)\n",
    "\n",
    "#extract entities\n",
    "for ent in doc.ents:\n",
    "    print (ent.text, ent.label_)"
   ]
  },
  {
   "cell_type": "markdown",
   "metadata": {
    "id": "WA0cji0_HHfC"
   },
   "source": [
    "You accomplished everything correctly if you ran the aforementioned code and got the same result. This strategy didn't work. Why? The concept of pipelines is the key to the solution. However, by default, spaCy adds a new pipe at the end of the pipeline even though we constructed and added the EntityRuler to the pipeline of the spaCy model. Let's utilise spaCy's analyze pipes function to view the pipeline ()."
   ]
  },
  {
   "cell_type": "code",
   "execution_count": null,
   "metadata": {
    "colab": {
     "base_uri": "https://localhost:8080/"
    },
    "id": "l9mbDPNN9zuz",
    "outputId": "a933db63-e8d6-4aa1-8fba-1813b44defb0"
   },
   "outputs": [
    {
     "data": {
      "text/plain": [
       "{'summary': {'tok2vec': {'assigns': ['doc.tensor'],\n",
       "   'requires': [],\n",
       "   'scores': [],\n",
       "   'retokenizes': False},\n",
       "  'tagger': {'assigns': ['token.tag'],\n",
       "   'requires': [],\n",
       "   'scores': ['tag_acc'],\n",
       "   'retokenizes': False},\n",
       "  'parser': {'assigns': ['token.dep',\n",
       "    'token.head',\n",
       "    'token.is_sent_start',\n",
       "    'doc.sents'],\n",
       "   'requires': [],\n",
       "   'scores': ['dep_uas',\n",
       "    'dep_las',\n",
       "    'dep_las_per_type',\n",
       "    'sents_p',\n",
       "    'sents_r',\n",
       "    'sents_f'],\n",
       "   'retokenizes': False},\n",
       "  'attribute_ruler': {'assigns': [],\n",
       "   'requires': [],\n",
       "   'scores': [],\n",
       "   'retokenizes': False},\n",
       "  'lemmatizer': {'assigns': ['token.lemma'],\n",
       "   'requires': [],\n",
       "   'scores': ['lemma_acc'],\n",
       "   'retokenizes': False},\n",
       "  'ner': {'assigns': ['doc.ents', 'token.ent_iob', 'token.ent_type'],\n",
       "   'requires': [],\n",
       "   'scores': ['ents_f', 'ents_p', 'ents_r', 'ents_per_type'],\n",
       "   'retokenizes': False},\n",
       "  'entity_ruler': {'assigns': ['doc.ents', 'token.ent_type', 'token.ent_iob'],\n",
       "   'requires': [],\n",
       "   'scores': ['ents_f', 'ents_p', 'ents_r', 'ents_per_type'],\n",
       "   'retokenizes': False}},\n",
       " 'problems': {'tok2vec': [],\n",
       "  'tagger': [],\n",
       "  'parser': [],\n",
       "  'attribute_ruler': [],\n",
       "  'lemmatizer': [],\n",
       "  'ner': [],\n",
       "  'entity_ruler': []},\n",
       " 'attrs': {'token.dep': {'assigns': ['parser'], 'requires': []},\n",
       "  'token.ent_type': {'assigns': ['ner', 'entity_ruler'], 'requires': []},\n",
       "  'token.is_sent_start': {'assigns': ['parser'], 'requires': []},\n",
       "  'token.head': {'assigns': ['parser'], 'requires': []},\n",
       "  'token.tag': {'assigns': ['tagger'], 'requires': []},\n",
       "  'doc.tensor': {'assigns': ['tok2vec'], 'requires': []},\n",
       "  'doc.sents': {'assigns': ['parser'], 'requires': []},\n",
       "  'doc.ents': {'assigns': ['ner', 'entity_ruler'], 'requires': []},\n",
       "  'token.ent_iob': {'assigns': ['ner', 'entity_ruler'], 'requires': []},\n",
       "  'token.lemma': {'assigns': ['lemmatizer'], 'requires': []}}}"
      ]
     },
     "execution_count": 6,
     "metadata": {},
     "output_type": "execute_result"
    }
   ],
   "source": [
    "nlp.analyze_pipes()\n"
   ]
  },
  {
   "cell_type": "markdown",
   "metadata": {
    "id": "RcQqOmrKIHfP"
   },
   "source": [
    "It can be a little challenging to read at first, but what it shows us is the arrangement of our pipes as well as some other important details about each pipe. We can see that \"entity ruler\" is positioned behind \"ner\" if we locate it.\n",
    "\n",
    "As seen in the following example, we must place our EntityRuler behind the \"ner\" pipe in order for it to have primacy:<br>\n",
    "ruler = nlp.add_pipe(“entity_ruler”, before=”ner”)"
   ]
  },
  {
   "cell_type": "code",
   "execution_count": null,
   "metadata": {
    "colab": {
     "base_uri": "https://localhost:8080/"
    },
    "id": "16c57NDYHK4M",
    "outputId": "3bc2d60f-ae10-4d8b-d7c1-626c64d8d0b3"
   },
   "outputs": [
    {
     "name": "stdout",
     "output_type": "stream",
     "text": [
      "Sialkot GPE\n",
      "Punjab GPE\n",
      "Pakistan GPE\n",
      "Sialkot GPE\n",
      "Pakistan GPE\n"
     ]
    }
   ],
   "source": [
    "#Import the requisite library\n",
    "import spacy\n",
    "\n",
    "#Load the spaCy Small Model\n",
    "nlp = spacy.load(\"en_core_web_sm\")\n",
    "\n",
    "#Sample text\n",
    "text = \"\"\"Sialkot is a city located in Punjab, Pakistan. It is the capital of Sialkot District and the 13th most populous city in Pakistan. \"\"\"\n",
    "\n",
    "#Create the EntityRuler after ner\n",
    "ruler = nlp.add_pipe('entity_ruler', before='ner')\n",
    "\n",
    "#List of Entities and Patterns\n",
    "patterns = [\n",
    "                {\"label\": \"GPE\", \"pattern\": \"Sialkot\"}\n",
    "            ]\n",
    "\n",
    "ruler.add_patterns(patterns)\n",
    "\n",
    "#Create the Doc object\n",
    "doc = nlp(text)\n",
    "\n",
    "#extract entities\n",
    "for ent in doc.ents:\n",
    "    print (ent.text, ent.label_)"
   ]
  },
  {
   "cell_type": "code",
   "execution_count": null,
   "metadata": {
    "colab": {
     "base_uri": "https://localhost:8080/"
    },
    "id": "Jnwg34h6ILed",
    "outputId": "3c94c8d2-bf2a-4243-dd48-c0b20e04b896"
   },
   "outputs": [
    {
     "data": {
      "text/plain": [
       "{'summary': {'tok2vec': {'assigns': ['doc.tensor'],\n",
       "   'requires': [],\n",
       "   'scores': [],\n",
       "   'retokenizes': False},\n",
       "  'tagger': {'assigns': ['token.tag'],\n",
       "   'requires': [],\n",
       "   'scores': ['tag_acc'],\n",
       "   'retokenizes': False},\n",
       "  'parser': {'assigns': ['token.dep',\n",
       "    'token.head',\n",
       "    'token.is_sent_start',\n",
       "    'doc.sents'],\n",
       "   'requires': [],\n",
       "   'scores': ['dep_uas',\n",
       "    'dep_las',\n",
       "    'dep_las_per_type',\n",
       "    'sents_p',\n",
       "    'sents_r',\n",
       "    'sents_f'],\n",
       "   'retokenizes': False},\n",
       "  'attribute_ruler': {'assigns': [],\n",
       "   'requires': [],\n",
       "   'scores': [],\n",
       "   'retokenizes': False},\n",
       "  'lemmatizer': {'assigns': ['token.lemma'],\n",
       "   'requires': [],\n",
       "   'scores': ['lemma_acc'],\n",
       "   'retokenizes': False},\n",
       "  'entity_ruler': {'assigns': ['doc.ents', 'token.ent_type', 'token.ent_iob'],\n",
       "   'requires': [],\n",
       "   'scores': ['ents_f', 'ents_p', 'ents_r', 'ents_per_type'],\n",
       "   'retokenizes': False},\n",
       "  'ner': {'assigns': ['doc.ents', 'token.ent_iob', 'token.ent_type'],\n",
       "   'requires': [],\n",
       "   'scores': ['ents_f', 'ents_p', 'ents_r', 'ents_per_type'],\n",
       "   'retokenizes': False}},\n",
       " 'problems': {'tok2vec': [],\n",
       "  'tagger': [],\n",
       "  'parser': [],\n",
       "  'attribute_ruler': [],\n",
       "  'lemmatizer': [],\n",
       "  'entity_ruler': [],\n",
       "  'ner': []},\n",
       " 'attrs': {'token.dep': {'assigns': ['parser'], 'requires': []},\n",
       "  'token.ent_type': {'assigns': ['entity_ruler', 'ner'], 'requires': []},\n",
       "  'token.is_sent_start': {'assigns': ['parser'], 'requires': []},\n",
       "  'token.head': {'assigns': ['parser'], 'requires': []},\n",
       "  'token.tag': {'assigns': ['tagger'], 'requires': []},\n",
       "  'doc.tensor': {'assigns': ['tok2vec'], 'requires': []},\n",
       "  'doc.sents': {'assigns': ['parser'], 'requires': []},\n",
       "  'doc.ents': {'assigns': ['entity_ruler', 'ner'], 'requires': []},\n",
       "  'token.ent_iob': {'assigns': ['entity_ruler', 'ner'], 'requires': []},\n",
       "  'token.lemma': {'assigns': ['lemmatizer'], 'requires': []}}}"
      ]
     },
     "execution_count": 14,
     "metadata": {},
     "output_type": "execute_result"
    }
   ],
   "source": [
    "nlp.analyze_pipes()\n"
   ]
  },
  {
   "cell_type": "markdown",
   "metadata": {
    "id": "9iVy6gY0JgZg"
   },
   "source": [
    "Now that the \"ner\" pipe has been activated, you can see that our EntityRuler is doing its job and finding and categorising entities before the NER even sees them. Its metadata has priority over the later \"ner\" pipe because it is earlier in the pipeline."
   ]
  },
  {
   "cell_type": "markdown",
   "metadata": {
    "id": "F7d_fte3Ckmg"
   },
   "source": [
    "## Complex Rules and Variance to the Entity Ruler for matching"
   ]
  },
  {
   "cell_type": "markdown",
   "metadata": {
    "id": "QMJNXVUpCpal"
   },
   "source": [
    "By passing the rules to the pattern, the spaCy EntityRuler also enables the user to introduce a variety of complicated rules and variances (using, among other things, RegEx). There are numerous arguments that can be used to the patterns. The whole list can be seen at <a href=\"https://spacy.io/usage/rule-based-matching\">Link</a>.<br> Below is an example of pattern matching using entity ruler."
   ]
  },
  {
   "cell_type": "code",
   "execution_count": null,
   "metadata": {
    "colab": {
     "base_uri": "https://localhost:8080/"
    },
    "id": "i5HwBYpvI3LC",
    "outputId": "f11c1c35-fb3a-41b5-9e02-7577c432b93d"
   },
   "outputs": [
    {
     "name": "stdout",
     "output_type": "stream",
     "text": [
      "444 4444 444 PHONE_NUMBER\n",
      "555 7866 987 PHONE_NUMBER\n"
     ]
    }
   ],
   "source": [
    "#Import the required library\n",
    "import spacy\n",
    "\n",
    "#Sample text\n",
    "text = \"This is a sample phone number 444 4444 444 and this is also 555 7866 987\"\n",
    "\n",
    "#Build upon the spaCy Small Model\n",
    "nlp = spacy.blank(\"en\")\n",
    "\n",
    "#Create the Ruler and Add it\n",
    "ruler = nlp.add_pipe(\"entity_ruler\")\n",
    "\n",
    "#List of Entities and Patterns (source: https://spacy.io/usage/rule-based-matching)\n",
    "patterns = [ {\"label\": \"PHONE_NUMBER\",\"pattern\": [\n",
    "           {'SHAPE': 'ddd'},{'SHAPE': 'dddd'},{'SHAPE': 'ddd'}]}]\n",
    "\n",
    "#add patterns to ruler\n",
    "ruler.add_patterns(patterns)\n",
    "\n",
    "\n",
    "\n",
    "#create the doc\n",
    "doc = nlp(text)\n",
    "\n",
    "#extract entities\n",
    "for ent in doc.ents:\n",
    "    print (ent.text, ent.label_)"
   ]
  },
  {
   "cell_type": "markdown",
   "metadata": {
    "id": "6c1ePHItTEDX"
   },
   "source": [
    "## spaCy's Matcher"
   ]
  },
  {
   "cell_type": "markdown",
   "metadata": {
    "id": "tEXFBANwWHtN"
   },
   "source": [
    "Matcher, a rule-based matching engine, is offered by Spacy. It uses text-extracted tokens to carry out its operations. You may also give a custom callback to the rule matcher to handle matches. The patterns established by the Matcher are used in all matches."
   ]
  },
  {
   "cell_type": "code",
   "execution_count": null,
   "metadata": {
    "colab": {
     "base_uri": "https://localhost:8080/"
    },
    "id": "LINF1GJ_BEdr",
    "outputId": "32407544-ef1d-4078-91d8-977972c13b31"
   },
   "outputs": [
    {
     "name": "stdout",
     "output_type": "stream",
     "text": [
      "Lexeme 16571425990740197027 start token 4, end token 5\n",
      "Entity Label :  EMAIL_ADDRESS\n",
      "Entity Text :  moazzamceo@mtlearners.com\n"
     ]
    }
   ],
   "source": [
    "#Basic and Simple Email Matcher \n",
    "from spacy.matcher import Matcher\n",
    "nlp = spacy.load(\"en_core_web_sm\")\n",
    "matcher = Matcher(nlp.vocab)\n",
    "pattern = [{\"LIKE_EMAIL\": True}]\n",
    "matcher.add(\"EMAIL_ADDRESS\", [pattern])\n",
    "doc = nlp(\"Sample email address: moazzamceo@mtlearners.com\")\n",
    "matches = matcher(doc)\n",
    "#extract entities\n",
    "print('Lexeme {} start token {}, end token {}'.format(matches[0][0],matches[0][1],matches[0][2]))\n",
    "print ('Entity Label : ',nlp.vocab[matches[0][0]].text)\n",
    "print ('Entity Text : ',doc[matches[0][1]:matches[0][2]])\n"
   ]
  },
  {
   "cell_type": "markdown",
   "metadata": {
    "id": "Rt0q2I4-bMdd"
   },
   "source": [
    "A lexeme is a fundamental unit of meaning. In dictionaries, lexemes are the headwords. The lexeme \"play,\" for example, can take many different forms, including playing, plays, and played. "
   ]
  },
  {
   "cell_type": "markdown",
   "metadata": {
    "id": "OpnCQ-n3cVd9"
   },
   "source": [
    "## Attributes Taken by Matcher\n",
    "\n",
    "<ol>\n",
    "  <li>ORTH - The exact verbatim of a token (str)</li>\n",
    "  <li>TEXT - The exact verbatim of a token (str)</li>\n",
    "  <li>LOWER - The lowercase form of the token text (str)</li>\n",
    "  <li>LENGTH - The length of the token text (int)</li>\n",
    "  <li>IS_ALPHA</li>\n",
    "  <li>IS_ASCII</li>\n",
    "  <li>IS_DIGIT</li>\n",
    "  <li>IS_DIGIT</li>\n",
    "  <li>IS_UPPER</li>\n",
    "  <li>IS_TITLE</li>\n",
    "  <li>IS_PUNCT</li>\n",
    "  <li>POS</li>\n",
    "  <li>SHAPE</li>\n",
    "  <li>ENT_TYPE</li>\n",
    "  <li>LEMMA</li>\n",
    "  <li>DEP</li>\n",
    "  <li>TAG</li>\n",
    "  <li>MORPH</li>\n",
    "  <li>LIKE_URL</li>\n",
    "  <li>LIKE_EMAIL</li>\n",
    "\n",
    "</ol>\n",
    "Explore Matcher attributes in more detail at  <a href=\"https://spacy.io/usage/rule-based-matching\">Click</a>"
   ]
  },
  {
   "cell_type": "markdown",
   "metadata": {
    "id": "SQhw2Hsye2dd"
   },
   "source": [
    "## Grabbing all proper nouns"
   ]
  },
  {
   "cell_type": "code",
   "execution_count": null,
   "metadata": {
    "colab": {
     "base_uri": "https://localhost:8080/"
    },
    "id": "wgPzIWtybR1t",
    "outputId": "380ce74b-149e-47da-888a-8c3d75c054eb"
   },
   "outputs": [
    {
     "name": "stdout",
     "output_type": "stream",
     "text": [
      "World\n",
      "War\n",
      "II\n",
      "Second\n",
      "World\n",
      "War\n",
      "WWII\n",
      "WW2\n",
      "Allies\n",
      "Axis\n",
      "Aircraft\n",
      "World\n",
      "War\n",
      "II\n",
      "Holocaust\n",
      "Axis\n",
      "Germany\n",
      "Japan\n",
      "World\n",
      "War\n"
     ]
    }
   ],
   "source": [
    "with open (\"/content/ww2_data.txt\", \"r\") as f:\n",
    "    text = f.read()\n",
    "\n",
    "matcher = Matcher(nlp.vocab)\n",
    "pattern = [{\"POS\": \"PROPN\"}]\n",
    "matcher.add(\"PROPER_NOUNS\", [pattern])\n",
    "doc = nlp(text)\n",
    "matches = matcher(doc)\n",
    "for match in matches[:20]:\n",
    "    print (doc[match[1]:match[2]])"
   ]
  },
  {
   "cell_type": "code",
   "execution_count": null,
   "metadata": {
    "colab": {
     "base_uri": "https://localhost:8080/"
    },
    "id": "FhSqIYMUgIQ-",
    "outputId": "85525d39-8ebd-407d-c0c9-5e508435ba2a"
   },
   "outputs": [
    {
     "name": "stdout",
     "output_type": "stream",
     "text": [
      "World\n",
      "War\n",
      "World War\n",
      "II\n",
      "World War II\n",
      "War II\n",
      "Second\n",
      "World\n",
      "Second World\n",
      "War\n"
     ]
    }
   ],
   "source": [
    "#Improving it with Multi-Word Proper Nouns\n",
    "pattern = [{\"POS\": \"PROPN\", \"OP\":'+'}]\n",
    "matcher.add(\"PROPER_NOUNS\", [pattern])\n",
    "doc = nlp(text)\n",
    "matches = matcher(doc)\n",
    "for match in matches[:10]:\n",
    "    print (doc[match[1]:match[2]])"
   ]
  },
  {
   "cell_type": "code",
   "execution_count": null,
   "metadata": {
    "colab": {
     "base_uri": "https://localhost:8080/"
    },
    "id": "fSMH47QohXBB",
    "outputId": "88a2aad1-2904-4743-a31a-22fb7305aaf8"
   },
   "outputs": [
    {
     "name": "stdout",
     "output_type": "stream",
     "text": [
      "World War I. World War II\n",
      "World War II\n",
      "Second World War\n",
      "World War II\n",
      "World War II\n",
      "Spanish Civil War\n",
      "World War II\n",
      "World War II\n",
      "Second Italo\n",
      "Ethiopian War\n"
     ]
    }
   ],
   "source": [
    "#Greedy Keyword Argument\n",
    "pattern = [{\"POS\": \"PROPN\", \"OP\": \"+\"}]\n",
    "matcher.add(\"PROPER_NOUNS\", [pattern], greedy='LONGEST')\n",
    "doc = nlp(text)\n",
    "matches = matcher(doc)\n",
    "for match in matches[:10]:\n",
    "    print (doc[match[1]:match[2]])"
   ]
  },
  {
   "cell_type": "markdown",
   "metadata": {
    "id": "dcbOeB75jSzi"
   },
   "source": [
    "# RegEx Role in spaCy"
   ]
  },
  {
   "cell_type": "markdown",
   "metadata": {
    "id": "Tf1651cxjg0T"
   },
   "source": [
    "## Regular Expressions (RegEx)\n",
    "Regular Expressions, abbreviated as RegEx, are a method of achieving complex string matching based on simple or complicated patterns. It can be used to discover and retrieve patterns, as well as replace matching patterns in a string with another pattern. RegEx can provide more thorough searching and are completely integrated with the majority of search engines. RegEx is used by almost all data scientists, especially those that work with texts, at some point in their workflow, from data searching to data cleaning to putting machine learning models into practise."
   ]
  },
  {
   "cell_type": "markdown",
   "metadata": {
    "id": "mUzx8szxlpDF"
   },
   "source": [
    "## Beneﬁts of RegEx\n",
    "\n",
    "\n",
    "<ol>\n",
    "<li>Because of its complicated syntax, it allows programmers to express robust rules in limited space.</li>\n",
    "<li>It enables the researcher to discover many sorts of variation in strings.</li>\n",
    "<li>In comparison to other techniques, it can work incredibly swiftly.</li>\n",
    "\n"
   ]
  },
  {
   "cell_type": "markdown",
   "metadata": {
    "id": "zuGlKyN8mEcu"
   },
   "source": [
    "## Drawbacks of RegEx\n",
    "Despite these benefits, RegEx has a few drawbacks.\n",
    "<ol>\n",
    "<li>Its syntax is quite tough for newbies.</li>\n",
    "<li>To make the system effective, a domain expert must collaborate with the programmer and consider all possible variations of a pattern in texts.</li>\n",
    "</ol>"
   ]
  },
  {
   "cell_type": "markdown",
   "metadata": {
    "id": "YMD0sEfvm6Ml"
   },
   "source": [
    "## RegEx in Python\n"
   ]
  },
  {
   "cell_type": "markdown",
   "metadata": {
    "id": "HtFIw-4UpJIV"
   },
   "source": [
    "Any numerical sequence that consists of one or two digits followed by the month will fit this pattern."
   ]
  },
  {
   "cell_type": "code",
   "execution_count": null,
   "metadata": {
    "colab": {
     "base_uri": "https://localhost:8080/"
    },
    "id": "NlXVt2T4iQTA",
    "outputId": "8f6b416e-63c1-4789-8eaa-f11b382f4f53"
   },
   "outputs": [
    {
     "name": "stdout",
     "output_type": "stream",
     "text": [
      "[('5 November', '5', 'November'), ('18 September', '8', 'September')]\n"
     ]
    }
   ],
   "source": [
    "import re\n",
    "\n",
    "\"\"\"(\\d){1,2} means that we are looking for ant digit between 0 and 9 that may occur once or twice.\n",
    "Next, a space indicates the space in the string that we would expect with a date. Next,(January|February|March|\n",
    "April|May|June|July|August|September|October|November|December) indicates another component\n",
    "of the pattern (because it is parentheses). The | indicates the same concept as “or” in English, so either January, or February, or March, etc.\"\"\"\n",
    "\n",
    "\n",
    "pattern = r\"((\\d){1,2} (January|February|March|April|May|June|July|August|September|October|November|December))\"\n",
    "text = \"Today is 5 November. My birthday was 18 September.\"\n",
    "matches = re.findall(pattern, text)\n",
    "print (matches)"
   ]
  },
  {
   "cell_type": "code",
   "execution_count": null,
   "metadata": {
    "colab": {
     "base_uri": "https://localhost:8080/"
    },
    "id": "5EMGVsvmoxiG",
    "outputId": "41c3f478-2b1b-49f1-d4ff-39dfb8fd3f94"
   },
   "outputs": [
    {
     "name": "stdout",
     "output_type": "stream",
     "text": [
      "[('5 November', '5 November', '5', ' November', 'November', '', '', '', ''), ('September 18', '', '', '', '', 'September 18', 'September ', 'September', '8')]\n"
     ]
    }
   ],
   "source": [
    "#Add variations of pattern\n",
    "pattern = r\"(((\\d){1,2}( (January|February|March|April|May|June|July|August|September|October|November|December)))|(((January|February|March|April|May|June|July|August|September|October|November|December) )(\\d){1,2}))\"\n",
    "text = \"Today is 5 November. My birthday was September 18.\"\n",
    "matches = re.findall(pattern, text)\n",
    "print (matches)"
   ]
  },
  {
   "cell_type": "markdown",
   "metadata": {
    "id": "1HxYA_69rTW7"
   },
   "source": [
    "However, you'll notice that we have a tonne of information that is unnecessary for each match. Each match includes these elements. We can eliminate them in a number of ways. Using finditer instead of findall in RegEx is one method as follows:"
   ]
  },
  {
   "cell_type": "code",
   "execution_count": null,
   "metadata": {
    "colab": {
     "base_uri": "https://localhost:8080/"
    },
    "id": "rBR7oI1dpy97",
    "outputId": "e9824f47-9d5d-42df-eee1-573910c1872c"
   },
   "outputs": [
    {
     "name": "stdout",
     "output_type": "stream",
     "text": [
      "<callable_iterator object at 0x7f91a7871c50>\n"
     ]
    }
   ],
   "source": [
    "iter_matches = re.finditer(pattern, text)\n",
    "print (iter_matches)"
   ]
  },
  {
   "cell_type": "code",
   "execution_count": null,
   "metadata": {
    "colab": {
     "base_uri": "https://localhost:8080/"
    },
    "id": "at3YbOKlrY9v",
    "outputId": "ae0921fd-3a36-40d4-e8a0-b3c82399fa2a"
   },
   "outputs": [
    {
     "name": "stdout",
     "output_type": "stream",
     "text": [
      "Date Found:  5 November\n",
      "Date Found:  18 September\n"
     ]
    }
   ],
   "source": [
    "#This is an iterator object, we can loop over it, however, and get our results\n",
    "for hit in iter_matches:\n",
    "    start = hit.start()\n",
    "    end = hit.end()\n",
    "    print ('Date Found: ',text[start:end])"
   ]
  },
  {
   "cell_type": "markdown",
   "metadata": {
    "id": "WVH90LkRsGuH"
   },
   "source": [
    "## RegEx in spaCy"
   ]
  },
  {
   "cell_type": "markdown",
   "metadata": {
    "id": "tBPf38p1uA2D"
   },
   "source": [
    "RegEx works well with data types with consistent or largely consistent structures, such as dates, times, IP addresses, and others. RegEx is easily implemented in three pipes in spaCy: Matcher, PhraseMatcher, and EntityRuler. The fact that the Matcher and PhraseMatcher do not align the matches as doc.ents is one of their main drawbacks. We will concentrate on utilising RegEx with the EntityRuler because this is all about NER and our goal is to store the entities in the doc.ents."
   ]
  },
  {
   "cell_type": "code",
   "execution_count": null,
   "metadata": {
    "colab": {
     "base_uri": "https://localhost:8080/"
    },
    "id": "UbuJwihGsF8X",
    "outputId": "fadb5ead-1858-433d-d074-18c7e721bdc0"
   },
   "outputs": [
    {
     "name": "stdout",
     "output_type": "stream",
     "text": [
      "0341-5555555 PAK PHONE_NUMBER\n",
      "0309 8765432 PAK PHONE_NUMBER\n"
     ]
    }
   ],
   "source": [
    "#Import the requisite library\n",
    "import spacy\n",
    "\n",
    "#Sample text\n",
    "text = \"This is a sample of Pakistan number 0341-5555555. This is also 0309 8765432\"\n",
    "#Build upon the spaCy Small Model\n",
    "nlp = spacy.blank(\"en\")\n",
    "\n",
    "#Create the Ruler and Add it\n",
    "ruler = nlp.add_pipe(\"entity_ruler\")\n",
    "\n",
    "#List of Entities and Patterns (source: https://spacy.io/usage/rule-based-matching)\n",
    "patterns = [\n",
    "                {\n",
    "                    \"label\": \"PAK PHONE_NUMBER\", \"pattern\": [{\"TEXT\": {\"REGEX\": \"((\\d){4})\"}},\n",
    "                                                          {'ORTH': '-', 'OP': '?'},\n",
    "                                                         {\"TEXT\": {\"REGEX\": \"((\\d){7})\"}}\n",
    "                                                        ]\n",
    "                }\n",
    "            ]\n",
    "#add patterns to ruler\n",
    "ruler.add_patterns(patterns)\n",
    "\n",
    "\n",
    "#create the doc\n",
    "doc = nlp(text)\n",
    "\n",
    "#extract entities\n",
    "for ent in doc.ents:\n",
    "    print (ent.text, ent.label_)"
   ]
  },
  {
   "cell_type": "markdown",
   "metadata": {
    "id": "Mli9VSL7JLEg"
   },
   "source": [
    "# Custom NER Training"
   ]
  },
  {
   "cell_type": "code",
   "execution_count": 27,
   "metadata": {
    "colab": {
     "base_uri": "https://localhost:8080/"
    },
    "id": "LnMJGkDqrk3A",
    "outputId": "fd4559c8-6b78-4c9c-ffa7-edf56a177e60"
   },
   "outputs": [
    {
     "name": "stderr",
     "output_type": "stream",
     "text": [
      "100%|████████████████████████████████████████████| 8/8 [00:00<00:00, 594.20it/s]\n"
     ]
    }
   ],
   "source": [
    "from spacy.tokens import DocBin\n",
    "from tqdm import tqdm\n",
    "import json\n",
    "f = open('annotations.json')\n",
    "TRAIN_DATA = json.load(f)\n",
    "\n",
    "db = DocBin() # create a DocBin object\n",
    "\n",
    "nlp = spacy.blank(\"en\") # load a new spacy model\n",
    "db = DocBin() # create a DocBin object\n",
    "for text, annot in tqdm(TRAIN_DATA['annotations']): # data in previous format\n",
    "    doc = nlp.make_doc(text) # create doc object from text\n",
    "    ents = []\n",
    "    for start, end, label in annot[\"entities\"]: # add character indexes\n",
    "        span = doc.char_span(start, end, label=label, alignment_mode=\"contract\")\n",
    "        if span is None:\n",
    "            print(\"Skipping entity\")\n",
    "        else:\n",
    "            ents.append(span)\n",
    "    doc.ents = ents # label the text with the ents\n",
    "    db.add(doc)\n",
    "\n",
    "db.to_disk(\"./training_data.spacy\") # save the docbin object"
   ]
  },
  {
   "cell_type": "code",
   "execution_count": 30,
   "metadata": {
    "colab": {
     "base_uri": "https://localhost:8080/"
    },
    "id": "zYT1oc9BNwgg",
    "outputId": "e76cb37f-15f9-4300-dceb-30aeebd4f4dd"
   },
   "outputs": [
    {
     "name": "stdout",
     "output_type": "stream",
     "text": [
      "\u001b[38;5;2m✔ Auto-filled config with all values\u001b[0m\r\n",
      "\u001b[38;5;2m✔ Saved config\u001b[0m\r\n",
      "config.cfg\r\n",
      "You can now add your data and train your pipeline:\r\n",
      "python -m spacy train config.cfg --paths.train ./train.spacy --paths.dev ./dev.spacy\r\n"
     ]
    }
   ],
   "source": [
    "!python -m spacy init fill-config base_config.cfg config.cfg"
   ]
  },
  {
   "cell_type": "code",
   "execution_count": 31,
   "metadata": {
    "colab": {
     "base_uri": "https://localhost:8080/"
    },
    "id": "mz2s9NNePsL2",
    "outputId": "b4888634-6eec-4b03-e838-bbba14fafb0f"
   },
   "outputs": [
    {
     "name": "stdout",
     "output_type": "stream",
     "text": [
      "\u001b[38;5;4mℹ Saving to output directory: .\u001b[0m\n",
      "\u001b[38;5;4mℹ Using CPU\u001b[0m\n",
      "\u001b[1m\n",
      "=========================== Initializing pipeline ===========================\u001b[0m\n",
      "[2022-11-06 15:27:48,668] [INFO] Set up nlp object from config\n",
      "[2022-11-06 15:27:48,693] [INFO] Pipeline: ['tok2vec', 'ner']\n",
      "[2022-11-06 15:27:48,703] [INFO] Created vocabulary\n",
      "[2022-11-06 15:27:48,704] [INFO] Finished initializing nlp object\n",
      "[2022-11-06 15:27:49,127] [INFO] Initialized pipeline components: ['tok2vec', 'ner']\n",
      "\u001b[38;5;2m✔ Initialized pipeline\u001b[0m\n",
      "\u001b[1m\n",
      "============================= Training pipeline =============================\u001b[0m\n",
      "\u001b[38;5;4mℹ Pipeline: ['tok2vec', 'ner']\u001b[0m\n",
      "\u001b[38;5;4mℹ Initial learn rate: 0.001\u001b[0m\n",
      "E    #       LOSS TOK2VEC  LOSS NER  ENTS_F  ENTS_P  ENTS_R  SCORE \n",
      "---  ------  ------------  --------  ------  ------  ------  ------\n",
      "  0       0          0.00     35.67    0.00    0.00    0.00    0.00\n",
      " 78     200          3.64    573.13  100.00  100.00  100.00    1.00\n",
      "178     400          0.00      0.00  100.00  100.00  100.00    1.00\n",
      "278     600          0.00      0.00  100.00  100.00  100.00    1.00\n",
      "448     800          0.00      0.00  100.00  100.00  100.00    1.00\n",
      "648    1000          0.00      0.00  100.00  100.00  100.00    1.00\n",
      "848    1200          0.00      0.00  100.00  100.00  100.00    1.00\n",
      "1048    1400          0.00      0.00  100.00  100.00  100.00    1.00\n",
      "1248    1600          0.00      0.00  100.00  100.00  100.00    1.00\n",
      "1448    1800          0.00      0.00  100.00  100.00  100.00    1.00\n",
      "\u001b[38;5;2m✔ Saved pipeline to output directory\u001b[0m\n",
      "model-last\n"
     ]
    }
   ],
   "source": [
    "! python -m spacy train config.cfg --output ./ --paths.train ./training_data.spacy --paths.dev ./training_data.spacy"
   ]
  },
  {
   "cell_type": "code",
   "execution_count": null,
   "metadata": {
    "id": "DZenILApPwR9"
   },
   "outputs": [],
   "source": [
    "nlp_ner = spacy.load(\"model-best\")"
   ]
  },
  {
   "cell_type": "code",
   "execution_count": null,
   "metadata": {
    "colab": {
     "base_uri": "https://localhost:8080/"
    },
    "id": "a2KlPGm6QSCa",
    "outputId": "07451728-92b7-4e87-8974-017ee6898ce9"
   },
   "outputs": [
    {
     "data": {
      "text/plain": [
       "(Strawberry,)"
      ]
     },
     "execution_count": 271,
     "metadata": {},
     "output_type": "execute_result"
    }
   ],
   "source": [
    "doc = nlp_ner(\"Strawberry is a luscious, red fruit grown on plants belonging to the Rose or Rosaceae family.\") # input sample text\n",
    "doc.ents"
   ]
  },
  {
   "cell_type": "code",
   "execution_count": null,
   "metadata": {
    "colab": {
     "base_uri": "https://localhost:8080/",
     "height": 52
    },
    "id": "E7xC01fpRJIq",
    "outputId": "234ead2f-80ea-459e-db46-a3f749707d88"
   },
   "outputs": [
    {
     "data": {
      "text/html": [
       "<span class=\"tex2jax_ignore\"><div class=\"entities\" style=\"line-height: 2.5; direction: ltr\">\n",
       "<mark class=\"entity\" style=\"background: #ddd; padding: 0.45em 0.6em; margin: 0 0.25em; line-height: 1; border-radius: 0.35em;\">\n",
       "    Strawberry\n",
       "    <span style=\"font-size: 0.8em; font-weight: bold; line-height: 1; border-radius: 0.35em; vertical-align: middle; margin-left: 0.5rem\">FRUIT</span>\n",
       "</mark>\n",
       " is a luscious, red fruit grown on plants belonging to the Rose or Rosaceae family.</div></span>"
      ],
      "text/plain": [
       "<IPython.core.display.HTML object>"
      ]
     },
     "metadata": {},
     "output_type": "display_data"
    }
   ],
   "source": [
    "spacy.displacy.render(doc, style=\"ent\", jupyter=True) # display in Jupyter"
   ]
  },
  {
   "cell_type": "code",
   "execution_count": null,
   "metadata": {
    "colab": {
     "base_uri": "https://localhost:8080/"
    },
    "id": "ATkJB6CKQUGQ",
    "outputId": "7e13fb35-c291-44c7-ba00-dca1cdaacd6b"
   },
   "outputs": [
    {
     "data": {
      "text/plain": [
       "(Mangoes,)"
      ]
     },
     "execution_count": 273,
     "metadata": {},
     "output_type": "execute_result"
    }
   ],
   "source": [
    "doc1=nlp_ner(\"Best Quality Mangoes in Pakistan\")\n",
    "doc1.ents"
   ]
  },
  {
   "cell_type": "code",
   "execution_count": null,
   "metadata": {
    "colab": {
     "base_uri": "https://localhost:8080/",
     "height": 52
    },
    "id": "OLbfG_y4Qloc",
    "outputId": "ea12c82c-8c3f-4e80-c978-82e87f77356e"
   },
   "outputs": [
    {
     "data": {
      "text/html": [
       "<span class=\"tex2jax_ignore\"><div class=\"entities\" style=\"line-height: 2.5; direction: ltr\">Best Quality \n",
       "<mark class=\"entity\" style=\"background: #ddd; padding: 0.45em 0.6em; margin: 0 0.25em; line-height: 1; border-radius: 0.35em;\">\n",
       "    Mangoes\n",
       "    <span style=\"font-size: 0.8em; font-weight: bold; line-height: 1; border-radius: 0.35em; vertical-align: middle; margin-left: 0.5rem\">FRUIT</span>\n",
       "</mark>\n",
       " in Pakistan</div></span>"
      ],
      "text/plain": [
       "<IPython.core.display.HTML object>"
      ]
     },
     "metadata": {},
     "output_type": "display_data"
    }
   ],
   "source": [
    "spacy.displacy.render(doc1, style=\"ent\", jupyter=True) # display in Jupyter"
   ]
  },
  {
   "cell_type": "markdown",
   "metadata": {},
   "source": [
    "### Thank you \n",
    "## Author\n",
    "\n",
    "<a href=\"https://www.linkedin.com/in/meermoazzam/\" target=\"_blank\">Moazzam Ali</a>\n",
    "\n",
    "\n",
    "<hr>\n",
    "\n",
    "## <h3 align=\"center\"> © <a href=\"https://www.linkedin.com/company/mt-learners/\" target=\"_blank\">MT Learners</a> 2022. All rights reserved. <h3/>\n"
   ]
  }
 ],
 "metadata": {
  "colab": {
   "collapsed_sections": [
    "pZ54k1QNEjXo"
   ],
   "provenance": []
  },
  "kernelspec": {
   "display_name": "Python 3",
   "language": "python",
   "name": "python3"
  },
  "language_info": {
   "codemirror_mode": {
    "name": "ipython",
    "version": 3
   },
   "file_extension": ".py",
   "mimetype": "text/x-python",
   "name": "python",
   "nbconvert_exporter": "python",
   "pygments_lexer": "ipython3",
   "version": "3.9.12"
  }
 },
 "nbformat": 4,
 "nbformat_minor": 1
}
